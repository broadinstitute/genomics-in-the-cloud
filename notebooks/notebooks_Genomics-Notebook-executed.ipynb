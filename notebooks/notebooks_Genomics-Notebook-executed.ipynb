{
 "cells": [
  {
   "cell_type": "markdown",
   "metadata": {},
   "source": [
    "**Genomics Notebook v1**  \n",
    "This notebook is part of the materials distributed with [Genomics in the Cloud](https://oreil.ly/genomics-cloud), an O'Reilly book by Geraldine A. Van der Auwera and Brian D. O'Connor. You can read it [online in the O'Reilly library](https://learning.oreilly.com/library/view/genomics-in-the/9781491975183/)\n",
    "or [order the hardcopy on Amazon](https://www.amazon.com/Genomics-Cloud-GATK-Spark-Docker/dp/1491975199/). The notebook can be used on its own; the book provides additional context, instructions and discussion.\n",
    "\n",
    "**Runtime configuration**   \n",
    "The exercises in this notebook were developed in a default [Terra](https://app.terra.bio/) runtime environmen (Jan 14 2020) complemented by a startup script that installs GATK version 4.1.3.0 and an IGV plugin (available [here](gs://genomics-in-the-cloud/v1/scripts/install_GATK_4130_with_igv.sh)). Refer to the book or to Terra documentation for detailed instructions on filling out the runtime customization form. \n",
    "\n",
    "**Kernel**  \n",
    "By default this notebook opens on a Python 3 kernel. When you have the notebook running in EDIT mode, the upper right corner of the notebook (under the Notebook Runtime widget) should display the label `Python3`. \n",
    "\n",
    "----"
   ]
  },
  {
   "cell_type": "markdown",
   "metadata": {},
   "source": [
    "# Getting Started with Jupyter in Terra\n",
    "In this section, we run through some exercises to familiarize you with the basic usage of Jupyter notebooks in the Terra environment.\n",
    "\n",
    "\n",
    "## Running the Hello World Cells\n",
    "We start with some simple Hello World examples, first in Python, then using magic methods to do the equivalent in R and with a command-line tool call.\n",
    "\n",
    "### Python Hello World"
   ]
  },
  {
   "cell_type": "markdown",
   "metadata": {},
   "source": [
    "*Cell 1: Run the basic Hello World in Python*"
   ]
  },
  {
   "cell_type": "code",
   "execution_count": 1,
   "metadata": {},
   "outputs": [
    {
     "name": "stdout",
     "output_type": "stream",
     "text": [
      "Hello World!\n"
     ]
    }
   ],
   "source": [
    "print(\"Hello World!\")"
   ]
  },
  {
   "cell_type": "markdown",
   "metadata": {},
   "source": [
    "*Cell 2: Use a variable to parameterize the greeting*"
   ]
  },
  {
   "cell_type": "code",
   "execution_count": 2,
   "metadata": {},
   "outputs": [
    {
     "name": "stdout",
     "output_type": "stream",
     "text": [
      "Hello World!\n"
     ]
    }
   ],
   "source": [
    "greeting = \"Hello World!\"\n",
    "print(greeting)"
   ]
  },
  {
   "cell_type": "markdown",
   "metadata": {},
   "source": [
    "*Cells 3 and 4: Separate the variable declaration and `print` command to demonstrate that state is conserved across cells*"
   ]
  },
  {
   "cell_type": "code",
   "execution_count": 3,
   "metadata": {},
   "outputs": [],
   "source": [
    "greeting = \"Hello World!\""
   ]
  },
  {
   "cell_type": "code",
   "execution_count": 4,
   "metadata": {},
   "outputs": [
    {
     "name": "stdout",
     "output_type": "stream",
     "text": [
      "Hello World!\n"
     ]
    }
   ],
   "source": [
    "print(greeting)"
   ]
  },
  {
   "cell_type": "markdown",
   "metadata": {},
   "source": [
    "### R Hello World using Python magic methods"
   ]
  },
  {
   "cell_type": "markdown",
   "metadata": {},
   "source": [
    "*Cell 5: Import the `rpy` package and activate the notebook extension*"
   ]
  },
  {
   "cell_type": "code",
   "execution_count": 5,
   "metadata": {},
   "outputs": [],
   "source": [
    "import rpy2\n",
    "%load_ext rpy2.ipython"
   ]
  },
  {
   "cell_type": "markdown",
   "metadata": {},
   "source": [
    "*Cell 6: Run the R Hello World with single-line R interpretation using `%R`*"
   ]
  },
  {
   "cell_type": "code",
   "execution_count": 6,
   "metadata": {},
   "outputs": [
    {
     "name": "stdout",
     "output_type": "stream",
     "text": [
      "[1] \"Hello World!\"\n"
     ]
    },
    {
     "data": {
      "text/plain": [
       "array(['Hello World!'], dtype='<U12')"
      ]
     },
     "execution_count": 6,
     "metadata": {},
     "output_type": "execute_result"
    }
   ],
   "source": [
    "%R print (\"Hello World!\")"
   ]
  },
  {
   "cell_type": "markdown",
   "metadata": {},
   "source": [
    "*Cell 7: Run the R Hello World with a variable and with whole-cell R interpretation using `%%R`*"
   ]
  },
  {
   "cell_type": "code",
   "execution_count": 7,
   "metadata": {},
   "outputs": [
    {
     "name": "stdout",
     "output_type": "stream",
     "text": [
      "[1] \"Hello World!\"\n"
     ]
    }
   ],
   "source": [
    "%%R\n",
    "greeting <- \"Hello World!\"\n",
    "print(greeting)"
   ]
  },
  {
   "cell_type": "markdown",
   "metadata": {},
   "source": [
    "### Command-line tool Hello World using Python magic methods"
   ]
  },
  {
   "cell_type": "markdown",
   "metadata": {},
   "source": [
    "*Cell 8: Run the command-line tool `echo` using `!`*"
   ]
  },
  {
   "cell_type": "code",
   "execution_count": 8,
   "metadata": {},
   "outputs": [
    {
     "name": "stdout",
     "output_type": "stream",
     "text": [
      "Hello World!\r\n"
     ]
    }
   ],
   "source": [
    "! echo \"Hello World!\""
   ]
  },
  {
   "cell_type": "markdown",
   "metadata": {},
   "source": [
    "## Using gsutil to Interact with Google Cloud Storage Buckets\n",
    "Now that we know how to call command-line tool from the notebook, we look at how to pull in data from GCS buckets "
   ]
  },
  {
   "cell_type": "markdown",
   "metadata": {},
   "source": [
    "*Cell 9: List the bucket contents*"
   ]
  },
  {
   "cell_type": "code",
   "execution_count": 9,
   "metadata": {},
   "outputs": [
    {
     "name": "stdout",
     "output_type": "stream",
     "text": [
      "gs://genomics-in-the-cloud/hello.txt\r\n",
      "gs://genomics-in-the-cloud/v1/\r\n"
     ]
    }
   ],
   "source": [
    "! gsutil ls gs://genomics-in-the-cloud/"
   ]
  },
  {
   "cell_type": "markdown",
   "metadata": {},
   "source": [
    "*Cell 10: Copy a file from the bucket to the notebook's local storage*"
   ]
  },
  {
   "cell_type": "code",
   "execution_count": 10,
   "metadata": {},
   "outputs": [
    {
     "name": "stdout",
     "output_type": "stream",
     "text": [
      "Copying gs://genomics-in-the-cloud/hello.txt...\n",
      "/ [1 files][   20.0 B/   20.0 B]                                                \n",
      "Operation completed over 1 objects/20.0 B.                                       \n"
     ]
    }
   ],
   "source": [
    "! gsutil cp gs://genomics-in-the-cloud/hello.txt ."
   ]
  },
  {
   "cell_type": "markdown",
   "metadata": {},
   "source": [
    "*Cell 11: Read the contents of a locally-stored text file*"
   ]
  },
  {
   "cell_type": "code",
   "execution_count": 11,
   "metadata": {},
   "outputs": [
    {
     "name": "stdout",
     "output_type": "stream",
     "text": [
      "HELLO, DEAR READER!\r\n"
     ]
    }
   ],
   "source": [
    "! cat hello.txt"
   ]
  },
  {
   "cell_type": "markdown",
   "metadata": {},
   "source": [
    "## Setting Up a Variable Pointing to the Germline Data in the Book Bucket\n",
    "We're going to want to access the data in the bucket multiple times, so we make a variable to avoid hardcoding and repeating file paths."
   ]
  },
  {
   "cell_type": "markdown",
   "metadata": {},
   "source": [
    "*Cell 12: Create a Python variable*"
   ]
  },
  {
   "cell_type": "code",
   "execution_count": 12,
   "metadata": {},
   "outputs": [],
   "source": [
    "GERM_DATA = \"gs://genomics-in-the-cloud/v1/data/germline\""
   ]
  },
  {
   "cell_type": "markdown",
   "metadata": {},
   "source": [
    "*Cell 13: Use the variable to list the bucket contents*  \n",
    "*(Erratum: this cell was erroneously numbered 14 in the initial print run)*"
   ]
  },
  {
   "cell_type": "code",
   "execution_count": 13,
   "metadata": {},
   "outputs": [
    {
     "name": "stdout",
     "output_type": "stream",
     "text": [
      "gs://genomics-in-the-cloud/v1/data/germline/bams/\r\n",
      "gs://genomics-in-the-cloud/v1/data/germline/gvcfs/\r\n",
      "gs://genomics-in-the-cloud/v1/data/germline/intervals/\r\n",
      "gs://genomics-in-the-cloud/v1/data/germline/ref/\r\n",
      "gs://genomics-in-the-cloud/v1/data/germline/resources/\r\n",
      "gs://genomics-in-the-cloud/v1/data/germline/vcfs/\r\n"
     ]
    }
   ],
   "source": [
    "! gsutil ls {GERM_DATA}"
   ]
  },
  {
   "cell_type": "markdown",
   "metadata": {},
   "source": [
    "*Cell 14: List the `bams` directory to get the paths of the files it contains*"
   ]
  },
  {
   "cell_type": "code",
   "execution_count": 14,
   "metadata": {},
   "outputs": [
    {
     "name": "stdout",
     "output_type": "stream",
     "text": [
      "gs://genomics-in-the-cloud/v1/data/germline/bams/father.bai\r\n",
      "gs://genomics-in-the-cloud/v1/data/germline/bams/father.bam\r\n",
      "gs://genomics-in-the-cloud/v1/data/germline/bams/mother.bai\r\n",
      "gs://genomics-in-the-cloud/v1/data/germline/bams/mother.bam\r\n",
      "gs://genomics-in-the-cloud/v1/data/germline/bams/motherNEX.bai\r\n",
      "gs://genomics-in-the-cloud/v1/data/germline/bams/motherNEX.bam\r\n",
      "gs://genomics-in-the-cloud/v1/data/germline/bams/motherRnaseq.bai\r\n",
      "gs://genomics-in-the-cloud/v1/data/germline/bams/motherRnaseq.bam\r\n",
      "gs://genomics-in-the-cloud/v1/data/germline/bams/son.bai\r\n",
      "gs://genomics-in-the-cloud/v1/data/germline/bams/son.bam\r\n"
     ]
    }
   ],
   "source": [
    "! gsutil ls {GERM_DATA}/bams"
   ]
  },
  {
   "cell_type": "markdown",
   "metadata": {},
   "source": [
    "*Cell 15: Copy the BAM file and index for the mother*"
   ]
  },
  {
   "cell_type": "code",
   "execution_count": 15,
   "metadata": {},
   "outputs": [
    {
     "name": "stdout",
     "output_type": "stream",
     "text": [
      "Copying gs://genomics-in-the-cloud/v1/data/germline/bams/mother.bai...\n",
      "Copying gs://genomics-in-the-cloud/v1/data/germline/bams/mother.bam...          \n",
      "- [2 files][ 23.8 MiB/ 23.8 MiB]                                                \n",
      "Operation completed over 2 objects/23.8 MiB.                                     \n"
     ]
    }
   ],
   "source": [
    "! gsutil cp {GERM_DATA}/bams/mother.ba* ."
   ]
  },
  {
   "cell_type": "markdown",
   "metadata": {},
   "source": [
    "*Cell 16: List the local working directory to confirm the success of the copy operation*"
   ]
  },
  {
   "cell_type": "code",
   "execution_count": 16,
   "metadata": {},
   "outputs": [
    {
     "name": "stdout",
     "output_type": "stream",
     "text": [
      "Genomics-Notebook-executed.ipynb  hello.txt   mother.bam\r\n",
      "Genomics-Notebook.ipynb\t\t  mother.bai\r\n"
     ]
    }
   ],
   "source": [
    "! ls ."
   ]
  },
  {
   "cell_type": "markdown",
   "metadata": {},
   "source": [
    "## Setting Up a Sandbox and Saving Output Files to the Workspace Bucket\n",
    "Now that we know how to bring in data, let's go over how we're going to save the outputs of any analyses we run."
   ]
  },
  {
   "cell_type": "markdown",
   "metadata": {},
   "source": [
    "*Cell 17: Create a new directory, ignoring any errors if the path already exists (`-p`)*"
   ]
  },
  {
   "cell_type": "code",
   "execution_count": 17,
   "metadata": {},
   "outputs": [],
   "source": [
    "! mkdir -p sandbox/"
   ]
  },
  {
   "cell_type": "markdown",
   "metadata": {},
   "source": [
    "*Cell 18: Move the mother BAM and index files that we copied earlier to the sandbox*"
   ]
  },
  {
   "cell_type": "code",
   "execution_count": 18,
   "metadata": {},
   "outputs": [],
   "source": [
    "! mv mother.ba* sandbox/"
   ]
  },
  {
   "cell_type": "markdown",
   "metadata": {},
   "source": [
    "*Cell 19: List the contents of the sandbox to check that everything is where you expect it to be*"
   ]
  },
  {
   "cell_type": "code",
   "execution_count": 19,
   "metadata": {},
   "outputs": [
    {
     "name": "stdout",
     "output_type": "stream",
     "text": [
      "mother.bai  mother.bam\r\n"
     ]
    }
   ],
   "source": [
    "! ls sandbox"
   ]
  },
  {
   "cell_type": "markdown",
   "metadata": {},
   "source": [
    "*Cell 20: Import the `os` package, look up the value of the `WORKSPACE_BUCKET` environment variable (set by Terra at the kernel level) and store it in a Python variable for easy access*"
   ]
  },
  {
   "cell_type": "code",
   "execution_count": 20,
   "metadata": {},
   "outputs": [],
   "source": [
    "import os\n",
    "WS_BUCKET = os.environ['WORKSPACE_BUCKET']"
   ]
  },
  {
   "cell_type": "markdown",
   "metadata": {},
   "source": [
    "*Cell 21: Check the value of your new variable*"
   ]
  },
  {
   "cell_type": "code",
   "execution_count": 21,
   "metadata": {},
   "outputs": [
    {
     "name": "stdout",
     "output_type": "stream",
     "text": [
      "gs://fc-a955f70a-e7db-4f26-a86c-2f00bf178e19\n"
     ]
    }
   ],
   "source": [
    "print(WS_BUCKET)"
   ]
  },
  {
   "cell_type": "markdown",
   "metadata": {},
   "source": [
    "*Cell 22: List the full (`-r`) contents of the workspace bucket (results will depend on what other work you have done in your workspace)*"
   ]
  },
  {
   "cell_type": "code",
   "execution_count": 22,
   "metadata": {},
   "outputs": [
    {
     "name": "stdout",
     "output_type": "stream",
     "text": [
      "gs://fc-a955f70a-e7db-4f26-a86c-2f00bf178e19/notebooks/:\n",
      "gs://fc-a955f70a-e7db-4f26-a86c-2f00bf178e19/notebooks/Genomics-Notebook-executed.ipynb\n",
      "gs://fc-a955f70a-e7db-4f26-a86c-2f00bf178e19/notebooks/Genomics-Notebook.ipynb\n"
     ]
    }
   ],
   "source": [
    "! gsutil ls -r {WS_BUCKET}"
   ]
  },
  {
   "cell_type": "markdown",
   "metadata": {},
   "source": [
    "*Cell 23: Copy the contents of your sandbox to the workspace bucket (using `-m` for efficient transfer)*"
   ]
  },
  {
   "cell_type": "code",
   "execution_count": 23,
   "metadata": {},
   "outputs": [
    {
     "name": "stdout",
     "output_type": "stream",
     "text": [
      "Copying file://sandbox/mother.bam [Content-Type=application/octet-stream]...\n",
      "Copying file://sandbox/mother.bai [Content-Type=application/octet-stream]...\n",
      "/ [2/2 files][ 23.8 MiB/ 23.8 MiB] 100% Done                                    \n",
      "Operation completed over 2 objects/23.8 MiB.                                     \n"
     ]
    }
   ],
   "source": [
    "! gsutil -m cp -r sandbox {WS_BUCKET}"
   ]
  },
  {
   "cell_type": "markdown",
   "metadata": {},
   "source": [
    "*Cell 24: List the contents of the copy of your sandbox that is now stored in the bucket*"
   ]
  },
  {
   "cell_type": "code",
   "execution_count": 24,
   "metadata": {},
   "outputs": [
    {
     "name": "stdout",
     "output_type": "stream",
     "text": [
      "gs://fc-a955f70a-e7db-4f26-a86c-2f00bf178e19/sandbox/mother.bai\r\n",
      "gs://fc-a955f70a-e7db-4f26-a86c-2f00bf178e19/sandbox/mother.bam\r\n"
     ]
    }
   ],
   "source": [
    "! gsutil ls {WS_BUCKET}/sandbox"
   ]
  },
  {
   "cell_type": "markdown",
   "metadata": {},
   "source": [
    "This completes the \"getting started\" portion of this notebook.\n",
    "\n",
    "----"
   ]
  },
  {
   "cell_type": "markdown",
   "metadata": {},
   "source": [
    "# Visualizing Genomic Data in an Embedded IGV Window\n",
    "In this section, we embed IGV windows in the notebook in order to visualize genomic data without leaving the notebook environment.\n",
    "\n",
    "## Setting Up the Embedded IGV Browser\n",
    "First we need to import the IGV package and initialize a browser window."
   ]
  },
  {
   "cell_type": "markdown",
   "metadata": {},
   "source": [
    "*Cell 25: Import the IGV package*"
   ]
  },
  {
   "cell_type": "code",
   "execution_count": 25,
   "metadata": {},
   "outputs": [],
   "source": [
    "import igv"
   ]
  },
  {
   "cell_type": "markdown",
   "metadata": {},
   "source": [
    "*Cell 26: Initialize the browser instance with a genome reference and an interval to focus on (optional)*"
   ]
  },
  {
   "cell_type": "code",
   "execution_count": 26,
   "metadata": {},
   "outputs": [],
   "source": [
    "IGV_Explore = igv.Browser(\n",
    "{\"genome\": \"hg19\",\n",
    "\"locus\": \"chr20:10,025,584-10,036,143\"\n",
    "}\n",
    ")"
   ]
  },
  {
   "cell_type": "markdown",
   "metadata": {},
   "source": [
    "*Cell 27: Display the browser window*"
   ]
  },
  {
   "cell_type": "code",
   "execution_count": 27,
   "metadata": {},
   "outputs": [
    {
     "data": {
      "text/html": [
       "<div id=\"igv_893683\"></div>"
      ],
      "text/plain": [
       "<IPython.core.display.HTML object>"
      ]
     },
     "metadata": {},
     "output_type": "display_data"
    }
   ],
   "source": [
    "IGV_Explore.show()"
   ]
  },
  {
   "cell_type": "markdown",
   "metadata": {},
   "source": [
    "## Adding Data to the IGV Browser\n",
    "Now we can add data by pointing to files in a GCS bucket."
   ]
  },
  {
   "cell_type": "markdown",
   "metadata": {},
   "source": [
    "*Cells 28 and 29: Define data tracks for two BAM files (whole genome and exome versions of the mother sample)*"
   ]
  },
  {
   "cell_type": "code",
   "execution_count": 28,
   "metadata": {},
   "outputs": [],
   "source": [
    "IGV_Explore.load_track(\n",
    "{\n",
    "\"name\": \"Mother WGS\",\n",
    "\"url\": GERM_DATA + \"/bams/mother.bam\",\n",
    "\"indexURL\": GERM_DATA + \"/bams/mother.bai\",\n",
    "\"format\": \"bam\"\n",
    "})"
   ]
  },
  {
   "cell_type": "code",
   "execution_count": 29,
   "metadata": {},
   "outputs": [],
   "source": [
    "IGV_Explore.load_track(\n",
    "{\n",
    "\"name\": \"Mother Exome\",\n",
    "\"url\": GERM_DATA + \"/bams/motherNEX.bam\",\n",
    "\"indexURL\": GERM_DATA + \"/bams/motherNEX.bai\",\n",
    "\"format\": \"bam\"\n",
    "})"
   ]
  },
  {
   "cell_type": "markdown",
   "metadata": {},
   "source": [
    "## Setting Up an Access Token to View Private Data\n",
    "IGV needs an access token to retrieve data from private buckets (including the workspace bucket)."
   ]
  },
  {
   "cell_type": "markdown",
   "metadata": {},
   "source": [
    "*Cell 30: Emit an acces token and save it to a file*"
   ]
  },
  {
   "cell_type": "code",
   "execution_count": 30,
   "metadata": {},
   "outputs": [],
   "source": [
    "!gcloud auth print-access-token > token.txt"
   ]
  },
  {
   "cell_type": "markdown",
   "metadata": {},
   "source": [
    "**Important note:** As long as this file is saved only to your notebook’s local storage, it is secure because\n",
    "your runtime environment is strictly personal to you and cannot be accessed by others,\n",
    "even if you share your workspace or your notebook with them. But don’t save this\n",
    "file to your workspace bucket! Saving it to the bucket would make it visible to anyone\n",
    "with whom you share the workspace."
   ]
  },
  {
   "cell_type": "markdown",
   "metadata": {},
   "source": [
    "*Cell 31: Read the contents of the token file into a Python variable*"
   ]
  },
  {
   "cell_type": "code",
   "execution_count": 31,
   "metadata": {},
   "outputs": [],
   "source": [
    "token_file = open(\"token.txt\",\"r\") \n",
    "token = token_file.readline()"
   ]
  },
  {
   "cell_type": "markdown",
   "metadata": {},
   "source": [
    "*Cell 32: Include the token in the track definition of any private files*"
   ]
  },
  {
   "cell_type": "code",
   "execution_count": 32,
   "metadata": {},
   "outputs": [],
   "source": [
    "IGV_Explore.load_track(\n",
    "{\n",
    "\"name\": \"Workspace bucket copy of Mother WGS\",\n",
    "\"url\": WS_BUCKET + \"/sandbox/mother.bam\",\n",
    "\"indexURL\": WS_BUCKET + \"/sandbox/mother.bai\",\n",
    "\"format\": \"bam\",\n",
    "\"oauthToken\": token\n",
    "})"
   ]
  },
  {
   "cell_type": "markdown",
   "metadata": {},
   "source": [
    "This concludes the section on visualizing genomic data.\n",
    "\n",
    "----"
   ]
  },
  {
   "cell_type": "markdown",
   "metadata": {},
   "source": [
    "# Running GATK Commands to Learn, Test, or Troubleshoot\n",
    "Now let's look at how we can run GATK commands inside the notebook.\n",
    "\n",
    "## Running a Basic GATK Command: HaplotypeCaller\n",
    "First we run a simple command like we did in Chapter 5, except we're running directly on the files located in GCS instead of localizing them first."
   ]
  },
  {
   "cell_type": "markdown",
   "metadata": {},
   "source": [
    "*Cell 33: Run HaplotypeCaller on files in GCS*"
   ]
  },
  {
   "cell_type": "code",
   "execution_count": 33,
   "metadata": {},
   "outputs": [
    {
     "name": "stdout",
     "output_type": "stream",
     "text": [
      "Using GATK jar /etc/gatk-4.1.3.0/gatk-package-4.1.3.0-local.jar\n",
      "Running:\n",
      "    java -Dsamjdk.use_async_io_read_samtools=false -Dsamjdk.use_async_io_write_samtools=true -Dsamjdk.use_async_io_write_tribble=false -Dsamjdk.compression_level=2 -jar /etc/gatk-4.1.3.0/gatk-package-4.1.3.0-local.jar HaplotypeCaller -R gs://genomics-in-the-cloud/v1/data/germline/ref/ref.fasta -I gs://genomics-in-the-cloud/v1/data/germline/bams/mother.bam -O sandbox/mother_variants.200k.vcf.gz -L 20:10,000,000-10,200,000\n",
      "23:27:02.495 INFO  NativeLibraryLoader - Loading libgkl_compression.so from jar:file:/etc/gatk-4.1.3.0/gatk-package-4.1.3.0-local.jar!/com/intel/gkl/native/libgkl_compression.so\n",
      "23:27:03.042 INFO  HaplotypeCaller - ------------------------------------------------------------\n",
      "23:27:03.043 INFO  HaplotypeCaller - The Genome Analysis Toolkit (GATK) v4.1.3.0\n",
      "23:27:03.043 INFO  HaplotypeCaller - For support and documentation go to https://software.broadinstitute.org/gatk/\n",
      "23:27:03.043 INFO  HaplotypeCaller - Executing as jupyter-user@saturn-0a036a8a-8bca-4d7c-9e92-d0a6dc57e3f0-m on Linux v4.9.0-11-amd64 amd64\n",
      "23:27:03.043 INFO  HaplotypeCaller - Java runtime: OpenJDK 64-Bit Server VM v1.8.0_242-8u242-b08-0ubuntu3~18.04-b08\n",
      "23:27:03.043 INFO  HaplotypeCaller - Start Date/Time: April 3, 2020 11:27:02 PM UTC\n",
      "23:27:03.043 INFO  HaplotypeCaller - ------------------------------------------------------------\n",
      "23:27:03.043 INFO  HaplotypeCaller - ------------------------------------------------------------\n",
      "23:27:03.044 INFO  HaplotypeCaller - HTSJDK Version: 2.20.1\n",
      "23:27:03.044 INFO  HaplotypeCaller - Picard Version: 2.20.5\n",
      "23:27:03.044 INFO  HaplotypeCaller - HTSJDK Defaults.COMPRESSION_LEVEL : 2\n",
      "23:27:03.044 INFO  HaplotypeCaller - HTSJDK Defaults.USE_ASYNC_IO_READ_FOR_SAMTOOLS : false\n",
      "23:27:03.044 INFO  HaplotypeCaller - HTSJDK Defaults.USE_ASYNC_IO_WRITE_FOR_SAMTOOLS : true\n",
      "23:27:03.045 INFO  HaplotypeCaller - HTSJDK Defaults.USE_ASYNC_IO_WRITE_FOR_TRIBBLE : false\n",
      "23:27:03.045 INFO  HaplotypeCaller - Deflater: IntelDeflater\n",
      "23:27:03.045 INFO  HaplotypeCaller - Inflater: IntelInflater\n",
      "23:27:03.045 INFO  HaplotypeCaller - GCS max retries/reopens: 20\n",
      "23:27:03.045 INFO  HaplotypeCaller - Requester pays: disabled\n",
      "23:27:03.045 INFO  HaplotypeCaller - Initializing engine\n",
      "23:27:06.621 INFO  IntervalArgumentCollection - Processing 200001 bp from intervals\n",
      "23:27:06.628 INFO  HaplotypeCaller - Done initializing engine\n",
      "23:27:07.344 INFO  HaplotypeCallerEngine - Disabling physical phasing, which is supported only for reference-model confidence output\n",
      "23:27:07.358 INFO  NativeLibraryLoader - Loading libgkl_utils.so from jar:file:/etc/gatk-4.1.3.0/gatk-package-4.1.3.0-local.jar!/com/intel/gkl/native/libgkl_utils.so\n",
      "23:27:07.377 INFO  NativeLibraryLoader - Loading libgkl_pairhmm_omp.so from jar:file:/etc/gatk-4.1.3.0/gatk-package-4.1.3.0-local.jar!/com/intel/gkl/native/libgkl_pairhmm_omp.so\n",
      "23:27:07.421 INFO  IntelPairHmm - Flush-to-zero (FTZ) is enabled when running PairHMM\n",
      "23:27:07.422 INFO  IntelPairHmm - Available threads: 4\n",
      "23:27:07.422 INFO  IntelPairHmm - Requested threads: 4\n",
      "23:27:07.422 INFO  PairHMM - Using the OpenMP multi-threaded AVX-accelerated native PairHMM implementation\n",
      "23:27:07.450 INFO  ProgressMeter - Starting traversal\n",
      "23:27:07.450 INFO  ProgressMeter -        Current Locus  Elapsed Minutes     Regions Processed   Regions/Minute\n",
      "23:27:09.671 WARN  InbreedingCoeff - InbreedingCoeff will not be calculated; at least 10 samples must have called genotypes\n",
      "23:27:17.533 INFO  ProgressMeter -          20:10070893              0.2                   370           2201.7\n",
      "23:27:25.925 INFO  HaplotypeCaller - 7217 read(s) filtered by: ((((((((MappingQualityReadFilter AND MappingQualityAvailableReadFilter) AND MappedReadFilter) AND NotSecondaryAlignmentReadFilter) AND NotDuplicateReadFilter) AND PassesVendorQualityCheckReadFilter) AND NonZeroReferenceLengthAlignmentReadFilter) AND GoodCigarReadFilter) AND WellformedReadFilter)\n",
      "  7217 read(s) filtered by: (((((((MappingQualityReadFilter AND MappingQualityAvailableReadFilter) AND MappedReadFilter) AND NotSecondaryAlignmentReadFilter) AND NotDuplicateReadFilter) AND PassesVendorQualityCheckReadFilter) AND NonZeroReferenceLengthAlignmentReadFilter) AND GoodCigarReadFilter)\n",
      "      7217 read(s) filtered by: ((((((MappingQualityReadFilter AND MappingQualityAvailableReadFilter) AND MappedReadFilter) AND NotSecondaryAlignmentReadFilter) AND NotDuplicateReadFilter) AND PassesVendorQualityCheckReadFilter) AND NonZeroReferenceLengthAlignmentReadFilter)\n",
      "          7217 read(s) filtered by: (((((MappingQualityReadFilter AND MappingQualityAvailableReadFilter) AND MappedReadFilter) AND NotSecondaryAlignmentReadFilter) AND NotDuplicateReadFilter) AND PassesVendorQualityCheckReadFilter)\n",
      "              7217 read(s) filtered by: ((((MappingQualityReadFilter AND MappingQualityAvailableReadFilter) AND MappedReadFilter) AND NotSecondaryAlignmentReadFilter) AND NotDuplicateReadFilter)\n",
      "                  351 read(s) filtered by: (((MappingQualityReadFilter AND MappingQualityAvailableReadFilter) AND MappedReadFilter) AND NotSecondaryAlignmentReadFilter)\n",
      "                      351 read(s) filtered by: ((MappingQualityReadFilter AND MappingQualityAvailableReadFilter) AND MappedReadFilter)\n",
      "                          351 read(s) filtered by: (MappingQualityReadFilter AND MappingQualityAvailableReadFilter)\n",
      "                              351 read(s) filtered by: MappingQualityReadFilter \n",
      "                  6866 read(s) filtered by: NotDuplicateReadFilter \n",
      "\n",
      "23:27:25.925 INFO  ProgressMeter -          20:10199356              0.3                  1042           3384.0\n",
      "23:27:25.925 INFO  ProgressMeter - Traversal complete. Processed 1042 total regions in 0.3 minutes.\n",
      "23:27:25.936 INFO  VectorLoglessPairHMM - Time spent in setup for JNI call : 0.022991582\n",
      "23:27:25.936 INFO  PairHMM - Total compute time in PairHMM computeLogLikelihoods() : 3.21842971\n",
      "23:27:25.937 INFO  SmithWatermanAligner - Total compute time in java Smith-Waterman : 2.51 sec\n",
      "23:27:25.937 INFO  HaplotypeCaller - Shutting down engine\n",
      "[April 3, 2020 11:27:25 PM UTC] org.broadinstitute.hellbender.tools.walkers.haplotypecaller.HaplotypeCaller done. Elapsed time: 0.39 minutes.\n",
      "Runtime.totalMemory()=880803840\n"
     ]
    }
   ],
   "source": [
    "! gatk HaplotypeCaller \\\n",
    "-R {GERM_DATA}/ref/ref.fasta \\\n",
    "-I {GERM_DATA}/bams/mother.bam \\\n",
    "-O sandbox/mother_variants.200k.vcf.gz \\\n",
    "-L 20:10,000,000-10,200,000"
   ]
  },
  {
   "cell_type": "markdown",
   "metadata": {},
   "source": [
    "*Cell 34: Verify that the output file is in the sandbox*"
   ]
  },
  {
   "cell_type": "code",
   "execution_count": 34,
   "metadata": {},
   "outputs": [
    {
     "name": "stdout",
     "output_type": "stream",
     "text": [
      "mother.bai  mother_variants.200k.vcf.gz\r\n",
      "mother.bam  mother_variants.200k.vcf.gz.tbi\r\n"
     ]
    }
   ],
   "source": [
    "! ls sandbox"
   ]
  },
  {
   "cell_type": "markdown",
   "metadata": {},
   "source": [
    "**Note:** This works with GATK from anywhere with an internet connection! We could even write the output directly to a GCS bucket if we wanted to; the output filepath just has to start with a valid `gs://` bucket address. "
   ]
  },
  {
   "cell_type": "markdown",
   "metadata": {},
   "source": [
    "## Loading the Data (BAM and VCF) into IGV\n",
    "Now we do a simple visual check of the result."
   ]
  },
  {
   "cell_type": "markdown",
   "metadata": {},
   "source": [
    "*Cell 35: Initialize a new IGV window*"
   ]
  },
  {
   "cell_type": "code",
   "execution_count": 35,
   "metadata": {},
   "outputs": [
    {
     "data": {
      "text/html": [
       "<div id=\"igv_5745703\"></div>"
      ],
      "text/plain": [
       "<IPython.core.display.HTML object>"
      ]
     },
     "metadata": {},
     "output_type": "display_data"
    }
   ],
   "source": [
    "IGV_InspectCalls = igv.Browser(\n",
    "{\"genome\": \"hg19\",\n",
    "\"locus\": \"chr20:10,002,294-10,002,623\"\n",
    "}\n",
    ")\n",
    "\n",
    "IGV_InspectCalls.show()"
   ]
  },
  {
   "cell_type": "markdown",
   "metadata": {},
   "source": [
    "*Cell 36: Load the variant calls produced by the HaplotypeCaller above*"
   ]
  },
  {
   "cell_type": "code",
   "execution_count": 36,
   "metadata": {},
   "outputs": [],
   "source": [
    "IGV_InspectCalls.load_track(\n",
    "{\n",
    "\"name\": \"Mother variants\",\n",
    "\"url\": \"files/sandbox/mother_variants.200k.vcf.gz\",\n",
    "\"indexURL\": \"files/sandbox/mother_variants.200k.vcf.gz.tbi\",\n",
    "\"format\": \"vcf\"\n",
    "})"
   ]
  },
  {
   "cell_type": "markdown",
   "metadata": {},
   "source": [
    "*Cell 37: Load the original BAM file on which you ran HaplotypeCaller*"
   ]
  },
  {
   "cell_type": "code",
   "execution_count": 37,
   "metadata": {},
   "outputs": [],
   "source": [
    "IGV_InspectCalls.load_track(\n",
    "{\n",
    "\"name\": \"Mother WGS\",\n",
    "\"url\": GERM_DATA + \"/bams/mother.bam\",\n",
    "\"indexURL\": GERM_DATA + \"/bams/mother.bai\",\n",
    "\"format\": \"bam\"\n",
    "})"
   ]
  },
  {
   "cell_type": "markdown",
   "metadata": {},
   "source": [
    "## Troubleshooting a Questionable Variant Call in the Embedded IGV Browser\n",
    "Something looks odd so we do some systematic troubleshooting..."
   ]
  },
  {
   "cell_type": "markdown",
   "metadata": {},
   "source": [
    "*Cell 38: Run HaplotypeCaller on the problem region to produce an output BAM, the `bamout`*"
   ]
  },
  {
   "cell_type": "code",
   "execution_count": 38,
   "metadata": {},
   "outputs": [
    {
     "name": "stdout",
     "output_type": "stream",
     "text": [
      "Using GATK jar /etc/gatk-4.1.3.0/gatk-package-4.1.3.0-local.jar\n",
      "Running:\n",
      "    java -Dsamjdk.use_async_io_read_samtools=false -Dsamjdk.use_async_io_write_samtools=true -Dsamjdk.use_async_io_write_tribble=false -Dsamjdk.compression_level=2 -jar /etc/gatk-4.1.3.0/gatk-package-4.1.3.0-local.jar HaplotypeCaller -R gs://genomics-in-the-cloud/v1/data/germline/ref/ref.fasta -I gs://genomics-in-the-cloud/v1/data/germline/bams/mother.bam -O sandbox/motherHCdebug.vcf -bamout sandbox/motherHCdebug.bam -L 20:10,002,000-10,003,000\n",
      "23:27:30.535 INFO  NativeLibraryLoader - Loading libgkl_compression.so from jar:file:/etc/gatk-4.1.3.0/gatk-package-4.1.3.0-local.jar!/com/intel/gkl/native/libgkl_compression.so\n",
      "23:27:30.775 INFO  HaplotypeCaller - ------------------------------------------------------------\n",
      "23:27:30.776 INFO  HaplotypeCaller - The Genome Analysis Toolkit (GATK) v4.1.3.0\n",
      "23:27:30.776 INFO  HaplotypeCaller - For support and documentation go to https://software.broadinstitute.org/gatk/\n",
      "23:27:30.776 INFO  HaplotypeCaller - Executing as jupyter-user@saturn-0a036a8a-8bca-4d7c-9e92-d0a6dc57e3f0-m on Linux v4.9.0-11-amd64 amd64\n",
      "23:27:30.776 INFO  HaplotypeCaller - Java runtime: OpenJDK 64-Bit Server VM v1.8.0_242-8u242-b08-0ubuntu3~18.04-b08\n",
      "23:27:30.777 INFO  HaplotypeCaller - Start Date/Time: April 3, 2020 11:27:30 PM UTC\n",
      "23:27:30.777 INFO  HaplotypeCaller - ------------------------------------------------------------\n",
      "23:27:30.777 INFO  HaplotypeCaller - ------------------------------------------------------------\n",
      "23:27:30.777 INFO  HaplotypeCaller - HTSJDK Version: 2.20.1\n",
      "23:27:30.777 INFO  HaplotypeCaller - Picard Version: 2.20.5\n",
      "23:27:30.778 INFO  HaplotypeCaller - HTSJDK Defaults.COMPRESSION_LEVEL : 2\n",
      "23:27:30.778 INFO  HaplotypeCaller - HTSJDK Defaults.USE_ASYNC_IO_READ_FOR_SAMTOOLS : false\n",
      "23:27:30.778 INFO  HaplotypeCaller - HTSJDK Defaults.USE_ASYNC_IO_WRITE_FOR_SAMTOOLS : true\n",
      "23:27:30.778 INFO  HaplotypeCaller - HTSJDK Defaults.USE_ASYNC_IO_WRITE_FOR_TRIBBLE : false\n",
      "23:27:30.778 INFO  HaplotypeCaller - Deflater: IntelDeflater\n",
      "23:27:30.778 INFO  HaplotypeCaller - Inflater: IntelInflater\n",
      "23:27:30.778 INFO  HaplotypeCaller - GCS max retries/reopens: 20\n",
      "23:27:30.778 INFO  HaplotypeCaller - Requester pays: disabled\n",
      "23:27:30.778 INFO  HaplotypeCaller - Initializing engine\n",
      "23:27:33.508 INFO  IntervalArgumentCollection - Processing 1001 bp from intervals\n",
      "23:27:33.514 INFO  HaplotypeCaller - Done initializing engine\n",
      "23:27:34.136 INFO  HaplotypeCallerEngine - Disabling physical phasing, which is supported only for reference-model confidence output\n",
      "23:27:34.174 INFO  NativeLibraryLoader - Loading libgkl_utils.so from jar:file:/etc/gatk-4.1.3.0/gatk-package-4.1.3.0-local.jar!/com/intel/gkl/native/libgkl_utils.so\n",
      "23:27:34.176 INFO  NativeLibraryLoader - Loading libgkl_pairhmm_omp.so from jar:file:/etc/gatk-4.1.3.0/gatk-package-4.1.3.0-local.jar!/com/intel/gkl/native/libgkl_pairhmm_omp.so\n",
      "23:27:34.218 INFO  IntelPairHmm - Flush-to-zero (FTZ) is enabled when running PairHMM\n",
      "23:27:34.219 INFO  IntelPairHmm - Available threads: 4\n",
      "23:27:34.219 INFO  IntelPairHmm - Requested threads: 4\n",
      "23:27:34.219 INFO  PairHMM - Using the OpenMP multi-threaded AVX-accelerated native PairHMM implementation\n",
      "23:27:34.244 INFO  ProgressMeter - Starting traversal\n",
      "23:27:34.245 INFO  ProgressMeter -        Current Locus  Elapsed Minutes     Regions Processed   Regions/Minute\n",
      "23:27:36.506 WARN  InbreedingCoeff - InbreedingCoeff will not be calculated; at least 10 samples must have called genotypes\n",
      "23:27:36.754 INFO  HaplotypeCaller - 46 read(s) filtered by: ((((((((MappingQualityReadFilter AND MappingQualityAvailableReadFilter) AND MappedReadFilter) AND NotSecondaryAlignmentReadFilter) AND NotDuplicateReadFilter) AND PassesVendorQualityCheckReadFilter) AND NonZeroReferenceLengthAlignmentReadFilter) AND GoodCigarReadFilter) AND WellformedReadFilter)\n",
      "  46 read(s) filtered by: (((((((MappingQualityReadFilter AND MappingQualityAvailableReadFilter) AND MappedReadFilter) AND NotSecondaryAlignmentReadFilter) AND NotDuplicateReadFilter) AND PassesVendorQualityCheckReadFilter) AND NonZeroReferenceLengthAlignmentReadFilter) AND GoodCigarReadFilter)\n",
      "      46 read(s) filtered by: ((((((MappingQualityReadFilter AND MappingQualityAvailableReadFilter) AND MappedReadFilter) AND NotSecondaryAlignmentReadFilter) AND NotDuplicateReadFilter) AND PassesVendorQualityCheckReadFilter) AND NonZeroReferenceLengthAlignmentReadFilter)\n",
      "          46 read(s) filtered by: (((((MappingQualityReadFilter AND MappingQualityAvailableReadFilter) AND MappedReadFilter) AND NotSecondaryAlignmentReadFilter) AND NotDuplicateReadFilter) AND PassesVendorQualityCheckReadFilter)\n",
      "              46 read(s) filtered by: ((((MappingQualityReadFilter AND MappingQualityAvailableReadFilter) AND MappedReadFilter) AND NotSecondaryAlignmentReadFilter) AND NotDuplicateReadFilter)\n",
      "                  4 read(s) filtered by: (((MappingQualityReadFilter AND MappingQualityAvailableReadFilter) AND MappedReadFilter) AND NotSecondaryAlignmentReadFilter)\n",
      "                      4 read(s) filtered by: ((MappingQualityReadFilter AND MappingQualityAvailableReadFilter) AND MappedReadFilter)\n",
      "                          4 read(s) filtered by: (MappingQualityReadFilter AND MappingQualityAvailableReadFilter)\n",
      "                              4 read(s) filtered by: MappingQualityReadFilter \n",
      "                  42 read(s) filtered by: NotDuplicateReadFilter \n",
      "\n",
      "23:27:36.754 INFO  ProgressMeter -             unmapped              0.0                     8            191.3\n",
      "23:27:36.754 INFO  ProgressMeter - Traversal complete. Processed 8 total regions in 0.0 minutes.\n",
      "23:27:36.771 INFO  VectorLoglessPairHMM - Time spent in setup for JNI call : 0.0028563240000000004\n",
      "23:27:36.771 INFO  PairHMM - Total compute time in PairHMM computeLogLikelihoods() : 0.038218101000000004\n",
      "23:27:36.771 INFO  SmithWatermanAligner - Total compute time in java Smith-Waterman : 0.13 sec\n",
      "23:27:36.824 INFO  HaplotypeCaller - Shutting down engine\n",
      "[April 3, 2020 11:27:36 PM UTC] org.broadinstitute.hellbender.tools.walkers.haplotypecaller.HaplotypeCaller done. Elapsed time: 0.11 minutes.\n",
      "Runtime.totalMemory()=553123840\n"
     ]
    }
   ],
   "source": [
    "! gatk HaplotypeCaller \\\n",
    "-R {GERM_DATA}/ref/ref.fasta \\\n",
    "-I {GERM_DATA}/bams/mother.bam \\\n",
    "-O sandbox/motherHCdebug.vcf \\\n",
    "-bamout sandbox/motherHCdebug.bam \\\n",
    "-L 20:10,002,000-10,003,000"
   ]
  },
  {
   "cell_type": "markdown",
   "metadata": {},
   "source": [
    "*Cell 39: Load the `bamout` file into the IGV window*"
   ]
  },
  {
   "cell_type": "code",
   "execution_count": 39,
   "metadata": {},
   "outputs": [],
   "source": [
    "IGV_InspectCalls.load_track(\n",
    "{\n",
    "\"name\": \"Mother HC bamout\",\n",
    "\"url\": \"files/sandbox/motherHCdebug.bam\",\n",
    "\"indexURL\": \"files/sandbox/motherHCdebug.bai\",\n",
    "\"height\": 500,\n",
    "\"format\": \"bam\"\n",
    "})"
   ]
  },
  {
   "cell_type": "markdown",
   "metadata": {},
   "source": [
    "This concludes the GATK variant calling section of this notebook. \n",
    "\n",
    "----"
   ]
  },
  {
   "cell_type": "markdown",
   "metadata": {},
   "source": [
    "# Visualizing Variant Context Annotation Data\n",
    "Finally, let's look at some options for plotting variant annotation data from a callset that has been annotated with metadata from the Genomes in a Bottle (GiaB) truth set.\n",
    "\n",
    "## Exporting Annotations of Interest with VariantsToTable\n",
    "First we need to extract annotations from a VCF file to a table format, then load them into an R dataframe."
   ]
  },
  {
   "cell_type": "markdown",
   "metadata": {},
   "source": [
    "*Cell 40: Run the GATK tool VariantsToTable to write the annotations of interest to a table to make them easier to work with*"
   ]
  },
  {
   "cell_type": "code",
   "execution_count": 40,
   "metadata": {},
   "outputs": [
    {
     "name": "stdout",
     "output_type": "stream",
     "text": [
      "Using GATK jar /etc/gatk-4.1.3.0/gatk-package-4.1.3.0-local.jar\n",
      "Running:\n",
      "    java -Dsamjdk.use_async_io_read_samtools=false -Dsamjdk.use_async_io_write_samtools=true -Dsamjdk.use_async_io_write_tribble=false -Dsamjdk.compression_level=2 -jar /etc/gatk-4.1.3.0/gatk-package-4.1.3.0-local.jar VariantsToTable -V gs://genomics-in-the-cloud/v1/data/germline/vcfs/motherSNP.giab.vcf.gz -F CHROM -F POS -F QUAL -F BaseQRankSum -F MQRankSum -F ReadPosRankSum -F DP -F FS -F MQ -F QD -F SOR -F giab.callsets -GF GQ -O sandbox/motherSNP.giab.txt\n",
      "23:27:40.365 INFO  NativeLibraryLoader - Loading libgkl_compression.so from jar:file:/etc/gatk-4.1.3.0/gatk-package-4.1.3.0-local.jar!/com/intel/gkl/native/libgkl_compression.so\n",
      "23:27:40.583 INFO  VariantsToTable - ------------------------------------------------------------\n",
      "23:27:40.583 INFO  VariantsToTable - The Genome Analysis Toolkit (GATK) v4.1.3.0\n",
      "23:27:40.583 INFO  VariantsToTable - For support and documentation go to https://software.broadinstitute.org/gatk/\n",
      "23:27:40.584 INFO  VariantsToTable - Executing as jupyter-user@saturn-0a036a8a-8bca-4d7c-9e92-d0a6dc57e3f0-m on Linux v4.9.0-11-amd64 amd64\n",
      "23:27:40.584 INFO  VariantsToTable - Java runtime: OpenJDK 64-Bit Server VM v1.8.0_242-8u242-b08-0ubuntu3~18.04-b08\n",
      "23:27:40.584 INFO  VariantsToTable - Start Date/Time: April 3, 2020 11:27:40 PM UTC\n",
      "23:27:40.584 INFO  VariantsToTable - ------------------------------------------------------------\n",
      "23:27:40.585 INFO  VariantsToTable - ------------------------------------------------------------\n",
      "23:27:40.585 INFO  VariantsToTable - HTSJDK Version: 2.20.1\n",
      "23:27:40.586 INFO  VariantsToTable - Picard Version: 2.20.5\n",
      "23:27:40.586 INFO  VariantsToTable - HTSJDK Defaults.COMPRESSION_LEVEL : 2\n",
      "23:27:40.586 INFO  VariantsToTable - HTSJDK Defaults.USE_ASYNC_IO_READ_FOR_SAMTOOLS : false\n",
      "23:27:40.586 INFO  VariantsToTable - HTSJDK Defaults.USE_ASYNC_IO_WRITE_FOR_SAMTOOLS : true\n",
      "23:27:40.586 INFO  VariantsToTable - HTSJDK Defaults.USE_ASYNC_IO_WRITE_FOR_TRIBBLE : false\n",
      "23:27:40.586 INFO  VariantsToTable - Deflater: IntelDeflater\n",
      "23:27:40.586 INFO  VariantsToTable - Inflater: IntelInflater\n",
      "23:27:40.586 INFO  VariantsToTable - GCS max retries/reopens: 20\n",
      "23:27:40.586 INFO  VariantsToTable - Requester pays: disabled\n",
      "23:27:40.586 INFO  VariantsToTable - Initializing engine\n",
      "23:27:42.758 INFO  FeatureManager - Using codec VCFCodec to read file gs://genomics-in-the-cloud/v1/data/germline/vcfs/motherSNP.giab.vcf.gz\n",
      "23:27:43.653 INFO  VariantsToTable - Done initializing engine\n",
      "23:27:43.658 WARN  VariantsToTable - Allele-specific fields will only be split if splitting multi-allelic variants is specified (`--split-multi-allelic` or `-SMA`\n",
      "23:27:43.659 INFO  ProgressMeter - Starting traversal\n",
      "23:27:43.659 INFO  ProgressMeter -        Current Locus  Elapsed Minutes    Variants Processed  Variants/Minute\n",
      "23:27:46.020 INFO  ProgressMeter -          20:62553498              0.0                 90349        2297008.5\n",
      "23:27:46.020 INFO  ProgressMeter - Traversal complete. Processed 90349 total variants in 0.0 minutes.\n",
      "23:27:46.020 INFO  VariantsToTable - Shutting down engine\n",
      "[April 3, 2020 11:27:46 PM UTC] org.broadinstitute.hellbender.tools.walkers.variantutils.VariantsToTable done. Elapsed time: 0.09 minutes.\n",
      "Runtime.totalMemory()=505937920\n"
     ]
    }
   ],
   "source": [
    "! gatk VariantsToTable \\\n",
    "-V {GERM_DATA}/vcfs/motherSNP.giab.vcf.gz \\\n",
    "-F CHROM -F POS -F QUAL \\\n",
    "-F BaseQRankSum -F MQRankSum -F ReadPosRankSum \\\n",
    "-F DP -F FS -F MQ -F QD -F SOR \\\n",
    "-F giab.callsets \\\n",
    "-GF GQ \\\n",
    "-O sandbox/motherSNP.giab.txt"
   ]
  },
  {
   "cell_type": "markdown",
   "metadata": {},
   "source": [
    "*Cell 41: View part of the file to see what the resulting table contains*"
   ]
  },
  {
   "cell_type": "code",
   "execution_count": 41,
   "metadata": {},
   "outputs": [
    {
     "name": "stdout",
     "output_type": "stream",
     "text": [
      "CHROM\tPOS\tQUAL\tBaseQRankSum\tMQRankSum\tReadPosRankSum\tDP\tFS\tMQ\tQD\tSOR\tgiab.callsets\tNA12878.GQ\r\n",
      "20\t61098\t465.13\t0.516\t0.803\t1.54\t44\t0.000\t59.48\t10.57\t0.603\t3\t99\r\n",
      "20\t61795\t2034.1599999999999\t-6.330e-01\t0.00\t1.23\t60\t0.000\t59.81\t17.09\t0.723\t6\t99\r\n",
      "20\t63244\t923.13\t0.637\t-1.019e+00\t0.404\t57\t5.470\t59.60\t16.20\t1.528\t4\t99\r\n",
      "20\t63799\t1766.16\t-6.530e-01\t1.22\t-1.075e+00\t45\t0.000\t59.78\t16.98\t0.709\t5\t99\r\n",
      "20\t65900\t5817.129999999999\t0.503\t0.00\t0.732\t64\t4.289\t59.65\t31.61\t1.032\t6\t99\r\n",
      "20\t66370\t5611.130000000001\t1.26\t0.00\t-9.100e-02\t52\t6.196\t60.00\t33.01\t0.647\t6\t99\r\n",
      "20\t66720\t2204.16\t0.663\t0.00\t-1.250e-01\t59\t12.193\t60.00\t15.86\t1.219\t5\t99\r\n",
      "20\t68749\t4285.16\t0.613\t0.00\t1.24\t52\t2.137\t59.86\t26.29\t0.924\t6\t99\r\n",
      "20\t70980\t672.1299999999999\t-1.800e-01\t-1.196e+00\t0.444\t53\t1.042\t59.65\t12.68\t0.848\t6\t99\r\n",
      "20\t72892\t749.13\t-5.950e-01\t-7.110e-01\t0.525\t40\t1.252\t57.66\t18.73\t0.888\t5\t99\r\n",
      "20\t74347\t4359.16\t-1.186e+00\t0.887\t-7.900e-02\t48\t2.020\t59.87\t25.49\t0.528\t4\t99\r\n",
      "20\t76771\t1210.13\t-9.360e-01\t1.21\t-7.850e-01\t57\t3.671\t59.67\t21.23\t0.921\t7\t99\r\n",
      "20\t76962\t5617.9\tNA\tNA\tNA\t45\t0.000\t59.53\t29.68\t0.898\t7\t99\r\n",
      "20\t79234\t4095.16\t-3.170e-01\t1.23\t0.602\t42\t2.158\t59.95\t25.59\t0.931\t4\t99\r\n",
      "20\t80481\t1123.13\t1.54\t0.00\t0.782\t51\t1.131\t60.00\t22.02\t0.471\t6\t99\r\n",
      "20\t80655\t6496.9\tNA\tNA\tNA\t50\t0.000\t59.85\t30.19\t1.079\t6\t99\r\n",
      "20\t82012\t4511.13\t-7.490e-01\t-5.244e+00\t1.78\t41\t0.848\t46.77\t29.10\t0.802\t4\t99\r\n",
      "20\t82074\t3973.16\t3.19\t-4.315e+00\t0.155\t46\t0.649\t53.35\t27.21\t0.786\t4\t99\r\n",
      "20\t82079\t3907.16\t-1.630e-01\t-4.032e+00\t0.131\t44\t1.448\t53.26\t27.91\t0.868\t4\t99\r\n",
      "20\t82217\t4585.9\t1.71\t1.61\t-5.630e-01\t36\t0.000\t55.87\t37.47\t0.365\t5\t99\r\n",
      "20\t83258\t2172.16\t-6.770e-01\t1.48\t0.345\t35\t4.358\t40.41\t24.41\t0.858\tNA\t99\r\n",
      "20\t83260\t2402.16\t0.784\t-1.010e-01\t0.158\t36\t4.536\t48.55\t26.40\t0.808\tNA\t99\r\n",
      "20\t83275\t2410.16\t-6.190e-01\t0.312\t0.455\t37\t3.024\t47.72\t24.85\t0.404\tNA\t99\r\n",
      "20\t90008\t4545.16\t0.00\t-8.700e-01\t1.43\t51\t1.936\t59.75\t24.84\t0.858\t6\t99\r\n",
      "20\t91088\t6593.9\tNA\tNA\tNA\t52\t0.000\t59.11\t30.19\t1.026\t6\t99\r\n",
      "20\t91508\t7871.9\tNA\tNA\tNA\t49\t0.000\t60.00\t32.58\t0.714\t6\t99\r\n",
      "20\t91707\t1958.16\t1.35\t0.00\t0.918\t53\t1.533\t60.00\t18.47\t0.626\t6\t99\r\n",
      "20\t92527\t6660.9\tNA\tNA\tNA\t55\t0.000\t59.89\t29.02\t0.743\t6\t99\r\n",
      "20\t93440\t781.13\t0.067\t0.037\t0.097\t57\t3.783\t56.16\t13.70\t1.115\t5\t99\r\n",
      "20\t93931\t919.13\t0.288\t-6.410e-01\t-2.950e-01\t55\t7.438\t55.64\t16.71\t1.400\t4\t99\r\n",
      "20\t100699\t2351.92\t1.02\t0.00\t0.450\t39\t0.624\t60.00\t16.56\t0.589\t5\t99\r\n",
      "20\t101362\t2101.16\t-2.530e-01\t0.00\t0.148\t52\t2.377\t59.80\t17.96\t0.940\t5\t99\r\n",
      "20\t102181\t2706.92\t-9.980e-01\t0.00\t-8.630e-01\t51\t9.594\t59.71\t17.02\t0.306\t5\t99\r\n",
      "20\t102799\t2827.92\t-4.130e-01\t0.121\t-1.082e+00\t43\t5.271\t59.49\t15.54\t0.696\t6\t99\r\n",
      "20\t103517\t3403.92\t-9.550e-01\t0.00\t-1.074e+00\t59\t4.249\t60.00\t18.50\t0.767\t5\t99\r\n",
      "20\t104899\t2697.92\t0.574\t0.00\t0.700\t51\t1.295\t59.72\t18.23\t0.547\t5\t99\r\n",
      "20\t106635\t3147.92\t0.751\t0.00\t0.392\t66\t1.194\t59.34\t18.30\t0.593\t5\t99\r\n",
      "20\t108286\t2371.92\t-1.402e+00\t-8.950e-01\t-1.099e+00\t56\t6.603\t59.63\t13.79\t1.176\t5\t99\r\n",
      "20\t108328\t6860.9\t1.75\t0.00\t1.93\t62\t6.613\t59.63\t27.09\t0.377\t6\t99\r\n",
      "20\t110058\t2968.92\t-1.116e+00\t0.00\t-4.420e-01\t41\t1.226\t59.71\t18.56\t0.595\t4\t99\r\n",
      "20\t110098\t3288.92\t0.251\t0.00\t1.09\t47\t5.481\t59.86\t19.46\t0.415\t4\t99\r\n",
      "20\t110702\t1588.92\t0.834\t0.170\t-1.061e+00\t36\t2.527\t52.93\t14.99\t0.532\t4\t99\r\n",
      "20\t110749\t101.13\t-1.142e+00\t-3.517e+00\t1.22\t45\t15.767\t49.43\t2.25\t3.910\tNA\t99\r\n",
      "20\t110753\t98.13\t1.47\t-3.592e+00\t1.77\t47\t16.300\t49.93\t2.09\t3.907\tNA\t99\r\n",
      "20\t110761\t1074.92\t0.836\t-4.450e-01\t0.982\t47\t12.877\t40.58\t9.11\t1.363\tNA\t99\r\n",
      "20\t110773\t40.129999999999995\t0.214\t-3.571e+00\t1.59\t48\t16.048\t49.69\t0.84\t3.909\tNA\t71\r\n",
      "20\t110979\t1496.9\t-3.360e-01\t1.26\t0.865\t19\t0.000\t32.78\t31.85\t4.849\t4\t99\r\n",
      "20\t110980\t913.92\t-8.270e-01\t1.92\t-6.180e-01\t20\t0.000\t32.63\t18.65\t0.733\t4\t99\r\n",
      "20\t112877\t398.16\t0.323\t-1.094e+00\t-3.310e-01\t21\t15.105\t24.79\t9.95\t0.948\t3\t99\r\n",
      "20\t116236\t27.94\t0.842\t1.65\t0.126\t5\t0.000\t24.54\t5.59\t0.446\tNA\t53\r\n",
      "20\t116405\t534.92\t-1.100e-02\t1.36\t-4.660e-01\t16\t5.677\t36.64\t10.49\t2.240\t3\t99\r\n",
      "20\t116545\t442.92\t-4.520e-01\t0.539\t0.179\t16\t6.151\t37.94\t7.91\t1.947\t4\t99\r\n",
      "20\t116787\t2635.92\t0.387\t0.293\t-1.205e+00\t47\t0.656\t57.71\t17.12\t0.794\t5\t99\r\n",
      "20\t120471\t2807.92\t0.072\t-1.650e-01\t0.525\t44\t11.004\t57.61\t17.88\t1.210\t5\t99\r\n",
      "20\t121310\t2973.92\t-1.004e+00\t-6.010e-01\t-3.290e-01\t46\t3.556\t58.05\t17.70\t0.475\t5\t99\r\n",
      "20\t121478\t1317.92\t-1.470e-01\t0.00\t-5.010e-01\t14\t4.258\t59.73\t16.07\t1.043\tNA\t99\r\n",
      "20\t121824\t3037.92\t-4.200e-02\t-7.540e-01\t0.249\t60\t5.513\t58.78\t17.77\t1.100\t6\t99\r\n",
      "20\t121976\t3337.92\t-6.630e-01\t0.00\t-5.200e-01\t38\t4.611\t59.86\t20.48\t0.433\t5\t99\r\n",
      "20\t122508\t2915.92\t-4.660e-01\t0.464\t-6.160e-01\t71\t0.000\t59.30\t15.35\t0.656\t6\t99\r\n",
      "20\t124302\t3919.92\t2.12\t0.00\t0.173\t52\t5.228\t59.90\t21.19\t0.643\t5\t99\r\n",
      "20\t124412\t4263.92\t0.916\t0.00\t0.607\t74\t2.975\t60.00\t19.12\t0.792\t5\t99\r\n",
      "20\t125538\t2710.92\t1.81\t0.00\t0.645\t54\t3.574\t59.86\t16.33\t0.841\t5\t99\r\n",
      "20\t126529\t5214.13\t2.25\t-9.930e-01\t0.454\t41\t8.979\t59.10\t26.50\t0.864\t6\t99\r\n",
      "20\t126600\t5029.13\t-5.350e-01\t0.00\t-9.000e-03\t51\t11.922\t59.71\t31.63\t1.061\t6\t99\r\n",
      "20\t126614\t5227.129999999999\t-1.340e+00\t0.00\t-1.737e+00\t52\t5.188\t59.71\t32.88\t0.879\t6\t99\r\n",
      "20\t126730\t5061.13\t1.53\t1.06\t1.53\t56\t17.138\t59.28\t32.86\t0.310\t6\t99\r\n",
      "20\t126760\t4667.13\t-1.480e+00\t1.13\t-5.800e-01\t43\t4.082\t59.25\t31.53\t0.680\t6\t99\r\n",
      "20\t126923\t6202.129999999999\t-3.116e+00\t-9.800e-01\t0.422\t51\t1.746\t59.72\t29.77\t0.517\t6\t99\r\n",
      "20\t126930\t6414.13\t-4.350e-01\t-1.109e+00\t0.823\t53\t1.643\t59.74\t29.59\t0.566\t6\t99\r\n",
      "20\t127720\t4954.13\t-4.010e-01\t0.00\t-1.528e+00\t45\t1.863\t59.53\t33.93\t0.501\t6\t99\r\n",
      "20\t128713\t5197.129999999999\t-6.060e-01\t0.00\t-8.640e-01\t49\t0.857\t60.00\t34.88\t0.578\tNA\t99\r\n",
      "20\t129613\t8025.9\tNA\tNA\tNA\t50\t0.000\t56.07\t29.70\t1.022\tNA\t99\r\n",
      "20\t129805\t443.16\t1.59\t1.53\t-7.980e-01\t41\t1.001\t57.39\t4.82\t0.818\tNA\t99\r\n",
      "20\t129864\t5942.129999999999\t-1.248e+00\t0.399\t-5.160e-01\t58\t3.870\t56.86\t33.20\t1.112\tNA\t99\r\n",
      "20\t131362\t4715.13\t-1.470e-01\t-1.207e+00\t0.121\t51\t2.516\t59.54\t31.23\t0.472\t5\t99\r\n",
      "20\t131495\t6899.9\tNA\tNA\tNA\t61\t0.000\t56.19\t29.22\t0.859\t6\t99\r\n",
      "20\t131657\t7577.9\tNA\tNA\tNA\t54\t0.000\t59.24\t27.53\t0.935\t5\t99\r\n",
      "20\t133158\t5834.9\tNA\tNA\tNA\t51\t0.000\t58.86\t29.43\t0.857\t5\t99\r\n",
      "20\t134017\t4368.13\t-4.020e-01\t-1.598e+00\t-2.484e+00\t42\t0.000\t59.29\t33.34\t0.643\t6\t99\r\n",
      "20\t134284\t5868.9\tNA\tNA\tNA\t43\t0.000\t55.90\t24.55\t0.734\t6\t99\r\n",
      "20\t134366\t5539.9\tNA\tNA\tNA\t39\t0.000\t56.15\t30.39\t0.874\t6\t99\r\n",
      "20\t134421\t5745.9\tNA\tNA\tNA\t35\t0.000\t41.70\t35.35\t1.110\t4\t99\r\n",
      "20\t134476\t6889.9\tNA\tNA\tNA\t51\t0.000\t47.95\t28.27\t0.977\t4\t99\r\n",
      "20\t134643\t6781.9\tNA\tNA\tNA\t42\t0.000\t55.80\t30.15\t1.126\t6\t99\r\n",
      "20\t134844\t7220.9\tNA\tNA\tNA\t53\t0.000\t53.98\t27.80\t0.897\t5\t99\r\n",
      "20\t134931\t6671.9\tNA\tNA\tNA\t45\t0.000\t52.39\t35.14\t0.803\t6\t99\r\n",
      "20\t135488\t7655.9\tNA\tNA\tNA\t54\t0.000\t59.24\t33.04\t0.832\t6\t99\r\n",
      "20\t137127\t7726.9\tNA\tNA\tNA\t47\t0.000\t60.00\t28.71\t0.878\t6\t99\r\n",
      "20\t137674\t6655.13\t-8.890e-01\t0.097\t0.693\t66\t1.685\t59.13\t34.48\t0.497\t6\t99\r\n",
      "20\t137933\t6122.9\tNA\tNA\tNA\t48\t0.000\t60.00\t27.73\t0.706\t6\t99\r\n",
      "20\t138004\t5921.9\tNA\tNA\tNA\t48\t0.000\t59.59\t23.28\t0.838\t6\t99\r\n",
      "20\t138601\t7572.9\tNA\tNA\tNA\t48\t0.000\t41.09\t29.95\t1.053\tNA\t99\r\n",
      "20\t138603\t7494.9\tNA\tNA\tNA\t48\t0.000\t40.66\t28.87\t1.077\tNA\t99\r\n",
      "20\t139362\t6755.9\tNA\tNA\tNA\t61\t0.000\t59.72\t33.56\t1.242\t7\t99\r\n",
      "20\t139745\t7302.9\tNA\tNA\tNA\t52\t0.000\t58.74\t32.50\t0.716\t6\t99\r\n",
      "20\t139841\t6956.9\tNA\tNA\tNA\t54\t0.000\t59.09\t28.31\t0.752\t6\t99\r\n",
      "20\t140086\t5422.129999999999\t-1.700e+00\t0.078\t-7.130e-01\t44\t4.804\t59.05\t32.66\t0.439\t5\t99\r\n",
      "20\t140280\t6935.9\t1.75\t-1.630e-01\t-7.950e-01\t53\t3.192\t59.08\t27.86\t0.375\t6\t99\r\n",
      "20\t142021\t2392.9\tNA\tNA\tNA\t20\t0.000\t28.93\t33.23\t8.581\t3\t60\r\n",
      "20\t142229\t142.73\tNA\tNA\tNA\t2\t0.000\t26.47\t28.55\t3.611\t3\t6\r\n",
      "20\t143447\t4984.9\tNA\tNA\tNA\t39\t0.000\t46.97\t33.54\t1.488\t4\t99\r\n",
      "20\t143918\t6869.9\t1.76\t-9.700e-02\t-8.260e-01\t55\t0.000\t59.30\t28.87\t0.396\t6\t99\r\n",
      "20\t144382\t5539.13\t-3.460e-01\t0.986\t-5.890e-01\t46\t2.439\t59.89\t32.20\t0.722\t6\t99\r\n",
      "20\t144535\t6476.130000000001\t-8.140e-01\t0.139\t-3.660e-01\t39\t6.062\t58.98\t30.16\t0.719\t6\t99\r\n",
      "20\t144560\t7272.129999999999\t0.237\t-3.650e-01\t0.090\t52\t2.596\t58.90\t30.22\t1.003\t6\t99\r\n",
      "20\t144570\t8662.9\tNA\tNA\tNA\t57\t0.000\t58.67\t30.90\t0.984\t6\t99\r\n",
      "20\t144899\t7236.9\tNA\tNA\tNA\t61\t0.000\t46.90\t28.30\t1.060\t6\t99\r\n",
      "20\t145210\t5578.9\tNA\tNA\tNA\t46\t0.000\t52.25\t27.87\t1.114\t4\t99\r\n",
      "20\t145413\t5738.9\tNA\tNA\tNA\t53\t0.000\t58.52\t28.41\t0.706\t5\t99\r\n",
      "20\t146995\t6407.9\tNA\tNA\tNA\t52\t0.000\t60.00\t31.04\t0.719\t5\t99\r\n",
      "20\t148084\t5718.9\tNA\tNA\tNA\t36\t0.000\t59.83\t31.77\t0.723\t5\t99\r\n",
      "20\t148480\t7007.9\tNA\tNA\tNA\t60\t0.000\t59.86\t28.02\t0.843\t5\t99\r\n",
      "20\t149407\t6580.9\tNA\tNA\tNA\t61\t0.000\t59.42\t31.59\t1.172\t6\t99\r\n",
      "20\t149975\t4043.8999999999996\tNA\tNA\tNA\t32\t0.000\t59.78\t33.93\t0.732\t6\t95\r\n",
      "20\t151330\t7303.9\tNA\tNA\tNA\t51\t0.000\t59.87\t30.29\t0.738\t5\t99\r\n",
      "20\t152533\t5209.9\t2.13\t1.64\t-1.161e+00\t59\t2.980\t47.33\t31.20\t0.155\t4\t99\r\n",
      "20\t152570\t5891.9\tNA\tNA\tNA\t43\t0.000\t53.16\t30.96\t1.051\t4\t99\r\n",
      "20\t152797\t1257.13\t-8.030e-01\t0.074\t-1.290e-01\t60\t0.000\t56.37\t20.95\t0.569\t4\t99\r\n",
      "20\t152972\t6773.9\tNA\tNA\tNA\t58\t0.000\t52.88\t30.74\t1.127\t3\t99\r\n",
      "20\t152992\t6974.9\tNA\tNA\tNA\t61\t0.000\t53.52\t28.15\t1.172\t3\t99\r\n",
      "20\t153267\t5068.13\t1.35\t0.600\t1.40\t58\t15.614\t58.58\t32.08\t0.813\t6\t99\r\n",
      "20\t153393\t5578.13\t-1.666e+00\t-1.415e+00\t-3.610e-01\t38\t5.700\t57.49\t33.20\t0.299\t6\t99\r\n",
      "20\t153691\t3744.13\t0.712\t-2.624e+00\t-2.940e-01\t44\t5.251\t48.69\t27.13\t1.219\t4\t99\r\n",
      "20\t154614\t4462.13\t2.34\t0.00\t1.64\t48\t12.012\t58.99\t31.20\t0.777\t5\t99\r\n",
      "20\t154710\t2778.92\t0.286\t0.040\t-5.810e-01\t53\t4.850\t59.40\t18.65\t0.898\t4\t99\r\n",
      "20\t155910\t3934.9\tNA\tNA\tNA\t40\t0.000\t43.22\t34.82\t1.695\t4\t99\r\n",
      "20\t155955\t2695.13\t0.150\t1.56\t-1.186e+00\t34\t5.017\t41.82\t30.63\t0.195\t3\t99\r\n",
      "20\t156165\t4380.9\tNA\tNA\tNA\t38\t0.000\t36.86\t28.66\t1.413\t3\t99\r\n",
      "20\t156173\t4051.13\t0.491\t1.78\t0.483\t41\t3.855\t36.08\t22.71\t0.337\t3\t99\r\n",
      "20\t156329\t5428.9\tNA\tNA\tNA\t42\t0.000\t45.13\t25.72\t0.853\t4\t99\r\n",
      "20\t156330\t5428.9\tNA\tNA\tNA\t45\t0.000\t45.13\t24.56\t0.850\t4\t99\r\n",
      "20\t156534\t6196.9\tNA\tNA\tNA\t39\t0.000\t46.40\t29.93\t0.985\t4\t99\r\n",
      "20\t156538\t6198.9\tNA\tNA\tNA\t40\t0.000\t45.17\t27.41\t0.987\t3\t99\r\n",
      "20\t156652\t5201.130000000001\t-1.168e+00\t-2.051e+00\t0.286\t43\t1.646\t50.34\t33.77\t0.497\t3\t99\r\n",
      "20\t156656\t6661.9\tNA\tNA\tNA\t43\t0.000\t51.62\t30.40\t0.864\t3\t99\r\n",
      "20\t157157\t5332.9\tNA\tNA\tNA\t46\t0.000\t53.63\t28.96\t0.854\t4\t99\r\n",
      "20\t157272\t1298.16\t0.686\t0.867\t0.785\t44\t4.321\t51.49\t14.75\t1.236\t4\t99\r\n",
      "20\t157522\t1009.13\t-8.260e-01\t-5.940e-01\t-2.540e-01\t60\t0.990\t55.85\t16.82\t0.976\t4\t99\r\n",
      "20\t157746\t5988.9\t1.75\t0.831\t-7.510e-01\t50\t0.000\t55.52\t30.51\t0.354\t3\t99\r\n",
      "20\t157976\t4688.9\tNA\tNA\tNA\t36\t0.000\t55.71\t27.73\t0.710\t4\t99\r\n",
      "20\t158114\t5067.9\tNA\tNA\tNA\t31\t0.000\t48.26\t27.75\t0.876\t5\t93\r\n",
      "20\t158315\t5137.129999999999\t1.68\t1.04\t0.370\t49\t5.857\t53.02\t30.22\t1.148\t4\t99\r\n",
      "20\t158434\t3655.13\t-5.730e-01\t1.23\t0.224\t34\t0.965\t47.08\t31.78\t0.850\t4\t99\r\n",
      "20\t158495\t4528.9\tNA\tNA\tNA\t51\t0.000\t41.99\t30.04\t1.033\t4\t99\r\n",
      "20\t159289\t5359.13\t-1.950e+00\t1.93\t-1.140e+00\t52\t2.021\t56.70\t33.49\t0.984\t4\t99\r\n",
      "20\t160208\t5888.9\tNA\tNA\tNA\t41\t0.000\t59.87\t32.04\t0.749\t4\t99\r\n",
      "20\t160533\t6046.130000000001\t-8.700e-02\t1.06\t-1.050e-01\t57\t2.785\t59.74\t34.55\t1.049\t6\t99\r\n",
      "20\t160551\t7143.9\t1.75\t0.00\t0.602\t52\t0.000\t59.73\t30.29\t0.357\t6\t99\r\n",
      "20\t161450\t8313.9\tNA\tNA\tNA\t61\t0.000\t59.30\t30.49\t0.799\t6\t99\r\n",
      "20\t162683\t4583.13\t-2.814e+00\t1.60\t-6.370e-01\t37\t8.672\t59.70\t29.96\t0.865\t6\t99\r\n",
      "20\t164340\t6337.129999999999\t0.347\t-1.290e-01\t1.43\t61\t0.000\t56.91\t33.71\t0.729\t5\t99\r\n",
      "20\t165908\t6626.9\tNA\tNA\tNA\t54\t0.000\t59.70\t25.63\t1.379\t5\t99\r\n",
      "20\t166727\t5463.13\t-7.710e-01\t0.970\t0.014\t59\t6.071\t59.73\t32.33\t0.449\t6\t99\r\n",
      "20\t166824\t6894.13\t-4.260e-01\t0.00\t-9.730e-01\t70\t0.717\t59.88\t34.47\t0.603\t6\t99\r\n",
      "20\t167310\t5877.129999999999\t-6.660e-01\t-9.810e-01\t-7.760e-01\t58\t2.744\t59.87\t33.78\t0.624\t5\t99\r\n",
      "20\t167431\t6771.9\tNA\tNA\tNA\t51\t0.000\t59.30\t31.91\t0.819\t5\t99\r\n",
      "20\t168080\t4606.13\t-5.680e-01\t-1.040e+00\t-1.241e+00\t54\t6.642\t59.40\t31.33\t0.433\t6\t99\r\n",
      "20\t168466\t5877.129999999999\t1.16\t0.00\t2.00\t56\t9.742\t60.00\t31.60\t0.562\t7\t99\r\n",
      "20\t168728\t7203.9\tNA\tNA\tNA\t56\t0.000\t59.87\t35.23\t1.052\t6\t99\r\n",
      "20\t169701\t5606.130000000001\t-6.690e-01\t0.902\t-6.020e-01\t59\t0.728\t59.33\t33.17\t0.799\t5\t99\r\n",
      "20\t169995\t6220.9\tNA\tNA\tNA\t46\t0.000\t59.84\t33.95\t0.748\t6\t99\r\n",
      "20\t170589\t5600.9\tNA\tNA\tNA\t35\t0.000\t59.67\t30.94\t1.092\t6\t99\r\n",
      "20\t170642\t5945.9\tNA\tNA\tNA\t37\t0.000\t59.68\t26.00\t0.838\t6\t99\r\n",
      "20\t171189\t5119.13\t0.439\t-1.674e+00\t-2.180e-01\t55\t10.802\t57.78\t34.36\t0.148\t6\t99\r\n",
      "20\t171591\t4239.13\t-1.880e-01\t-3.070e+00\t0.524\t52\t7.913\t47.29\t27.71\t0.280\t4\t99\r\n",
      "20\t171627\t4708.13\t0.083\t-4.393e+00\t0.012\t61\t12.893\t45.76\t29.06\t0.484\t4\t99\r\n",
      "20\t172518\t6769.9\tNA\tNA\tNA\t42\t0.000\t58.33\t23.92\t0.836\tNA\t99\r\n",
      "20\t172741\t5803.9\tNA\tNA\tNA\t41\t0.000\t56.60\t32.36\t0.937\t5\t99\r\n",
      "20\t173751\t6543.9\tNA\tNA\tNA\t58\t0.000\t59.79\t28.54\t0.731\t4\t99\r\n",
      "20\t174069\t8048.9\tNA\tNA\tNA\t67\t0.000\t59.22\t26.74\t0.756\t5\t99\r\n",
      "20\t175387\t6474.9\tNA\tNA\tNA\t49\t0.000\t59.86\t30.80\t0.911\t4\t99\r\n",
      "20\t206596\t7315.9\tNA\tNA\tNA\t59\t0.000\t60.00\t28.86\t0.728\t5\t99\r\n",
      "20\t211564\t2517.16\t1.12\t1.03\t1.10\t65\t6.483\t59.83\t18.65\t1.226\t6\t99\r\n",
      "20\t212539\t3876.13\t-1.196e+00\t-1.993e+00\t-3.430e-01\t31\t2.901\t56.40\t32.57\t0.669\t4\t93\r\n",
      "20\t212541\t3876.13\t-7.730e-01\t-1.993e+00\t0.337\t31\t2.867\t56.33\t33.13\t0.615\t4\t93\r\n",
      "20\t214373\t1521.16\t2.93\t0.911\t0.562\t49\t3.675\t59.54\t15.21\t0.851\t4\t99\r\n",
      "20\t215082\t2471.16\t-5.130e-01\t1.16\t0.315\t50\t0.768\t56.59\t22.47\t0.573\t5\t99\r\n",
      "20\t216750\t6103.9\tNA\tNA\tNA\t37\t0.000\t60.00\t30.11\t0.773\t4\t99\r\n",
      "20\t216811\t1988.16\t0.763\t0.00\t-1.390e-01\t48\t0.692\t59.80\t17.29\t0.798\t5\t99\r\n",
      "20\t217074\t2459.16\t1.29\t1.24\t0.650\t54\t4.460\t59.07\t20.49\t0.787\t4\t99\r\n",
      "20\t217281\t2730.16\t1.47\t0.103\t0.720\t75\t1.457\t56.90\t21.33\t0.905\t5\t99\r\n",
      "20\t217851\t4986.9\tNA\tNA\tNA\t46\t0.000\t57.38\t29.88\t1.196\t4\t99\r\n",
      "20\t219011\t4317.16\t-2.990e-01\t-9.410e-01\t2.12\t51\t0.000\t57.43\t23.59\t0.710\t5\t99\r\n",
      "20\t219099\t2118.16\t-2.560e-01\t2.41\t0.764\t56\t9.035\t57.74\t19.26\t1.150\t6\t99\r\n",
      "20\t219362\t1174.16\t1.47\t1.83\t1.86\t53\t0.000\t58.88\t12.10\t0.628\t4\t99\r\n",
      "20\t220059\t1763.16\t0.541\t0.00\t0.834\t45\t3.916\t59.38\t19.38\t0.405\t4\t99\r\n",
      "20\t220085\t1536.16\t0.817\t0.978\t2.45\t41\t1.699\t59.16\t16.88\t0.688\t4\t99\r\n",
      "20\t220092\t1533.16\t-3.950e-01\t0.937\t3.24\t43\t1.685\t59.38\t16.31\t0.664\t4\t99\r\n",
      "20\t220197\t4477.16\t0.208\t0.871\t-3.060e-01\t56\t2.819\t59.00\t26.34\t0.517\t5\t99\r\n",
      "20\t220204\t4235.16\t2.13\t-1.191e+00\t1.19\t60\t1.235\t58.87\t25.36\t0.588\t5\t99\r\n",
      "20\t220444\t1493.16\t-1.880e-01\t-1.190e+00\t-1.890e+00\t67\t5.705\t57.34\t12.34\t1.184\t5\t99\r\n",
      "20\t221942\t4181.16\t-2.226e+00\t1.06\t0.137\t51\t1.305\t59.73\t24.60\t0.565\t5\t99\r\n",
      "20\t222674\t2390.16\t-6.780e-01\t1.02\t0.864\t60\t2.346\t59.82\t18.53\t0.491\t5\t99\r\n",
      "20\t222708\t2352.16\t0.391\t1.08\t1.12\t51\t3.400\t59.80\t20.28\t0.500\t5\t99\r\n",
      "20\t222836\t4742.16\t1.56\t1.25\t1.99\t44\t2.217\t59.64\t28.57\t0.498\t6\t99\r\n",
      "20\t222994\t1428.16\t-6.900e-01\t1.44\t0.522\t37\t7.209\t59.51\t15.19\t0.269\t6\t99\r\n",
      "20\t223172\t2018.16\t-1.140e+00\t0.00\t-4.340e-01\t49\t0.703\t59.80\t17.55\t0.590\t5\t99\r\n",
      "20\t223255\t1961.16\t0.914\t0.00\t0.385\t50\t2.499\t59.60\t17.05\t0.465\t5\t99\r\n",
      "20\t223439\t2336.16\t0.578\t0.00\t1.53\t56\t2.227\t60.00\t18.25\t0.518\t6\t99\r\n",
      "20\t223538\t5180.16\t0.474\t0.00\t0.343\t63\t0.573\t59.64\t26.98\t0.746\t5\t99\r\n",
      "20\t223858\t4520.16\t-4.920e-01\t0.00\t1.69\t61\t0.000\t59.51\t25.11\t0.694\t6\t99\r\n",
      "20\t224128\t1838.16\t0.306\t-8.700e-02\t0.305\t45\t0.735\t58.67\t17.67\t0.848\t5\t99\r\n",
      "20\t224173\t3976.16\t0.250\t0.991\t0.819\t38\t0.000\t57.56\t27.61\t0.743\t5\t99\r\n",
      "20\t224460\t680.9299999999998\t-1.716e+00\t0.952\t-8.340e-01\t17\t8.156\t53.94\t18.91\t1.931\tNA\t21\r\n",
      "20\t224464\t34.21\t-2.138e+00\t0.916\t-3.100e-01\t18\t9.126\t67.78\t0.90\t2.437\tNA\t21\r\n",
      "20\t224601\t2220.16\t0.668\t0.089\t1.43\t52\t0.000\t59.19\t19.14\t0.721\t6\t99\r\n",
      "20\t224941\t4026.16\t0.726\t0.00\t0.533\t49\t2.114\t59.57\t25.16\t0.843\t5\t99\r\n",
      "20\t224971\t4240.16\t0.066\t1.21\t-8.500e-02\t52\t2.170\t59.56\t26.84\t0.908\t5\t99\r\n",
      "20\t225058\t3660.16\t2.31\t1.40\t0.215\t39\t2.166\t59.26\t24.56\t0.888\t5\t99\r\n",
      "20\t225412\t2490.16\t1.49\t0.00\t0.029\t56\t14.952\t60.00\t18.86\t1.762\t5\t99\r\n",
      "20\t225444\t2430.16\t-5.200e-02\t0.00\t0.451\t55\t18.585\t60.00\t17.87\t1.889\t6\t99\r\n",
      "20\t225768\t1282.16\t2.98\t1.93\t-1.000e-02\t52\t1.782\t58.61\t13.22\t0.498\t4\t99\r\n",
      "20\t226444\t1363.16\t0.704\t-1.023e+00\t0.538\t44\t2.755\t58.98\t14.98\t0.721\t4\t99\r\n",
      "20\t226518\t1312.16\t-7.370e-01\t0.00\t1.90\t55\t3.673\t59.77\t12.86\t0.869\t6\t99\r\n",
      "20\t226789\t4693.16\t0.867\t0.00\t-2.830e-01\t52\t0.637\t59.73\t27.94\t0.805\t4\t99\r\n",
      "20\t227024\t2148.16\t-3.280e-01\t1.40\t1.76\t51\t2.609\t59.78\t20.27\t0.480\t6\t99\r\n",
      "20\t227142\t1759.1599999999999\t-1.766e+00\t-9.840e-01\t-6.500e-02\t62\t3.350\t59.63\t14.30\t0.425\t6\t99\r\n",
      "20\t227246\t3879.16\t0.765\t0.00\t0.732\t63\t7.259\t59.71\t24.09\t0.342\t4\t99\r\n",
      "20\t227967\t5735.13\t-1.730e-01\t-1.371e+00\t0.883\t49\t7.131\t58.23\t33.54\t0.468\t6\t99\r\n",
      "20\t228577\t6839.13\t-2.412e+00\t0.00\t-9.230e-01\t58\t6.691\t59.89\t34.03\t0.464\t5\t99\r\n",
      "20\t229456\t1481.16\t0.447\t-1.185e+00\t1.09\t48\t8.018\t56.97\t13.84\t1.432\t4\t99\r\n",
      "20\t229495\t4810.13\t-5.500e-01\t-2.455e+00\t-2.620e-01\t45\t0.000\t56.19\t28.60\t0.622\t4\t99\r\n",
      "20\t229722\t4276.13\t0.983\t0.093\t-6.390e-01\t40\t0.829\t57.41\t33.15\t0.848\t4\t99\r\n",
      "20\t229978\t1932.16\t0.882\t0.271\t1.81\t59\t2.446\t58.74\t16.80\t0.976\t4\t99\r\n",
      "20\t230053\t615.21\t-6.670e-01\t0.00\t-1.080e-01\t40\t0.000\t60.00\t15.38\t0.650\t4\t99\r\n",
      "20\t230177\t2210.16\t-1.152e+00\t0.903\t0.175\t59\t14.075\t59.86\t16.37\t0.632\t5\t99\r\n",
      "20\t230516\t5705.13\t1.35\t0.159\t-7.630e-01\t45\t4.628\t59.60\t33.83\t1.120\t6\t99\r\n",
      "20\t230541\t5877.129999999999\t0.869\t-8.670e-01\t1.63\t51\t2.926\t59.76\t34.37\t0.548\t5\t99\r\n",
      "20\t230859\t2177.16\t1.09\t0.981\t1.76\t49\t7.243\t59.80\t19.10\t0.370\t6\t99\r\n",
      "20\t230983\t1384.1599999999999\t0.767\t0.740\t2.57\t56\t0.736\t59.95\t13.18\t0.605\t6\t99\r\n",
      "20\t231090\t6178.13\t0.537\t0.869\t0.018\t58\t7.771\t59.43\t33.76\t0.582\t6\t99\r\n",
      "20\t231312\t1053.16\t1.73\t1.54\t1.24\t48\t0.000\t56.50\t12.39\t0.676\t4\t99\r\n",
      "20\t231505\t2267.16\t-2.490e-01\t0.737\t1.02\t67\t3.373\t59.54\t17.99\t1.055\t5\t99\r\n",
      "20\t232107\t6270.13\t-4.670e-01\t1.02\t-7.300e-01\t47\t2.866\t59.74\t28.00\t1.017\t5\t99\r\n",
      "20\t232580\t1545.1600000000003\t1.87\t0.00\t0.694\t43\t0.000\t59.20\t17.97\t0.754\t5\t99\r\n",
      "20\t233623\t1599.1599999999999\t1.03\t1.27\t0.573\t43\t0.000\t59.56\t17.01\t0.703\t4\t99\r\n",
      "20\t233879\t7171.9\tNA\tNA\tNA\t51\t0.000\t58.86\t32.56\t0.950\t6\t99\r\n",
      "20\t234179\t4960.13\t-8.290e-01\t-4.149e+00\t0.352\t55\t1.742\t57.36\t31.59\t0.475\t4\t99\r\n",
      "20\t234360\t4594.13\t-8.090e-01\t-1.633e+00\t-8.900e-02\t48\t2.959\t58.47\t32.35\t0.435\tNA\t99\r\n",
      "20\t235107\t5156.130000000001\t-3.320e-01\t0.00\t-4.990e-01\t54\t0.735\t59.90\t31.25\t0.666\t5\t99\r\n",
      "20\t235722\t5358.13\t-1.127e+00\t-2.735e+00\t0.121\t54\t5.479\t56.43\t32.67\t0.817\t4\t99\r\n",
      "20\t235970\t2922.13\t0.694\t-1.205e+00\t0.836\t24\t0.000\t57.12\t32.83\t0.582\tNA\t99\r\n",
      "20\t236088\t5886.130000000001\t1.02\t-7.580e-01\t1.58\t47\t0.000\t58.22\t33.83\t0.648\t5\t99\r\n",
      "20\t236168\t5395.13\t-9.040e-01\t-2.865e+00\t-2.350e-01\t47\t0.863\t55.73\t33.51\t0.552\t6\t99\r\n",
      "20\t236238\t5351.130000000001\t0.963\t-3.240e+00\t-1.046e+00\t43\t3.154\t54.74\t33.44\t0.418\t6\t99\r\n",
      "20\t236286\t5641.130000000001\t3.51\t-2.170e+00\t0.512\t45\t6.706\t56.29\t34.61\t0.228\t5\t99\r\n",
      "20\t236328\t5602.129999999999\t-8.300e-02\t-1.653e+00\t-2.410e-01\t36\t7.482\t57.95\t28.18\t0.206\tNA\t99\r\n",
      "20\t236419\t4319.13\t-1.008e+00\t-8.200e-01\t-2.690e-01\t27\t2.651\t59.42\t30.67\t0.724\t5\t99\r\n",
      "20\t236802\t5002.13\t-1.980e+00\t1.59\t-1.366e+00\t46\t0.877\t59.07\t33.13\t0.827\t5\t99\r\n",
      "20\t236992\t5434.13\t0.496\t-8.830e-01\t1.17\t50\t9.298\t59.85\t34.39\t0.481\t5\t99\r\n",
      "20\t237052\t5503.13\t-4.230e-01\t-1.048e+00\t-2.550e-01\t67\t7.135\t59.87\t31.81\t0.871\t6\t99\r\n",
      "20\t237418\t5100.13\t0.804\t-1.534e+00\t0.289\t47\t6.117\t58.02\t32.90\t0.518\t6\t99\r\n",
      "20\t237497\t6654.13\t0.579\t-4.770e-01\t0.239\t52\t1.751\t58.43\t33.30\t0.902\t4\t99\r\n",
      "20\t237545\t6786.130000000001\t0.768\t-8.910e-01\t0.353\t45\t0.000\t59.07\t30.97\t0.634\t4\t99\r\n",
      "20\t237569\t6848.13\t-5.610e-01\t-1.027e+00\t-4.450e-01\t41\t3.048\t59.61\t30.05\t0.416\t4\t99\r\n",
      "20\t237618\t5966.130000000001\t-3.530e-01\t-3.280e+00\t-1.537e+00\t45\t7.420\t55.75\t34.29\t0.264\t4\t99\r\n",
      "20\t237677\t6742.129999999999\t2.98\t-2.899e+00\t1.46\t54\t11.221\t55.68\t26.12\t0.168\tNA\t99\r\n",
      "20\t238020\t6012.129999999999\t2.94\t0.867\t0.135\t61\t4.352\t59.88\t30.67\t1.098\t6\t99\r\n",
      "20\t238507\t4334.13\t0.726\t-3.879e+00\t0.556\t44\t1.816\t52.36\t30.52\t0.630\t6\t99\r\n",
      "20\t238530\t4789.13\t-3.910e-01\t-1.698e+00\t-9.300e-02\t37\t9.602\t57.83\t27.45\t0.641\t6\t99\r\n",
      "20\t238540\t4867.13\t-1.730e-01\t-1.980e+00\t-8.940e-01\t41\t16.537\t58.07\t30.22\t0.356\t6\t99\r\n",
      "20\t238737\t5744.13\t-5.640e-01\t-1.367e+00\t-3.160e-01\t45\t7.801\t57.48\t34.19\t0.232\t6\t99\r\n",
      "20\t239294\t5976.130000000001\t-1.100e-02\t-1.170e+00\t0.254\t46\t0.000\t55.15\t34.15\t0.628\t5\t99\r\n",
      "20\t239664\t4855.13\t0.462\t-1.809e+00\t1.80\t55\t6.222\t57.96\t32.58\t1.224\t5\t99\r\n",
      "20\t239688\t5950.13\t0.755\t-1.416e+00\t1.51\t52\t14.223\t58.33\t30.16\t0.719\t7\t99\r\n",
      "20\t239697\t6214.13\t1.33\t-1.024e+00\t1.93\t54\t10.326\t58.70\t30.76\t0.802\t7\t99\r\n",
      "20\t240704\t5305.13\t-1.180e-01\t0.00\t0.532\t38\t7.120\t60.00\t29.59\t1.280\t6\t99\r\n",
      "20\t240706\t5305.13\t0.372\t0.00\t0.947\t39\t5.041\t60.00\t32.29\t1.256\t6\t99\r\n",
      "20\t241234\t5273.13\t-5.130e-01\t0.00\t-5.590e-01\t65\t2.712\t60.00\t33.37\t1.025\t5\t99\r\n",
      "20\t241366\t6590.13\t-1.560e-01\t0.00\t0.521\t59\t0.745\t59.88\t34.87\t0.839\t5\t99\r\n",
      "20\t241638\t1722.16\t1.18\t0.799\t1.66\t54\t3.606\t59.78\t16.25\t0.635\t5\t99\r\n",
      "20\t242409\t1781.16\t-1.580e+00\t1.64\t-7.550e-01\t52\t0.696\t58.13\t15.49\t0.742\t4\t99\r\n",
      "20\t242615\t1315.1600000000003\t0.873\t0.546\t1.29\t49\t4.975\t48.80\t13.02\t0.728\t4\t99\r\n",
      "20\t242685\t3766.13\t-8.370e-01\t-1.022e+00\t0.785\t40\t0.839\t53.71\t30.87\t0.689\t4\t99\r\n",
      "20\t242694\t1144.16\t0.544\t1.46\t0.532\t41\t4.223\t56.02\t13.62\t1.036\t4\t99\r\n",
      "20\t242798\t1490.1600000000003\t0.978\t-1.782e+00\t1.84\t42\t3.006\t56.18\t18.86\t0.761\tNA\t99\r\n",
      "20\t243352\t2154.16\t2.56\t0.00\t1.22\t54\t0.000\t60.00\t18.57\t0.752\t6\t99\r\n",
      "20\t243398\t1622.16\t2.30\t0.00\t0.209\t49\t1.574\t60.00\t15.02\t0.879\t6\t99\r\n",
      "20\t243679\t1667.16\t0.873\t0.728\t1.17\t53\t4.579\t59.64\t14.62\t0.945\t5\t99\r\n",
      "20\t243924\t1855.1600000000003\t2.02\t1.31\t0.980\t43\t2.564\t57.72\t18.01\t0.525\t5\t99\r\n",
      "20\t244092\t3540.13\t-1.010e-01\t-1.468e+00\t-9.330e-01\t42\t1.957\t55.80\t29.75\t0.715\tNA\t99\r\n",
      "20\t244146\t1147.92\t-4.610e-01\t3.88\t0.044\t29\t7.653\t45.82\t14.91\t0.618\tNA\t99\r\n",
      "20\t244333\t1231.16\t0.964\t1.19\t0.053\t37\t0.868\t57.59\t16.20\t0.713\t4\t99\r\n",
      "20\t244373\t1232.16\t0.751\t0.929\t1.44\t32\t0.000\t57.85\t17.86\t0.594\t5\t99\r\n",
      "20\t244985\t1855.1600000000003\t0.862\t1.08\t1.67\t61\t3.379\t59.80\t15.86\t1.013\t6\t99\r\n",
      "20\t245466\t1846.16\t0.708\t-6.160e-01\t1.02\t46\t8.334\t56.84\t15.01\t1.120\t6\t99\r\n",
      "20\t245665\t1979.1599999999999\t1.09\t-1.878e+00\t2.66\t40\t0.965\t51.24\t27.88\t0.563\tNA\t99\r\n",
      "20\t245669\t2125.16\t0.467\t-1.951e+00\t2.81\t38\t4.942\t50.86\t29.93\t0.316\tNA\t99\r\n",
      "20\t245673\t2041.16\t0.019\t-1.600e+00\t2.43\t36\t5.362\t51.74\t29.58\t0.342\tNA\t99\r\n",
      "20\t245690\t2019.14\t-1.260e-01\t-1.327e+00\t3.52\t41\t4.615\t53.76\t25.89\t0.859\tNA\t99\r\n",
      "20\t245935\t1463.16\t0.437\t-4.760e-01\t0.613\t53\t1.639\t56.57\t15.57\t0.874\t4\t99\r\n",
      "20\t246255\t2193.16\t0.024\t-3.360e-01\t1.06\t62\t3.618\t58.38\t20.50\t0.418\t5\t99\r\n",
      "20\t259710\t209.94\t0.967\t0.431\t0.967\t3\t0.000\t19.12\t20.99\t1.609\tNA\t14\r\n",
      "20\t259818\t1614.1599999999999\t0.360\t2.92\t-7.890e-01\t29\t7.074\t56.09\t22.11\t0.146\tNA\t99\r\n",
      "20\t272593\t7061.9\tNA\tNA\tNA\t64\t0.000\t59.89\t35.09\t0.910\t6\t99\r\n",
      "20\t277617\t3897.9\t0.141\t0.00\t-5.070e-01\t62\t3.258\t59.88\t32.76\t1.214\t6\t99\r\n",
      "20\t277692\t2827.9\t1.17\t0.00\t0.908\t43\t2.068\t60.00\t30.41\t0.625\t6\t99\r\n",
      "20\t277832\t3091.9\t0.983\t-2.200e-01\t-1.796e+00\t54\t2.751\t58.58\t26.89\t0.454\t3\t99\r\n",
      "20\t278515\t1708.9\t0.653\t-7.540e-01\t-9.800e-02\t31\t1.009\t57.62\t24.77\t0.512\t4\t93\r\n",
      "cat: write error: Broken pipe\r\n"
     ]
    }
   ],
   "source": [
    "! cat sandbox/motherSNP.giab.txt | head -n300"
   ]
  },
  {
   "cell_type": "markdown",
   "metadata": {},
   "source": [
    "*Cell 42: Load the table into an R dataframe*"
   ]
  },
  {
   "cell_type": "code",
   "execution_count": 42,
   "metadata": {},
   "outputs": [],
   "source": [
    "%%R\n",
    "library(readr)\n",
    "motherSNP.giab <- read_delim(\"sandbox/motherSNP.giab.txt\",\"\\t\",\n",
    "escape_double = FALSE,\n",
    "col_types = cols(giab.callsets = col_character()), trim_ws = TRUE)"
   ]
  },
  {
   "cell_type": "markdown",
   "metadata": {},
   "source": [
    "## Loading R Script to Make Plotting Functions Available\n",
    "We provide an R script containing several predefined plotting functions."
   ]
  },
  {
   "cell_type": "markdown",
   "metadata": {},
   "source": [
    "*Cell 43: Copy the R script from the bucket to the notebook's working directory, then load it into the R environment*"
   ]
  },
  {
   "cell_type": "code",
   "execution_count": 43,
   "metadata": {},
   "outputs": [
    {
     "name": "stdout",
     "output_type": "stream",
     "text": [
      "Copying gs://genomics-in-the-cloud/v1/scripts/plotting.R...\n",
      "/ [1 files][  3.5 KiB/  3.5 KiB]                                                \n",
      "Operation completed over 1 objects/3.5 KiB.                                      \n"
     ]
    },
    {
     "name": "stderr",
     "output_type": "stream",
     "text": [
      "R[write to console]: Installing package into ‘/home/jupyter-user/.rpackages’\n",
      "(as ‘lib’ is unspecified)\n",
      "\n",
      "R[write to console]: trying URL 'https://cloud.r-project.org/src/contrib/gridExtra_2.3.tar.gz'\n",
      "\n",
      "R[write to console]: Content type 'application/x-gzip'\n",
      "R[write to console]:  length 1062844 bytes (1.0 MB)\n",
      "\n",
      "R[write to console]: =\n",
      "R[write to console]: =\n",
      "R[write to console]: =\n",
      "R[write to console]: =\n",
      "R[write to console]: =\n",
      "R[write to console]: =\n",
      "R[write to console]: =\n",
      "R[write to console]: =\n",
      "R[write to console]: =\n",
      "R[write to console]: =\n",
      "R[write to console]: =\n",
      "R[write to console]: =\n",
      "R[write to console]: =\n",
      "R[write to console]: =\n",
      "R[write to console]: =\n",
      "R[write to console]: =\n",
      "R[write to console]: =\n",
      "R[write to console]: =\n",
      "R[write to console]: =\n",
      "R[write to console]: =\n",
      "R[write to console]: =\n",
      "R[write to console]: =\n",
      "R[write to console]: =\n",
      "R[write to console]: =\n",
      "R[write to console]: =\n",
      "R[write to console]: =\n",
      "R[write to console]: =\n",
      "R[write to console]: =\n",
      "R[write to console]: =\n",
      "R[write to console]: =\n",
      "R[write to console]: =\n",
      "R[write to console]: =\n",
      "R[write to console]: =\n",
      "R[write to console]: =\n",
      "R[write to console]: =\n",
      "R[write to console]: =\n",
      "R[write to console]: =\n",
      "R[write to console]: =\n",
      "R[write to console]: =\n",
      "R[write to console]: =\n",
      "R[write to console]: =\n",
      "R[write to console]: =\n",
      "R[write to console]: =\n",
      "R[write to console]: =\n",
      "R[write to console]: =\n",
      "R[write to console]: =\n",
      "R[write to console]: =\n",
      "R[write to console]: =\n",
      "R[write to console]: =\n",
      "R[write to console]: =\n",
      "R[write to console]: \n",
      "\n",
      "R[write to console]: downloaded 1.0 MB\n",
      "\n",
      "\n",
      "R[write to console]: \n",
      "\n",
      "R[write to console]: \n",
      "R[write to console]: The downloaded source packages are in\n",
      "\t‘/tmp/RtmpJtq0Ry/downloaded_packages’\n",
      "R[write to console]: \n",
      "R[write to console]: \n",
      "\n"
     ]
    },
    {
     "data": {
      "text/html": [
       "\n",
       "        <span>ListVector with 2 elements.</span>\n",
       "        <table>\n",
       "        <tbody>\n",
       "        \n",
       "          <tr>\n",
       "            <th>\n",
       "            value\n",
       "            </th>\n",
       "            <td>\n",
       "            <rpy2.rinterface.SexpClosure object at 0x7f6e8dcf38c0> [RTYPES.CLOSXP]\n",
       "            </td>\n",
       "          </tr>\n",
       "        \n",
       "          <tr>\n",
       "            <th>\n",
       "            visible\n",
       "            </th>\n",
       "            <td>\n",
       "            <rpy2.rinterface.BoolSexpVector object at 0x7f6e8dcf35a0> [RTYPES.LGLSXP]\n",
       "            </td>\n",
       "          </tr>\n",
       "        \n",
       "        </tbody>\n",
       "        </table>\n",
       "        "
      ],
      "text/plain": [
       "R object with classes: ('list',) mapped to:\n",
       "[SexpClosure, BoolSexpVector]\n",
       "  value: <class 'rpy2.rinterface.SexpClosure'>\n",
       "  <rpy2.rinterface.SexpClosure object at 0x7f6e921ab320> [RTYPES.CLOSXP]\n",
       "  visible: <class 'rpy2.rinterface.BoolSexpVector'>\n",
       "  <rpy2.rinterface.BoolSexpVector object at 0x7f6e8dcf2230> [RTYPES.LGLSXP]"
      ]
     },
     "execution_count": 43,
     "metadata": {},
     "output_type": "execute_result"
    }
   ],
   "source": [
    "! gsutil cp gs://genomics-in-the-cloud/v1/scripts/plotting.R .\n",
    "%R source(\"plotting.R\")"
   ]
  },
  {
   "cell_type": "markdown",
   "metadata": {},
   "source": [
    "## Making Density Plots for QUAL by Using makeDensityPlot\n",
    "We can make density plots to visualize the distribution of a single annotation in our callset."
   ]
  },
  {
   "cell_type": "markdown",
   "metadata": {},
   "source": [
    "*Cell 44: Use the predefined function `makeDensityPlot` to visualize the distribution of the QUAL annotation*"
   ]
  },
  {
   "cell_type": "code",
   "execution_count": 44,
   "metadata": {},
   "outputs": [
    {
     "data": {
      "image/png": "[encoded data removed]"
     },
     "metadata": {},
     "output_type": "display_data"
    }
   ],
   "source": [
    "%%R\n",
    "QUAL_density = makeDensityPlot(motherSNP.giab, \"QUAL\")\n",
    "QUAL_density"
   ]
  },
  {
   "cell_type": "markdown",
   "metadata": {},
   "source": [
    "*Cell 45: Created a second density plot focused on values of QUAL up to 10,000 maximum*"
   ]
  },
  {
   "cell_type": "code",
   "execution_count": 45,
   "metadata": {},
   "outputs": [
    {
     "data": {
      "image/png": "[encoded data removed]"
     },
     "metadata": {},
     "output_type": "display_data"
    }
   ],
   "source": [
    "%%R\n",
    "QUAL_density_zoom = makeDensityPlot(motherSNP.giab, \"QUAL\", xmax=10000)\n",
    "QUAL_density_zoom"
   ]
  },
  {
   "cell_type": "markdown",
   "metadata": {},
   "source": [
    "*Cell 46: Split the variants into subsets based on the number of callsets they were concordant with in GiaB*"
   ]
  },
  {
   "cell_type": "code",
   "execution_count": 46,
   "metadata": {},
   "outputs": [
    {
     "data": {
      "image/png": "[encoded data removed]"
     },
     "metadata": {},
     "output_type": "display_data"
    }
   ],
   "source": [
    "%%R\n",
    "QUAL_density_split = makeDensityPlot(motherSNP.giab, \"QUAL\", xmax=10000,\n",
    "split=\"giab.callsets\")\n",
    "QUAL_density_split"
   ]
  },
  {
   "cell_type": "markdown",
   "metadata": {},
   "source": [
    "**Note:** In this exercise, a higher number of concordant callsets is a likely indicator that a variant call is a true positive rather than an artifact."
   ]
  },
  {
   "cell_type": "markdown",
   "metadata": {},
   "source": [
    "## Making a Scatter Plot of QUAL Versus DP\n",
    "We can make scatter plots to visualize the relationship between two annotations. "
   ]
  },
  {
   "cell_type": "markdown",
   "metadata": {},
   "source": [
    "*Cell 47: Use the predefined function `makeScatterPlot` to examine the relationship between QUAL and DP*"
   ]
  },
  {
   "cell_type": "code",
   "execution_count": 47,
   "metadata": {},
   "outputs": [
    {
     "data": {
      "image/png": "[encoded data removed]"
     },
     "metadata": {},
     "output_type": "display_data"
    }
   ],
   "source": [
    "%%R\n",
    "QUAL_DP_scatterplot = makeScatterPlot(motherSNP.giab, \"QUAL\", \"DP\")\n",
    "QUAL_DP_scatterplot"
   ]
  },
  {
   "cell_type": "markdown",
   "metadata": {},
   "source": [
    "**Note:** Like above, you can use `xmax` as well as the y-axis equivalent `ymax` to zoom in on ranges of values, and `split` to view the breakdown of the dataa based on the GiaB callsets annotation. "
   ]
  },
  {
   "cell_type": "markdown",
   "metadata": {},
   "source": [
    "## Making a Scatter Plot Flanked by Marginal Density Plots\n",
    "Finally, we can combine the two types of visualizations."
   ]
  },
  {
   "cell_type": "markdown",
   "metadata": {},
   "source": [
    "*Cell 48: Use the predefined function `makeScatterPlotWithMarginalDensity` to visualize both annotations' density plots as well as the scatter plot.* "
   ]
  },
  {
   "cell_type": "code",
   "execution_count": 48,
   "metadata": {},
   "outputs": [
    {
     "name": "stdout",
     "output_type": "stream",
     "text": [
      "TableGrob (2 x 2) \"arrange\": 4 grobs\n",
      "  z     cells    name              grob\n",
      "1 1 (1-1,1-1) arrange    gtable[layout]\n",
      "2 2 (1-1,2-2) arrange gtable[guide-box]\n",
      "3 3 (2-2,1-1) arrange    gtable[layout]\n",
      "4 4 (2-2,2-2) arrange    gtable[layout]\n"
     ]
    },
    {
     "data": {
      "image/png": "[encoded data removed]"
     },
     "metadata": {},
     "output_type": "display_data"
    }
   ],
   "source": [
    "%%R\n",
    "QUAL_DP_comboplot = makeScatterPlotWithMarginalDensity(motherSNP.giab, \"QUAL\",\n",
    "\"DP\", split=\"giab.callsets\", xmax=10000, ymax=100, ptSize=0.5, ptAlpha=0.05)\n",
    "QUAL_DP_comboplot"
   ]
  },
  {
   "cell_type": "markdown",
   "metadata": {},
   "source": [
    "This concludes the visualization section of this notebook.\n",
    "\n",
    "**Important note**  \n",
    "This particular method of manipulating and visualizing variant data would not scale well for larger datasets, because it involves reading a potentially very large table directly into memory. We chose it for this tutorial because it has the advantage of being approachable\n",
    "for newcomers, and our primary goal was to give you a sense of the possibilities and familiarize you with the basic mechanics involved. However, for full-scale work,\n",
    "you’ll probably want to use more robust methods. We recommend checking out [Hail](https://hail.is), a Python-based, genetics-focused toolkit that is extraordinarily scalable and includes a suite of variant quality control functions, among other capabilities. Like some of the more recent GATK tools, Hail is capable of using Spark to parallelize analysis, and has been used to perform genome-wide association studies (GWAS) on massive datasets like the UK Biobank. The Terra Library has a few workspaces that feature Hail, including a set of tutorial notebooks and a [complete GWAS example](https://app.terra.bio/#workspaces/amp-t2d-op/2019_ASHG_Reproducible_GWAS-V2).\n",
    "\n",
    "----\n",
    "\n",
    "# Epilogue\n",
    "\n",
    "Whether you're following along with the Genomics in the Cloud book or not, we encourage you to use this notebook as a starting point to experiment with the tools and approaches that we've introduced here. We plan to add more tutorials on [the book's blog](https://broadinstitute.github.io/genomics-in-the-cloud/) so don't hesitate to suggest topics of interest. "
   ]
  },
  {
   "cell_type": "code",
   "execution_count": null,
   "metadata": {},
   "outputs": [],
   "source": []
  }
 ],
 "metadata": {
  "kernelspec": {
   "display_name": "Python 3",
   "language": "python",
   "name": "python3"
  },
  "language_info": {
   "codemirror_mode": {
    "name": "ipython",
    "version": 3
   },
   "file_extension": ".py",
   "mimetype": "text/x-python",
   "name": "python",
   "nbconvert_exporter": "python",
   "pygments_lexer": "ipython3",
   "version": "3.7.6"
  },
  "toc": {
   "base_numbering": 1,
   "nav_menu": {},
   "number_sections": true,
   "sideBar": true,
   "skip_h1_title": false,
   "title_cell": "Table of Contents",
   "title_sidebar": "Contents",
   "toc_cell": false,
   "toc_position": {},
   "toc_section_display": true,
   "toc_window_display": true
  }
 },
 "nbformat": 4,
 "nbformat_minor": 2
}
