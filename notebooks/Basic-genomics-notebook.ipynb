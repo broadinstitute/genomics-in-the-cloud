{
 "cells": [
  {
   "cell_type": "markdown",
   "metadata": {},
   "source": [
    "**Content summary**  \n",
    "This notebook provides a short introduction to basic Jupyter Notebook functionality and illustrates some options for working with genomic data in cloud storage. It is based on [source code](https://github.com/broadinstitute/genomics-in-the-cloud/tree/main/notebooks) provided with the [Genomics in the Cloud](https://oreil.ly/genomics-cloud) book (Van der Auwera & O'Connor, O'Reilly 2020).\n",
    "\n",
    "\n",
    "**Environment configuration**   \n",
    "This notebook requires a custom [Terra](https://app.terra.bio/) Cloud Environment image provided as the container `gcr.io/broad-dsde-outreach/terra-base:ipyigv1`, complemented by a startup script (gs://genomics-in-the-cloud/v1/scripts/install_GATK_4130_with_igv.sh) that installs GATK version 4.1.3.0.  \n",
    "\n",
    "You must customize your environment using the Cloud Environment configuration panel to match this notebook's requirements; SOME COMMANDS WILL NOT WORK IF YOU DO NOT DO THIS. \n",
    "\n",
    "- In the configuration panel, set the `Application Configuration` to `Custom Environment` (all the way at the bottom of the menu) and paste the container address given above into the `Container image` field. \n",
    "- Then (still in the config panel), in the `Cloud compute profile` box, paste the startup script link given above into the `Startup Script` field. \n",
    "\n",
    "Refer to [Terra documentation on customizing your environment](https://support.terra.bio/hc/en-us/articles/360038125912) to learn more about environment customization options.\n",
    "\n",
    "**Kernel**  \n",
    "By default this notebook opens on a Python 3 kernel. When you have the notebook running in EDIT mode, the upper right corner of the notebook (under the Notebook Runtime widget) should display the label `Python3`. \n",
    "\n",
    "----"
   ]
  },
  {
   "cell_type": "markdown",
   "metadata": {},
   "source": [
    "# Getting started with Jupyter in Terra"
   ]
  },
  {
   "cell_type": "markdown",
   "metadata": {},
   "source": [
    "In this section, we run through some exercises to familiarize you with the basic usage of Jupyter notebooks in the Terra environment.\n",
    "\n",
    "\n",
    "## Run the Hello World cells\n",
    "We start with some simple Hello World examples, first in Python, then with a command-line tool call."
   ]
  },
  {
   "cell_type": "markdown",
   "metadata": {},
   "source": [
    "Run the basic Hello World in Python"
   ]
  },
  {
   "cell_type": "code",
   "execution_count": null,
   "metadata": {},
   "outputs": [],
   "source": [
    "print(\"Hello World!\")"
   ]
  },
  {
   "cell_type": "markdown",
   "metadata": {},
   "source": [
    "Run the command-line tool `echo` using `!`"
   ]
  },
  {
   "cell_type": "code",
   "execution_count": null,
   "metadata": {
    "scrolled": true
   },
   "outputs": [],
   "source": [
    "! echo \"Hello World!\""
   ]
  },
  {
   "cell_type": "markdown",
   "metadata": {},
   "source": [
    "## Interact with local storage"
   ]
  },
  {
   "cell_type": "markdown",
   "metadata": {},
   "source": [
    "List contents of local storage (persistent disk)"
   ]
  },
  {
   "cell_type": "code",
   "execution_count": null,
   "metadata": {},
   "outputs": [],
   "source": [
    "! ls ."
   ]
  },
  {
   "cell_type": "markdown",
   "metadata": {},
   "source": [
    "Make a sandbox directory to keep project files organized"
   ]
  },
  {
   "cell_type": "code",
   "execution_count": null,
   "metadata": {},
   "outputs": [],
   "source": [
    "! mkdir -p sandbox/\n",
    "! ls"
   ]
  },
  {
   "cell_type": "markdown",
   "metadata": {},
   "source": [
    "## Access data in cloud storage buckets "
   ]
  },
  {
   "cell_type": "markdown",
   "metadata": {},
   "source": [
    "List the contents of a public cloud storage bucket called `genomics-in-the-cloud`"
   ]
  },
  {
   "cell_type": "code",
   "execution_count": null,
   "metadata": {},
   "outputs": [],
   "source": [
    "! gsutil ls gs://genomics-in-the-cloud/"
   ]
  },
  {
   "cell_type": "markdown",
   "metadata": {},
   "source": [
    "Copy a file from the bucket to the sandbox (on persistent disk)"
   ]
  },
  {
   "cell_type": "code",
   "execution_count": null,
   "metadata": {},
   "outputs": [],
   "source": [
    "! gsutil cp gs://genomics-in-the-cloud/hello.txt sandbox/"
   ]
  },
  {
   "cell_type": "markdown",
   "metadata": {},
   "source": [
    "Read the contents of the locally-stored text file"
   ]
  },
  {
   "cell_type": "code",
   "execution_count": null,
   "metadata": {},
   "outputs": [],
   "source": [
    "! cat sandbox/hello.txt"
   ]
  },
  {
   "cell_type": "markdown",
   "metadata": {},
   "source": [
    "## Save local files to the workspace's storage bucket"
   ]
  },
  {
   "cell_type": "markdown",
   "metadata": {},
   "source": [
    "Import the `os` package, look up the value of the `WORKSPACE_BUCKET` environment variable (set by Terra at the kernel level) and store it in a Python variable for easy access"
   ]
  },
  {
   "cell_type": "code",
   "execution_count": null,
   "metadata": {},
   "outputs": [],
   "source": [
    "import os\n",
    "WS_BUCKET = os.environ['WORKSPACE_BUCKET']\n",
    "print(WS_BUCKET)"
   ]
  },
  {
   "cell_type": "markdown",
   "metadata": {},
   "source": [
    "Back up the sandbox directory from the persistent disk to the workspace bucket "
   ]
  },
  {
   "cell_type": "code",
   "execution_count": null,
   "metadata": {},
   "outputs": [],
   "source": [
    "! gsutil cp -r sandbox {WS_BUCKET}"
   ]
  },
  {
   "cell_type": "markdown",
   "metadata": {},
   "source": [
    "Verify that it worked as expected"
   ]
  },
  {
   "cell_type": "code",
   "execution_count": null,
   "metadata": {},
   "outputs": [],
   "source": [
    "! gsutil ls -r {WS_BUCKET}"
   ]
  },
  {
   "cell_type": "markdown",
   "metadata": {},
   "source": [
    "## Set up variables pointing to genomic data in the bucket\n",
    "We're going to want to access the data in the bucket multiple times, so we make a variable to avoid hardcoding and repeating file paths."
   ]
  },
  {
   "cell_type": "markdown",
   "metadata": {},
   "source": [
    "Create Python variables"
   ]
  },
  {
   "cell_type": "code",
   "execution_count": null,
   "metadata": {},
   "outputs": [],
   "source": [
    "BAMS = \"gs://genomics-in-the-cloud/v1/data/germline/bams\"\n",
    "REF = \"gs://genomics-in-the-cloud/v1/data/germline/ref\""
   ]
  },
  {
   "cell_type": "markdown",
   "metadata": {},
   "source": [
    "Use the variable to list the bucket contents and verify they work as expected"
   ]
  },
  {
   "cell_type": "code",
   "execution_count": null,
   "metadata": {
    "scrolled": true
   },
   "outputs": [],
   "source": [
    "! gsutil ls {BAMS}"
   ]
  },
  {
   "cell_type": "code",
   "execution_count": null,
   "metadata": {},
   "outputs": [],
   "source": [
    "! gsutil ls {REF}"
   ]
  },
  {
   "cell_type": "markdown",
   "metadata": {},
   "source": [
    "This completes the \"getting started\" portion of this notebook.\n",
    "\n",
    "----"
   ]
  },
  {
   "cell_type": "markdown",
   "metadata": {},
   "source": [
    "# Visualizing genomic data in an embedded IGV window\n",
    "In this section, we embed IGV windows in the notebook in order to visualize genomic data without leaving the notebook environment.\n",
    "\n",
    "## Set up the embedded IGV browser\n",
    "First we need to import the `ipyigv` package and initialize a browser window."
   ]
  },
  {
   "cell_type": "code",
   "execution_count": null,
   "metadata": {},
   "outputs": [],
   "source": [
    "import ipyigv as igv\n",
    "from ipywidgets.widgets.trait_types import InstanceDict\n",
    "from ipyigv.options import ReferenceGenome, Track\n",
    "from ipywidgets import Output"
   ]
  },
  {
   "cell_type": "markdown",
   "metadata": {},
   "source": [
    "Initialize the browser instance with a genome reference"
   ]
  },
  {
   "cell_type": "code",
   "execution_count": null,
   "metadata": {},
   "outputs": [],
   "source": [
    "genomeDict = igv.PUBLIC_GENOMES.hg19\n",
    "genome = ReferenceGenome(**genomeDict)\n",
    "browser = igv.IgvBrowser(genome=genome)"
   ]
  },
  {
   "cell_type": "markdown",
   "metadata": {},
   "source": [
    "Display the browser window"
   ]
  },
  {
   "cell_type": "code",
   "execution_count": null,
   "metadata": {},
   "outputs": [],
   "source": [
    "browser"
   ]
  },
  {
   "cell_type": "markdown",
   "metadata": {},
   "source": [
    "## Add data to the IGV browser\n",
    "Now we can add data by pointing to files in a bucket."
   ]
  },
  {
   "cell_type": "markdown",
   "metadata": {},
   "source": [
    "Define data tracks for two BAM files (whole genome and exome versions of the mother sample)"
   ]
  },
  {
   "cell_type": "code",
   "execution_count": null,
   "metadata": {},
   "outputs": [],
   "source": [
    "wgs_track = {\n",
    "  'name': 'Mother WGS',\n",
    "  'format': 'bam',\n",
    "  'url': BAMS + '/mother.bam',\n",
    "  'indexURL': BAMS + '/mother.bai',\n",
    "  'height': 200\n",
    "}\n",
    "browser.add_track(Track(**wgs_track))"
   ]
  },
  {
   "cell_type": "code",
   "execution_count": null,
   "metadata": {},
   "outputs": [],
   "source": [
    "exome_track = {\n",
    "  'name': 'Mother Exome',\n",
    "  'format': 'bam',\n",
    "  'url': BAMS + '/motherNEX.bam',\n",
    "  'indexURL': BAMS + '/motherNEX.bai',\n",
    "  'height': 200\n",
    "}\n",
    "browser.add_track(Track(**exome_track))"
   ]
  },
  {
   "cell_type": "markdown",
   "metadata": {},
   "source": [
    "Zoom in to region of interest"
   ]
  },
  {
   "cell_type": "code",
   "execution_count": null,
   "metadata": {},
   "outputs": [],
   "source": [
    "browser.search('chr20:10,025,584-10,036,143')"
   ]
  },
  {
   "cell_type": "markdown",
   "metadata": {},
   "source": [
    "## Set up an access token to view private data\n",
    "IGV needs an access token to retrieve data from private buckets (including your workspace's own bucket)."
   ]
  },
  {
   "cell_type": "markdown",
   "metadata": {},
   "source": [
    "Emit an acces token and save it to a file, then read it into a variable"
   ]
  },
  {
   "cell_type": "code",
   "execution_count": null,
   "metadata": {},
   "outputs": [],
   "source": [
    "!gcloud auth print-access-token > token.txt\n",
    "\n",
    "token_file = open(\"token.txt\",\"r\") \n",
    "token = token_file.readline()"
   ]
  },
  {
   "cell_type": "markdown",
   "metadata": {},
   "source": [
    "**Important note:** As long as this file is saved only to your notebook’s local storage, it is secure because your cloud environment is strictly personal to you and cannot be accessed by others, even if you share your workspace or your notebook with them. But don’t save this\n",
    "file to your workspace bucket! Saving it to the bucket would make it visible to anyone\n",
    "with whom you share the workspace."
   ]
  },
  {
   "cell_type": "markdown",
   "metadata": {},
   "source": [
    "Copy a BAM file and its index to the workspace bucket"
   ]
  },
  {
   "cell_type": "code",
   "execution_count": null,
   "metadata": {},
   "outputs": [],
   "source": [
    "! gsutil cp {BAMS}/mother.ba* {WS_BUCKET}/bams\n",
    "! gsutil ls {WS_BUCKET}/bams"
   ]
  },
  {
   "cell_type": "markdown",
   "metadata": {},
   "source": [
    "Include the token in the track definition of any private files"
   ]
  },
  {
   "cell_type": "code",
   "execution_count": null,
   "metadata": {},
   "outputs": [],
   "source": [
    "private_track = {\n",
    "  'name': 'Workspace bucket copy of Mother WGS',\n",
    "  'format': 'bam',\n",
    "  'url': WS_BUCKET + '/sandbox/mother.bam',\n",
    "  'indexURL': WS_BUCKET + '/sandbox/mother.bam',\n",
    "  'height': 200,\n",
    "  'oauthToken': token\n",
    "}\n",
    "\n",
    "browser.add_track(Track(**private_track))"
   ]
  },
  {
   "cell_type": "markdown",
   "metadata": {},
   "source": [
    "This concludes the section on visualizing genomic data.\n",
    "\n",
    "----"
   ]
  },
  {
   "cell_type": "markdown",
   "metadata": {},
   "source": [
    "# Running GATK Commands to Learn, Test, or Troubleshoot\n",
    "Now let's look at how we can run GATK commands inside the notebook.\n",
    "\n",
    "## Running a Basic GATK Command: HaplotypeCaller\n",
    "First we run a simple command. Note that we can run GATK directly on the files located in cloud storage — no need to copy them to local storage first."
   ]
  },
  {
   "cell_type": "markdown",
   "metadata": {},
   "source": [
    "Run HaplotypeCaller on files in cloud storage"
   ]
  },
  {
   "cell_type": "code",
   "execution_count": null,
   "metadata": {},
   "outputs": [],
   "source": [
    "! gatk HaplotypeCaller \\\n",
    "-R {REF}/ref.fasta \\\n",
    "-I {BAMS}/mother.bam \\\n",
    "-O sandbox/mother_variants.200k.vcf.gz \\\n",
    "-L 20:10,000,000-10,200,000"
   ]
  },
  {
   "cell_type": "markdown",
   "metadata": {},
   "source": [
    "Verify that the output file is in the sandbox"
   ]
  },
  {
   "cell_type": "code",
   "execution_count": null,
   "metadata": {},
   "outputs": [],
   "source": [
    "! ls sandbox"
   ]
  },
  {
   "cell_type": "markdown",
   "metadata": {},
   "source": [
    "**Note:** This works with GATK from anywhere with an internet connection! We could even write the output directly to a bucket if we wanted to; the output filepath just has to start with a valid `gs://` bucket address. "
   ]
  },
  {
   "cell_type": "markdown",
   "metadata": {},
   "source": [
    "## Loading the Data (BAM and VCF) into IGV\n",
    "Now we do a simple visual check of the result."
   ]
  },
  {
   "cell_type": "markdown",
   "metadata": {},
   "source": [
    "Initialize a new IGV window"
   ]
  },
  {
   "cell_type": "code",
   "execution_count": null,
   "metadata": {},
   "outputs": [],
   "source": [
    "second_browser = igv.IgvBrowser(genome=genome)\n",
    "\n",
    "second_browser"
   ]
  },
  {
   "cell_type": "markdown",
   "metadata": {},
   "source": [
    "Load the variant calls produced by the HaplotypeCaller above\n",
    "\n",
    "*Adding `'color': \"#000000\"` as a workaround to [this issue](https://github.com/QuantStack/ipyigv/issues/21).*"
   ]
  },
  {
   "cell_type": "code",
   "execution_count": null,
   "metadata": {},
   "outputs": [],
   "source": [
    "var_track = {\n",
    "  'name': 'Mother variants',\n",
    "  'format': 'vcf',\n",
    "  'url': 'files/sandbox/mother_variants.200k.vcf.gz',\n",
    "  'indexURL': 'files/sandbox/mother_variants.200k.vcf.gz.tbi',\n",
    "  'color': \"#000000\"\n",
    "}\n",
    "second_browser.add_track(Track(**var_track))"
   ]
  },
  {
   "cell_type": "code",
   "execution_count": null,
   "metadata": {},
   "outputs": [],
   "source": [
    "second_browser.search('chr20:10,002,000-10,003,000')"
   ]
  },
  {
   "cell_type": "markdown",
   "metadata": {},
   "source": [
    "Load the original BAM file on which we ran HaplotypeCaller"
   ]
  },
  {
   "cell_type": "code",
   "execution_count": null,
   "metadata": {},
   "outputs": [],
   "source": [
    "wgs_track = {\n",
    "  'name': 'Mother WGS',\n",
    "  'format': 'bam',\n",
    "  'url': BAMS + '/mother.bam',\n",
    "  'indexURL': BAMS + '/mother.bai',\n",
    "  'height': 200\n",
    "}\n",
    "second_browser.add_track(Track(**wgs_track))"
   ]
  },
  {
   "cell_type": "markdown",
   "metadata": {},
   "source": [
    "## Troubleshooting a Questionable Variant Call in the Embedded IGV Browser\n",
    "Something looks odd so we do some systematic troubleshooting..."
   ]
  },
  {
   "cell_type": "markdown",
   "metadata": {},
   "source": [
    "Run HaplotypeCaller on the problem region to produce an output BAM, the `bamout`"
   ]
  },
  {
   "cell_type": "code",
   "execution_count": null,
   "metadata": {},
   "outputs": [],
   "source": [
    "! gatk HaplotypeCaller \\\n",
    "-R {REF}/ref.fasta \\\n",
    "-I {BAMS}/mother.bam \\\n",
    "-O sandbox/motherHCdebug.vcf \\\n",
    "-bamout sandbox/motherHCdebug.bam \\\n",
    "-L 20:10,002,000-10,003,000"
   ]
  },
  {
   "cell_type": "markdown",
   "metadata": {},
   "source": [
    "Load the `bamout` file into the IGV window"
   ]
  },
  {
   "cell_type": "code",
   "execution_count": null,
   "metadata": {},
   "outputs": [],
   "source": [
    "bamout_track = {\n",
    "\"name\": \"Mother HC bamout\",\n",
    "\"url\": \"files/sandbox/motherHCdebug.bam\",\n",
    "\"indexURL\": \"files/sandbox/motherHCdebug.bai\",\n",
    "\"height\": 500,\n",
    "\"format\": \"bam\"\n",
    "}\n",
    "second_browser.add_track(Track(**bamout_track))"
   ]
  },
  {
   "cell_type": "markdown",
   "metadata": {},
   "source": [
    "This concludes the GATK variant calling section of this notebook. \n",
    "\n",
    "----"
   ]
  },
  {
   "cell_type": "code",
   "execution_count": null,
   "metadata": {},
   "outputs": [],
   "source": []
  }
 ],
 "metadata": {
  "kernelspec": {
   "display_name": "Python 3",
   "language": "python",
   "name": "python3"
  },
  "language_info": {
   "codemirror_mode": {
    "name": "ipython",
    "version": 3
   },
   "file_extension": ".py",
   "mimetype": "text/x-python",
   "name": "python",
   "nbconvert_exporter": "python",
   "pygments_lexer": "ipython3",
   "version": "3.7.12"
  },
  "toc": {
   "base_numbering": 1,
   "nav_menu": {},
   "number_sections": true,
   "sideBar": true,
   "skip_h1_title": false,
   "title_cell": "Table of Contents",
   "title_sidebar": "Contents",
   "toc_cell": false,
   "toc_position": {},
   "toc_section_display": true,
   "toc_window_display": true
  }
 },
 "nbformat": 4,
 "nbformat_minor": 2
}
