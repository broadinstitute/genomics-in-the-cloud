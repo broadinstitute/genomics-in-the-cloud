{
 "cells": [
  {
   "cell_type": "markdown",
   "metadata": {},
   "source": [
    "**Working-IGV-example**  \n",
    "This notebook is a patch for the materials distributed with [Genomics in the Cloud](https://oreil.ly/genomics-cloud), an O'Reilly book by Geraldine A. Van der Auwera and Brian D. O'Connor. You can read it [online in the O'Reilly library](https://learning.oreilly.com/library/view/genomics-in-the/9781491975183/)\n",
    "or [order the hardcopy on Amazon](https://www.amazon.com/Genomics-Cloud-GATK-Spark-Docker/dp/1491975199/). It provides a workaround for a bug that currently affects the Genomics Notebook that supports the exercises in Chapter 12 of the book.  \n",
    "\n",
    "**Environment configuration**   \n",
    "This patch notebook requires a custom [Terra](https://app.terra.bio/) Cloud Environment image provided as the container `gcr.io/broad-dsde-outreach/terra-base:ipyigv1`, complemented by a startup script (gs://genomics-in-the-cloud/v1/scripts/install_GATK_4130_with_igv.sh) that installs GATK version 4.1.3.0.  \n",
    "\n",
    "You must customize your environment using the Cloud Environment configuration panel to match this notebook's requirements; SOME COMMANDS WILL NOT WORK IF YOU DO NOT DO THIS. \n",
    "\n",
    "- In the configuration panel, set the `Application Configuration` to `Custom Environment` (all the way at the bottom of the menu) and paste the container address given above into the `Container image` field. \n",
    "- Then (still in the config panel), in the `Cloud compute profile` box, paste the startup script link given above into the `Startup Script` field. \n",
    "\n",
    "Refer to [Terra documentation on customizing your environment](https://support.terra.bio/hc/en-us/articles/360038125912) to learn more about environment customization options.\n",
    "\n",
    "**Kernel**  \n",
    "By default this notebook opens on a Python 3 kernel. When you have the notebook running in EDIT mode, the upper right corner of the notebook (under the Notebook Runtime widget) should display the label `Python3`. \n",
    "\n",
    "----"
   ]
  },
  {
   "cell_type": "markdown",
   "metadata": {},
   "source": [
    "# Getting started with Jupyter in Terra\n",
    "\n",
    "Compared to the original notebook, this patch notebook skips past the very basic intro-to-Jupyter material and picks things up at the intro-to-cloud-data material. The patch retains the cell numbering from the original in order to make them easier to compare.\n",
    "\n",
    "\n",
    "## Using gsutil to Interact with Google Cloud Storage Buckets\n",
    "Let's look at how to pull in data from GCS buckets "
   ]
  },
  {
   "cell_type": "markdown",
   "metadata": {},
   "source": [
    "*Cell 9: List the bucket contents*"
   ]
  },
  {
   "cell_type": "code",
   "execution_count": 1,
   "metadata": {},
   "outputs": [
    {
     "name": "stdout",
     "output_type": "stream",
     "text": [
      "gs://genomics-in-the-cloud/hello.txt\r\n",
      "gs://genomics-in-the-cloud/figures/\r\n",
      "gs://genomics-in-the-cloud/v1/\r\n"
     ]
    }
   ],
   "source": [
    "! gsutil ls gs://genomics-in-the-cloud/"
   ]
  },
  {
   "cell_type": "markdown",
   "metadata": {},
   "source": [
    "*Cell 10: Copy a file from the bucket to the notebook's local storage*"
   ]
  },
  {
   "cell_type": "code",
   "execution_count": 2,
   "metadata": {},
   "outputs": [
    {
     "name": "stdout",
     "output_type": "stream",
     "text": [
      "Copying gs://genomics-in-the-cloud/hello.txt...\n",
      "/ [1 files][   20.0 B/   20.0 B]                                                \n",
      "Operation completed over 1 objects/20.0 B.                                       \n"
     ]
    }
   ],
   "source": [
    "! gsutil cp gs://genomics-in-the-cloud/hello.txt ."
   ]
  },
  {
   "cell_type": "markdown",
   "metadata": {},
   "source": [
    "*Cell 11: Read the contents of a locally-stored text file*"
   ]
  },
  {
   "cell_type": "code",
   "execution_count": 3,
   "metadata": {},
   "outputs": [
    {
     "name": "stdout",
     "output_type": "stream",
     "text": [
      "HELLO, DEAR READER!\r\n"
     ]
    }
   ],
   "source": [
    "! cat hello.txt"
   ]
  },
  {
   "cell_type": "markdown",
   "metadata": {},
   "source": [
    "## Setting Up a Variable Pointing to the Germline Data in the Book Bucket\n",
    "We're going to want to access the data in the bucket multiple times, so we make a variable to avoid hardcoding and repeating file paths."
   ]
  },
  {
   "cell_type": "markdown",
   "metadata": {},
   "source": [
    "*Cell 12: Create a Python variable*"
   ]
  },
  {
   "cell_type": "code",
   "execution_count": 4,
   "metadata": {},
   "outputs": [],
   "source": [
    "GERM_DATA = \"gs://genomics-in-the-cloud/v1/data/germline\""
   ]
  },
  {
   "cell_type": "markdown",
   "metadata": {},
   "source": [
    "*Cell 13: Use the variable to list the bucket contents*  \n",
    "*(Erratum: this cell was erroneously numbered 14 in the initial print run)*"
   ]
  },
  {
   "cell_type": "code",
   "execution_count": 5,
   "metadata": {},
   "outputs": [
    {
     "name": "stdout",
     "output_type": "stream",
     "text": [
      "gs://genomics-in-the-cloud/v1/data/germline/bams/\r\n",
      "gs://genomics-in-the-cloud/v1/data/germline/gvcfs/\r\n",
      "gs://genomics-in-the-cloud/v1/data/germline/intervals/\r\n",
      "gs://genomics-in-the-cloud/v1/data/germline/ref/\r\n",
      "gs://genomics-in-the-cloud/v1/data/germline/resources/\r\n",
      "gs://genomics-in-the-cloud/v1/data/germline/vcfs/\r\n"
     ]
    }
   ],
   "source": [
    "! gsutil ls {GERM_DATA}"
   ]
  },
  {
   "cell_type": "markdown",
   "metadata": {},
   "source": [
    "*Cell 14: List the `bams` directory to get the paths of the files it contains*"
   ]
  },
  {
   "cell_type": "code",
   "execution_count": 6,
   "metadata": {},
   "outputs": [
    {
     "name": "stdout",
     "output_type": "stream",
     "text": [
      "gs://genomics-in-the-cloud/v1/data/germline/bams/father.bai\r\n",
      "gs://genomics-in-the-cloud/v1/data/germline/bams/father.bam\r\n",
      "gs://genomics-in-the-cloud/v1/data/germline/bams/mother.bai\r\n",
      "gs://genomics-in-the-cloud/v1/data/germline/bams/mother.bam\r\n",
      "gs://genomics-in-the-cloud/v1/data/germline/bams/motherNEX.bai\r\n",
      "gs://genomics-in-the-cloud/v1/data/germline/bams/motherNEX.bam\r\n",
      "gs://genomics-in-the-cloud/v1/data/germline/bams/motherRnaseq.bai\r\n",
      "gs://genomics-in-the-cloud/v1/data/germline/bams/motherRnaseq.bam\r\n",
      "gs://genomics-in-the-cloud/v1/data/germline/bams/son.bai\r\n",
      "gs://genomics-in-the-cloud/v1/data/germline/bams/son.bam\r\n"
     ]
    }
   ],
   "source": [
    "! gsutil ls {GERM_DATA}/bams"
   ]
  },
  {
   "cell_type": "markdown",
   "metadata": {},
   "source": [
    "*Cell 15: Copy the BAM file and index for the mother*"
   ]
  },
  {
   "cell_type": "code",
   "execution_count": 7,
   "metadata": {},
   "outputs": [
    {
     "name": "stdout",
     "output_type": "stream",
     "text": [
      "Copying gs://genomics-in-the-cloud/v1/data/germline/bams/mother.bai...\n",
      "Copying gs://genomics-in-the-cloud/v1/data/germline/bams/mother.bam...          \n",
      "/ [2 files][ 23.8 MiB/ 23.8 MiB]                                                \n",
      "Operation completed over 2 objects/23.8 MiB.                                     \n"
     ]
    }
   ],
   "source": [
    "! gsutil cp {GERM_DATA}/bams/mother.ba* ."
   ]
  },
  {
   "cell_type": "markdown",
   "metadata": {},
   "source": [
    "*Cell 16: List the local working directory to confirm the success of the copy operation*"
   ]
  },
  {
   "cell_type": "code",
   "execution_count": 8,
   "metadata": {},
   "outputs": [
    {
     "name": "stdout",
     "output_type": "stream",
     "text": [
      "Genomics-Notebook-executed.ipynb  mother.bai  token.txt\r\n",
      "Genomics-Notebook.ipynb\t\t  mother.bam  Working-IGV-example.ipynb\r\n",
      "hello.txt\t\t\t  sandbox\r\n"
     ]
    }
   ],
   "source": [
    "! ls ."
   ]
  },
  {
   "cell_type": "markdown",
   "metadata": {},
   "source": [
    "## Setting Up a Sandbox and Saving Output Files to the Workspace Bucket\n",
    "Now that we know how to bring in data, let's go over how we're going to save the outputs of any analyses we run."
   ]
  },
  {
   "cell_type": "markdown",
   "metadata": {},
   "source": [
    "*Cell 17: Create a new directory, ignoring any errors if the path already exists (`-p`)*"
   ]
  },
  {
   "cell_type": "code",
   "execution_count": 9,
   "metadata": {},
   "outputs": [],
   "source": [
    "! mkdir -p sandbox/"
   ]
  },
  {
   "cell_type": "markdown",
   "metadata": {},
   "source": [
    "*Cell 18: Move the mother BAM and index files that we copied earlier to the sandbox*"
   ]
  },
  {
   "cell_type": "code",
   "execution_count": 10,
   "metadata": {},
   "outputs": [],
   "source": [
    "! mv mother.ba* sandbox/"
   ]
  },
  {
   "cell_type": "markdown",
   "metadata": {},
   "source": [
    "*Cell 19: List the contents of the sandbox to check that everything is where you expect it to be*"
   ]
  },
  {
   "cell_type": "code",
   "execution_count": 11,
   "metadata": {},
   "outputs": [
    {
     "name": "stdout",
     "output_type": "stream",
     "text": [
      "mother.bai\t   motherHCdebug.bam\t  mother_variants.200k.vcf.gz\r\n",
      "mother.bam\t   motherHCdebug.vcf\t  mother_variants.200k.vcf.gz.tbi\r\n",
      "motherHCdebug.bai  motherHCdebug.vcf.idx\r\n"
     ]
    }
   ],
   "source": [
    "! ls sandbox"
   ]
  },
  {
   "cell_type": "markdown",
   "metadata": {},
   "source": [
    "*Cell 20: Import the `os` package, look up the value of the `WORKSPACE_BUCKET` environment variable (set by Terra at the kernel level) and store it in a Python variable for easy access*"
   ]
  },
  {
   "cell_type": "code",
   "execution_count": 12,
   "metadata": {},
   "outputs": [],
   "source": [
    "import os\n",
    "WS_BUCKET = os.environ['WORKSPACE_BUCKET']"
   ]
  },
  {
   "cell_type": "markdown",
   "metadata": {},
   "source": [
    "*Cell 21: Check the value of your new variable*"
   ]
  },
  {
   "cell_type": "code",
   "execution_count": 13,
   "metadata": {},
   "outputs": [
    {
     "name": "stdout",
     "output_type": "stream",
     "text": [
      "gs://fc-a955f70a-e7db-4f26-a86c-2f00bf178e19\n"
     ]
    }
   ],
   "source": [
    "print(WS_BUCKET)"
   ]
  },
  {
   "cell_type": "markdown",
   "metadata": {},
   "source": [
    "*Cell 22: List the full (`-r`) contents of the workspace bucket (results will depend on what other work you have done in your workspace)*"
   ]
  },
  {
   "cell_type": "code",
   "execution_count": 14,
   "metadata": {},
   "outputs": [
    {
     "name": "stdout",
     "output_type": "stream",
     "text": [
      "gs://fc-a955f70a-e7db-4f26-a86c-2f00bf178e19/notebooks/:\r\n",
      "gs://fc-a955f70a-e7db-4f26-a86c-2f00bf178e19/notebooks/Genomics-Notebook-executed.ipynb\r\n",
      "gs://fc-a955f70a-e7db-4f26-a86c-2f00bf178e19/notebooks/Genomics-Notebook.ipynb\r\n",
      "gs://fc-a955f70a-e7db-4f26-a86c-2f00bf178e19/notebooks/Working-IGV-example.ipynb\r\n",
      "\r\n",
      "gs://fc-a955f70a-e7db-4f26-a86c-2f00bf178e19/sandbox/:\r\n",
      "gs://fc-a955f70a-e7db-4f26-a86c-2f00bf178e19/sandbox/mother.bai\r\n",
      "gs://fc-a955f70a-e7db-4f26-a86c-2f00bf178e19/sandbox/mother.bam\r\n"
     ]
    }
   ],
   "source": [
    "! gsutil ls -r {WS_BUCKET}"
   ]
  },
  {
   "cell_type": "markdown",
   "metadata": {},
   "source": [
    "*Cell 23: Copy the contents of your sandbox to the workspace bucket (using `-m` for efficient transfer)*"
   ]
  },
  {
   "cell_type": "code",
   "execution_count": 15,
   "metadata": {},
   "outputs": [
    {
     "name": "stdout",
     "output_type": "stream",
     "text": [
      "Copying file://sandbox/mother.bai [Content-Type=application/octet-stream]...\n",
      "Copying file://sandbox/mother_variants.200k.vcf.gz.tbi [Content-Type=application/octet-stream]...\n",
      "Copying file://sandbox/motherHCdebug.vcf.idx [Content-Type=application/octet-stream]...\n",
      "Copying file://sandbox/motherHCdebug.bam [Content-Type=application/octet-stream]...\n",
      "Copying file://sandbox/mother.bam [Content-Type=application/octet-stream]...    \n",
      "Copying file://sandbox/mother_variants.200k.vcf.gz [Content-Type=text/vcard]... \n",
      "Copying file://sandbox/motherHCdebug.vcf [Content-Type=text/vcard]...           \n",
      "Copying file://sandbox/motherHCdebug.bai [Content-Type=application/octet-stream]...\n",
      "- [8/8 files][ 23.9 MiB/ 23.9 MiB] 100% Done                                    \n",
      "Operation completed over 8 objects/23.9 MiB.                                     \n"
     ]
    }
   ],
   "source": [
    "! gsutil -m cp -r sandbox {WS_BUCKET}"
   ]
  },
  {
   "cell_type": "markdown",
   "metadata": {},
   "source": [
    "*Cell 24: List the contents of the copy of your sandbox that is now stored in the bucket*"
   ]
  },
  {
   "cell_type": "code",
   "execution_count": 16,
   "metadata": {},
   "outputs": [
    {
     "name": "stdout",
     "output_type": "stream",
     "text": [
      "gs://fc-a955f70a-e7db-4f26-a86c-2f00bf178e19/sandbox/mother.bai\r\n",
      "gs://fc-a955f70a-e7db-4f26-a86c-2f00bf178e19/sandbox/mother.bam\r\n",
      "gs://fc-a955f70a-e7db-4f26-a86c-2f00bf178e19/sandbox/motherHCdebug.bai\r\n",
      "gs://fc-a955f70a-e7db-4f26-a86c-2f00bf178e19/sandbox/motherHCdebug.bam\r\n",
      "gs://fc-a955f70a-e7db-4f26-a86c-2f00bf178e19/sandbox/motherHCdebug.vcf\r\n",
      "gs://fc-a955f70a-e7db-4f26-a86c-2f00bf178e19/sandbox/motherHCdebug.vcf.idx\r\n",
      "gs://fc-a955f70a-e7db-4f26-a86c-2f00bf178e19/sandbox/mother_variants.200k.vcf.gz\r\n",
      "gs://fc-a955f70a-e7db-4f26-a86c-2f00bf178e19/sandbox/mother_variants.200k.vcf.gz.tbi\r\n"
     ]
    }
   ],
   "source": [
    "! gsutil ls {WS_BUCKET}/sandbox"
   ]
  },
  {
   "cell_type": "markdown",
   "metadata": {},
   "source": [
    "This completes the \"getting started\" portion of this notebook.\n",
    "\n",
    "----"
   ]
  },
  {
   "cell_type": "markdown",
   "metadata": {},
   "source": [
    "# Visualizing Genomic Data in an Embedded IGV Window\n",
    "In this section, we embed IGV windows in the notebook in order to visualize genomic data without leaving the notebook environment.\n",
    "\n",
    "## Setting Up the Embedded IGV Browser\n",
    "First we need to import the `ipyigv` package and initialize a browser window."
   ]
  },
  {
   "cell_type": "markdown",
   "metadata": {},
   "source": [
    "*Cell 25: Import the `ipyigv` package*"
   ]
  },
  {
   "cell_type": "code",
   "execution_count": 17,
   "metadata": {},
   "outputs": [],
   "source": [
    "import ipyigv as igv\n",
    "from ipywidgets.widgets.trait_types import InstanceDict\n",
    "from ipyigv.options import ReferenceGenome, Track\n",
    "from ipywidgets import Output"
   ]
  },
  {
   "cell_type": "markdown",
   "metadata": {},
   "source": [
    "*Cell 26: Initialize the browser instance with a genome reference*"
   ]
  },
  {
   "cell_type": "code",
   "execution_count": 18,
   "metadata": {},
   "outputs": [],
   "source": [
    "genomeDict = igv.PUBLIC_GENOMES.hg19\n",
    "genome = ReferenceGenome(**genomeDict)\n",
    "browser = igv.IgvBrowser(genome=genome)"
   ]
  },
  {
   "cell_type": "markdown",
   "metadata": {},
   "source": [
    "*Cell 27: Display the browser window*"
   ]
  },
  {
   "cell_type": "code",
   "execution_count": 19,
   "metadata": {},
   "outputs": [
    {
     "data": {
      "application/vnd.jupyter.widget-view+json": {
       "model_id": "90c4b22ed11044bd81248927b280bd84",
       "version_major": 2,
       "version_minor": 0
      },
      "text/plain": [
       "IgvBrowser(genome=ReferenceGenome(cytobandURL='https://s3.dualstack.us-east-1.amazonaws.com/igv.broadinstitute…"
      ]
     },
     "metadata": {},
     "output_type": "display_data"
    }
   ],
   "source": [
    "browser"
   ]
  },
  {
   "cell_type": "markdown",
   "metadata": {},
   "source": [
    "## Adding Data to the IGV Browser\n",
    "Now we can add data by pointing to files in a GCS bucket."
   ]
  },
  {
   "cell_type": "markdown",
   "metadata": {},
   "source": [
    "*Cells 28 and 29: Define data tracks for two BAM files (whole genome and exome versions of the mother sample)*"
   ]
  },
  {
   "cell_type": "code",
   "execution_count": 20,
   "metadata": {},
   "outputs": [],
   "source": [
    "wgs_track = {\n",
    "  'name': 'Mother WGS',\n",
    "  'format': 'bam',\n",
    "  'url': GERM_DATA + '/bams/mother.bam',\n",
    "  'indexURL': GERM_DATA + '/bams/mother.bai',\n",
    "  'height': 200\n",
    "}\n",
    "browser.add_track(Track(**wgs_track))"
   ]
  },
  {
   "cell_type": "code",
   "execution_count": 21,
   "metadata": {},
   "outputs": [],
   "source": [
    "exome_track = {\n",
    "  'name': 'Mother Exome',\n",
    "  'format': 'bam',\n",
    "  'url': GERM_DATA + '/bams/motherNEX.bam',\n",
    "  'indexURL': GERM_DATA + '/bams/motherNEX.bai',\n",
    "  'height': 200\n",
    "}\n",
    "browser.add_track(Track(**exome_track))"
   ]
  },
  {
   "cell_type": "markdown",
   "metadata": {},
   "source": [
    "*Extra cells: zoom to region of interest*"
   ]
  },
  {
   "cell_type": "code",
   "execution_count": 22,
   "metadata": {},
   "outputs": [
    {
     "name": "stdout",
     "output_type": "stream",
     "text": [
      "Search completed. Check the widget instance for results.\n"
     ]
    }
   ],
   "source": [
    "browser.search('chr20:10,025,584-10,036,143')"
   ]
  },
  {
   "cell_type": "markdown",
   "metadata": {},
   "source": [
    "## Setting Up an Access Token to View Private Data\n",
    "IGV needs an access token to retrieve data from private buckets (including the workspace bucket)."
   ]
  },
  {
   "cell_type": "markdown",
   "metadata": {},
   "source": [
    "*Cell 30: Emit an acces token and save it to a file*"
   ]
  },
  {
   "cell_type": "code",
   "execution_count": 23,
   "metadata": {},
   "outputs": [],
   "source": [
    "!gcloud auth print-access-token > token.txt"
   ]
  },
  {
   "cell_type": "markdown",
   "metadata": {},
   "source": [
    "**Important note:** As long as this file is saved only to your notebook’s local storage, it is secure because your cloud environment is strictly personal to you and cannot be accessed by others, even if you share your workspace or your notebook with them. But don’t save this\n",
    "file to your workspace bucket! Saving it to the bucket would make it visible to anyone\n",
    "with whom you share the workspace."
   ]
  },
  {
   "cell_type": "markdown",
   "metadata": {},
   "source": [
    "*Cell 31: Read the contents of the token file into a Python variable*"
   ]
  },
  {
   "cell_type": "code",
   "execution_count": 24,
   "metadata": {},
   "outputs": [],
   "source": [
    "token_file = open(\"token.txt\",\"r\") \n",
    "token = token_file.readline()"
   ]
  },
  {
   "cell_type": "markdown",
   "metadata": {},
   "source": [
    "*Cell 32: Include the token in the track definition of any private files*"
   ]
  },
  {
   "cell_type": "code",
   "execution_count": 25,
   "metadata": {},
   "outputs": [],
   "source": [
    "private_track = {\n",
    "  'name': 'Workspace bucket copy of Mother WGS',\n",
    "  'format': 'bam',\n",
    "  'url': WS_BUCKET + '/sandbox/mother.bam',\n",
    "  'indexURL': WS_BUCKET + '/sandbox/mother.bam',\n",
    "  'height': 200,\n",
    "  'oauthToken': token\n",
    "}\n",
    "\n",
    "browser.add_track(Track(**private_track))"
   ]
  },
  {
   "cell_type": "markdown",
   "metadata": {},
   "source": [
    "This concludes the section on visualizing genomic data.\n",
    "\n",
    "----"
   ]
  },
  {
   "cell_type": "markdown",
   "metadata": {},
   "source": [
    "# Running GATK Commands to Learn, Test, or Troubleshoot\n",
    "Now let's look at how we can run GATK commands inside the notebook.\n",
    "\n",
    "## Running a Basic GATK Command: HaplotypeCaller\n",
    "First we run a simple command like we did in Chapter 5, except we're running directly on the files located in GCS instead of localizing them first."
   ]
  },
  {
   "cell_type": "markdown",
   "metadata": {},
   "source": [
    "*Cell 33: Run HaplotypeCaller on files in GCS*"
   ]
  },
  {
   "cell_type": "code",
   "execution_count": 26,
   "metadata": {},
   "outputs": [
    {
     "name": "stdout",
     "output_type": "stream",
     "text": [
      "Using GATK jar /etc/gatk-4.1.3.0/gatk-package-4.1.3.0-local.jar\n",
      "Running:\n",
      "    java -Dsamjdk.use_async_io_read_samtools=false -Dsamjdk.use_async_io_write_samtools=true -Dsamjdk.use_async_io_write_tribble=false -Dsamjdk.compression_level=2 -jar /etc/gatk-4.1.3.0/gatk-package-4.1.3.0-local.jar HaplotypeCaller -R gs://genomics-in-the-cloud/v1/data/germline/ref/ref.fasta -I gs://genomics-in-the-cloud/v1/data/germline/bams/mother.bam -O sandbox/mother_variants.200k.vcf.gz -L 20:10,000,000-10,200,000\n",
      "05:42:10.806 INFO  NativeLibraryLoader - Loading libgkl_compression.so from jar:file:/etc/gatk-4.1.3.0/gatk-package-4.1.3.0-local.jar!/com/intel/gkl/native/libgkl_compression.so\n",
      "05:42:11.206 INFO  HaplotypeCaller - ------------------------------------------------------------\n",
      "05:42:11.207 INFO  HaplotypeCaller - The Genome Analysis Toolkit (GATK) v4.1.3.0\n",
      "05:42:11.207 INFO  HaplotypeCaller - For support and documentation go to https://software.broadinstitute.org/gatk/\n",
      "05:42:11.211 INFO  HaplotypeCaller - Executing as jupyter@64d77b1fa86b on Linux v5.10.123+ amd64\n",
      "05:42:11.211 INFO  HaplotypeCaller - Java runtime: OpenJDK 64-Bit Server VM v11.0.15+10-Ubuntu-0ubuntu0.20.04.1\n",
      "05:42:11.211 INFO  HaplotypeCaller - Start Date/Time: July 28, 2022 at 5:42:10 AM UTC\n",
      "05:42:11.211 INFO  HaplotypeCaller - ------------------------------------------------------------\n",
      "05:42:11.211 INFO  HaplotypeCaller - ------------------------------------------------------------\n",
      "05:42:11.214 INFO  HaplotypeCaller - HTSJDK Version: 2.20.1\n",
      "05:42:11.214 INFO  HaplotypeCaller - Picard Version: 2.20.5\n",
      "05:42:11.215 INFO  HaplotypeCaller - HTSJDK Defaults.COMPRESSION_LEVEL : 2\n",
      "05:42:11.215 INFO  HaplotypeCaller - HTSJDK Defaults.USE_ASYNC_IO_READ_FOR_SAMTOOLS : false\n",
      "05:42:11.215 INFO  HaplotypeCaller - HTSJDK Defaults.USE_ASYNC_IO_WRITE_FOR_SAMTOOLS : true\n",
      "05:42:11.215 INFO  HaplotypeCaller - HTSJDK Defaults.USE_ASYNC_IO_WRITE_FOR_TRIBBLE : false\n",
      "05:42:11.216 INFO  HaplotypeCaller - Deflater: IntelDeflater\n",
      "05:42:11.216 INFO  HaplotypeCaller - Inflater: IntelInflater\n",
      "05:42:11.217 INFO  HaplotypeCaller - GCS max retries/reopens: 20\n",
      "05:42:11.217 INFO  HaplotypeCaller - Requester pays: disabled\n",
      "05:42:11.217 INFO  HaplotypeCaller - Initializing engine\n",
      "05:42:15.026 INFO  IntervalArgumentCollection - Processing 200001 bp from intervals\n",
      "05:42:15.041 INFO  HaplotypeCaller - Done initializing engine\n",
      "05:42:15.580 INFO  HaplotypeCallerEngine - Disabling physical phasing, which is supported only for reference-model confidence output\n",
      "05:42:15.605 INFO  NativeLibraryLoader - Loading libgkl_utils.so from jar:file:/etc/gatk-4.1.3.0/gatk-package-4.1.3.0-local.jar!/com/intel/gkl/native/libgkl_utils.so\n",
      "05:42:15.612 INFO  NativeLibraryLoader - Loading libgkl_pairhmm_omp.so from jar:file:/etc/gatk-4.1.3.0/gatk-package-4.1.3.0-local.jar!/com/intel/gkl/native/libgkl_pairhmm_omp.so\n",
      "05:42:15.650 INFO  IntelPairHmm - Flush-to-zero (FTZ) is enabled when running PairHMM\n",
      "05:42:15.652 INFO  IntelPairHmm - Available threads: 1\n",
      "05:42:15.652 INFO  IntelPairHmm - Requested threads: 4\n",
      "05:42:15.652 WARN  IntelPairHmm - Using 1 available threads, but 4 were requested\n",
      "05:42:15.653 INFO  PairHMM - Using the OpenMP multi-threaded AVX-accelerated native PairHMM implementation\n",
      "05:42:15.700 INFO  ProgressMeter - Starting traversal\n",
      "05:42:15.701 INFO  ProgressMeter -        Current Locus  Elapsed Minutes     Regions Processed   Regions/Minute\n",
      "05:42:17.870 WARN  InbreedingCoeff - InbreedingCoeff will not be calculated; at least 10 samples must have called genotypes\n",
      "05:42:25.751 INFO  ProgressMeter -          20:10031865              0.2                   200           1194.0\n",
      "05:42:35.983 INFO  ProgressMeter -          20:10122022              0.3                   670           1982.2\n",
      "05:42:40.903 INFO  HaplotypeCaller - 7217 read(s) filtered by: ((((((((MappingQualityReadFilter AND MappingQualityAvailableReadFilter) AND MappedReadFilter) AND NotSecondaryAlignmentReadFilter) AND NotDuplicateReadFilter) AND PassesVendorQualityCheckReadFilter) AND NonZeroReferenceLengthAlignmentReadFilter) AND GoodCigarReadFilter) AND WellformedReadFilter)\n",
      "  7217 read(s) filtered by: (((((((MappingQualityReadFilter AND MappingQualityAvailableReadFilter) AND MappedReadFilter) AND NotSecondaryAlignmentReadFilter) AND NotDuplicateReadFilter) AND PassesVendorQualityCheckReadFilter) AND NonZeroReferenceLengthAlignmentReadFilter) AND GoodCigarReadFilter)\n",
      "      7217 read(s) filtered by: ((((((MappingQualityReadFilter AND MappingQualityAvailableReadFilter) AND MappedReadFilter) AND NotSecondaryAlignmentReadFilter) AND NotDuplicateReadFilter) AND PassesVendorQualityCheckReadFilter) AND NonZeroReferenceLengthAlignmentReadFilter)\n",
      "          7217 read(s) filtered by: (((((MappingQualityReadFilter AND MappingQualityAvailableReadFilter) AND MappedReadFilter) AND NotSecondaryAlignmentReadFilter) AND NotDuplicateReadFilter) AND PassesVendorQualityCheckReadFilter)\n",
      "              7217 read(s) filtered by: ((((MappingQualityReadFilter AND MappingQualityAvailableReadFilter) AND MappedReadFilter) AND NotSecondaryAlignmentReadFilter) AND NotDuplicateReadFilter)\n",
      "                  351 read(s) filtered by: (((MappingQualityReadFilter AND MappingQualityAvailableReadFilter) AND MappedReadFilter) AND NotSecondaryAlignmentReadFilter)\n",
      "                      351 read(s) filtered by: ((MappingQualityReadFilter AND MappingQualityAvailableReadFilter) AND MappedReadFilter)\n",
      "                          351 read(s) filtered by: (MappingQualityReadFilter AND MappingQualityAvailableReadFilter)\n",
      "                              351 read(s) filtered by: MappingQualityReadFilter \n",
      "                  6866 read(s) filtered by: NotDuplicateReadFilter \n",
      "\n",
      "05:42:40.904 INFO  ProgressMeter -          20:10199356              0.4                  1042           2480.7\n",
      "05:42:40.904 INFO  ProgressMeter - Traversal complete. Processed 1042 total regions in 0.4 minutes.\n",
      "05:42:40.916 INFO  VectorLoglessPairHMM - Time spent in setup for JNI call : 0.054555596000000005\n",
      "05:42:40.916 INFO  PairHMM - Total compute time in PairHMM computeLogLikelihoods() : 2.479382364\n",
      "05:42:40.917 INFO  SmithWatermanAligner - Total compute time in java Smith-Waterman : 3.02 sec\n",
      "05:42:40.917 INFO  HaplotypeCaller - Shutting down engine\n",
      "[July 28, 2022 at 5:42:40 AM UTC] org.broadinstitute.hellbender.tools.walkers.haplotypecaller.HaplotypeCaller done. Elapsed time: 0.50 minutes.\n",
      "Runtime.totalMemory()=247402496\n"
     ]
    }
   ],
   "source": [
    "! gatk HaplotypeCaller \\\n",
    "-R {GERM_DATA}/ref/ref.fasta \\\n",
    "-I {GERM_DATA}/bams/mother.bam \\\n",
    "-O sandbox/mother_variants.200k.vcf.gz \\\n",
    "-L 20:10,000,000-10,200,000"
   ]
  },
  {
   "cell_type": "markdown",
   "metadata": {},
   "source": [
    "*Cell 34: Verify that the output file is in the sandbox*"
   ]
  },
  {
   "cell_type": "code",
   "execution_count": 27,
   "metadata": {},
   "outputs": [
    {
     "name": "stdout",
     "output_type": "stream",
     "text": [
      "mother.bai\t   motherHCdebug.bam\t  mother_variants.200k.vcf.gz\r\n",
      "mother.bam\t   motherHCdebug.vcf\t  mother_variants.200k.vcf.gz.tbi\r\n",
      "motherHCdebug.bai  motherHCdebug.vcf.idx\r\n"
     ]
    }
   ],
   "source": [
    "! ls sandbox"
   ]
  },
  {
   "cell_type": "markdown",
   "metadata": {},
   "source": [
    "**Note:** This works with GATK from anywhere with an internet connection! We could even write the output directly to a GCS bucket if we wanted to; the output filepath just has to start with a valid `gs://` bucket address. "
   ]
  },
  {
   "cell_type": "markdown",
   "metadata": {},
   "source": [
    "## Loading the Data (BAM and VCF) into IGV\n",
    "Now we do a simple visual check of the result."
   ]
  },
  {
   "cell_type": "markdown",
   "metadata": {},
   "source": [
    "*Cell 35: Initialize a new IGV window*"
   ]
  },
  {
   "cell_type": "code",
   "execution_count": 28,
   "metadata": {},
   "outputs": [
    {
     "data": {
      "application/vnd.jupyter.widget-view+json": {
       "model_id": "9865515c6c214c16a8ad859e3ada9ffd",
       "version_major": 2,
       "version_minor": 0
      },
      "text/plain": [
       "IgvBrowser(genome=ReferenceGenome(cytobandURL='https://s3.dualstack.us-east-1.amazonaws.com/igv.broadinstitute…"
      ]
     },
     "metadata": {},
     "output_type": "display_data"
    }
   ],
   "source": [
    "second_browser = igv.IgvBrowser(genome=genome)\n",
    "\n",
    "second_browser"
   ]
  },
  {
   "cell_type": "markdown",
   "metadata": {},
   "source": [
    "*Cell 36: Load the variant calls produced by the HaplotypeCaller above*\n",
    "\n",
    "*Adding `'color': \"#000000\"` as a workaround to [this issue](https://github.com/QuantStack/ipyigv/issues/21).*"
   ]
  },
  {
   "cell_type": "code",
   "execution_count": 29,
   "metadata": {},
   "outputs": [],
   "source": [
    "var_track = {\n",
    "  'name': 'Mother variants',\n",
    "  'format': 'vcf',\n",
    "  'url': 'files/sandbox/mother_variants.200k.vcf.gz',\n",
    "  'indexURL': 'files/sandbox/mother_variants.200k.vcf.gz.tbi',\n",
    "  'color': \"#000000\"\n",
    "}\n",
    "second_browser.add_track(Track(**var_track))"
   ]
  },
  {
   "cell_type": "code",
   "execution_count": 30,
   "metadata": {},
   "outputs": [
    {
     "name": "stdout",
     "output_type": "stream",
     "text": [
      "Search completed. Check the widget instance for results.\n"
     ]
    }
   ],
   "source": [
    "second_browser.search('chr20:10,002,000-10,003,000')"
   ]
  },
  {
   "cell_type": "markdown",
   "metadata": {},
   "source": [
    "*Cell 37: Load the original BAM file on which you ran HaplotypeCaller*"
   ]
  },
  {
   "cell_type": "code",
   "execution_count": 31,
   "metadata": {},
   "outputs": [],
   "source": [
    "wgs_track = {\n",
    "  'name': 'Mother WGS',\n",
    "  'format': 'bam',\n",
    "  'url': GERM_DATA + '/bams/mother.bam',\n",
    "  'indexURL': GERM_DATA + '/bams/mother.bai',\n",
    "  'height': 200\n",
    "}\n",
    "second_browser.add_track(Track(**wgs_track))"
   ]
  },
  {
   "cell_type": "markdown",
   "metadata": {},
   "source": [
    "## Troubleshooting a Questionable Variant Call in the Embedded IGV Browser\n",
    "Something looks odd so we do some systematic troubleshooting..."
   ]
  },
  {
   "cell_type": "markdown",
   "metadata": {},
   "source": [
    "*Cell 38: Run HaplotypeCaller on the problem region to produce an output BAM, the `bamout`*"
   ]
  },
  {
   "cell_type": "code",
   "execution_count": 32,
   "metadata": {},
   "outputs": [
    {
     "name": "stdout",
     "output_type": "stream",
     "text": [
      "Using GATK jar /etc/gatk-4.1.3.0/gatk-package-4.1.3.0-local.jar\n",
      "Running:\n",
      "    java -Dsamjdk.use_async_io_read_samtools=false -Dsamjdk.use_async_io_write_samtools=true -Dsamjdk.use_async_io_write_tribble=false -Dsamjdk.compression_level=2 -jar /etc/gatk-4.1.3.0/gatk-package-4.1.3.0-local.jar HaplotypeCaller -R gs://genomics-in-the-cloud/v1/data/germline/ref/ref.fasta -I gs://genomics-in-the-cloud/v1/data/germline/bams/mother.bam -O sandbox/motherHCdebug.vcf -bamout sandbox/motherHCdebug.bam -L 20:10,002,000-10,003,000\n",
      "05:43:39.773 INFO  NativeLibraryLoader - Loading libgkl_compression.so from jar:file:/etc/gatk-4.1.3.0/gatk-package-4.1.3.0-local.jar!/com/intel/gkl/native/libgkl_compression.so\n",
      "05:43:40.123 INFO  HaplotypeCaller - ------------------------------------------------------------\n",
      "05:43:40.124 INFO  HaplotypeCaller - The Genome Analysis Toolkit (GATK) v4.1.3.0\n",
      "05:43:40.124 INFO  HaplotypeCaller - For support and documentation go to https://software.broadinstitute.org/gatk/\n",
      "05:43:40.124 INFO  HaplotypeCaller - Executing as jupyter@64d77b1fa86b on Linux v5.10.123+ amd64\n",
      "05:43:40.125 INFO  HaplotypeCaller - Java runtime: OpenJDK 64-Bit Server VM v11.0.15+10-Ubuntu-0ubuntu0.20.04.1\n",
      "05:43:40.125 INFO  HaplotypeCaller - Start Date/Time: July 28, 2022 at 5:43:39 AM UTC\n",
      "05:43:40.125 INFO  HaplotypeCaller - ------------------------------------------------------------\n",
      "05:43:40.125 INFO  HaplotypeCaller - ------------------------------------------------------------\n",
      "05:43:40.126 INFO  HaplotypeCaller - HTSJDK Version: 2.20.1\n",
      "05:43:40.127 INFO  HaplotypeCaller - Picard Version: 2.20.5\n",
      "05:43:40.127 INFO  HaplotypeCaller - HTSJDK Defaults.COMPRESSION_LEVEL : 2\n",
      "05:43:40.127 INFO  HaplotypeCaller - HTSJDK Defaults.USE_ASYNC_IO_READ_FOR_SAMTOOLS : false\n",
      "05:43:40.128 INFO  HaplotypeCaller - HTSJDK Defaults.USE_ASYNC_IO_WRITE_FOR_SAMTOOLS : true\n",
      "05:43:40.128 INFO  HaplotypeCaller - HTSJDK Defaults.USE_ASYNC_IO_WRITE_FOR_TRIBBLE : false\n",
      "05:43:40.128 INFO  HaplotypeCaller - Deflater: IntelDeflater\n",
      "05:43:40.129 INFO  HaplotypeCaller - Inflater: IntelInflater\n",
      "05:43:40.129 INFO  HaplotypeCaller - GCS max retries/reopens: 20\n",
      "05:43:40.129 INFO  HaplotypeCaller - Requester pays: disabled\n",
      "05:43:40.129 INFO  HaplotypeCaller - Initializing engine\n",
      "05:43:44.003 INFO  IntervalArgumentCollection - Processing 1001 bp from intervals\n",
      "05:43:44.012 INFO  HaplotypeCaller - Done initializing engine\n",
      "05:43:44.565 INFO  HaplotypeCallerEngine - Disabling physical phasing, which is supported only for reference-model confidence output\n",
      "05:43:44.621 INFO  NativeLibraryLoader - Loading libgkl_utils.so from jar:file:/etc/gatk-4.1.3.0/gatk-package-4.1.3.0-local.jar!/com/intel/gkl/native/libgkl_utils.so\n",
      "05:43:44.623 INFO  NativeLibraryLoader - Loading libgkl_pairhmm_omp.so from jar:file:/etc/gatk-4.1.3.0/gatk-package-4.1.3.0-local.jar!/com/intel/gkl/native/libgkl_pairhmm_omp.so\n",
      "05:43:44.678 INFO  IntelPairHmm - Flush-to-zero (FTZ) is enabled when running PairHMM\n",
      "05:43:44.679 INFO  IntelPairHmm - Available threads: 1\n",
      "05:43:44.679 INFO  IntelPairHmm - Requested threads: 4\n",
      "05:43:44.679 WARN  IntelPairHmm - Using 1 available threads, but 4 were requested\n",
      "05:43:44.681 INFO  PairHMM - Using the OpenMP multi-threaded AVX-accelerated native PairHMM implementation\n",
      "05:43:44.730 INFO  ProgressMeter - Starting traversal\n",
      "05:43:44.731 INFO  ProgressMeter -        Current Locus  Elapsed Minutes     Regions Processed   Regions/Minute\n",
      "05:43:47.471 WARN  InbreedingCoeff - InbreedingCoeff will not be calculated; at least 10 samples must have called genotypes\n",
      "05:43:47.951 INFO  HaplotypeCaller - 46 read(s) filtered by: ((((((((MappingQualityReadFilter AND MappingQualityAvailableReadFilter) AND MappedReadFilter) AND NotSecondaryAlignmentReadFilter) AND NotDuplicateReadFilter) AND PassesVendorQualityCheckReadFilter) AND NonZeroReferenceLengthAlignmentReadFilter) AND GoodCigarReadFilter) AND WellformedReadFilter)\n",
      "  46 read(s) filtered by: (((((((MappingQualityReadFilter AND MappingQualityAvailableReadFilter) AND MappedReadFilter) AND NotSecondaryAlignmentReadFilter) AND NotDuplicateReadFilter) AND PassesVendorQualityCheckReadFilter) AND NonZeroReferenceLengthAlignmentReadFilter) AND GoodCigarReadFilter)\n",
      "      46 read(s) filtered by: ((((((MappingQualityReadFilter AND MappingQualityAvailableReadFilter) AND MappedReadFilter) AND NotSecondaryAlignmentReadFilter) AND NotDuplicateReadFilter) AND PassesVendorQualityCheckReadFilter) AND NonZeroReferenceLengthAlignmentReadFilter)\n",
      "          46 read(s) filtered by: (((((MappingQualityReadFilter AND MappingQualityAvailableReadFilter) AND MappedReadFilter) AND NotSecondaryAlignmentReadFilter) AND NotDuplicateReadFilter) AND PassesVendorQualityCheckReadFilter)\n",
      "              46 read(s) filtered by: ((((MappingQualityReadFilter AND MappingQualityAvailableReadFilter) AND MappedReadFilter) AND NotSecondaryAlignmentReadFilter) AND NotDuplicateReadFilter)\n",
      "                  4 read(s) filtered by: (((MappingQualityReadFilter AND MappingQualityAvailableReadFilter) AND MappedReadFilter) AND NotSecondaryAlignmentReadFilter)\n",
      "                      4 read(s) filtered by: ((MappingQualityReadFilter AND MappingQualityAvailableReadFilter) AND MappedReadFilter)\n",
      "                          4 read(s) filtered by: (MappingQualityReadFilter AND MappingQualityAvailableReadFilter)\n",
      "                              4 read(s) filtered by: MappingQualityReadFilter \n",
      "                  42 read(s) filtered by: NotDuplicateReadFilter \n",
      "\n",
      "05:43:47.956 INFO  ProgressMeter -             unmapped              0.1                     8            149.1\n",
      "05:43:47.956 INFO  ProgressMeter - Traversal complete. Processed 8 total regions in 0.1 minutes.\n",
      "05:43:47.974 INFO  VectorLoglessPairHMM - Time spent in setup for JNI call : 0.006218373\n",
      "05:43:47.975 INFO  PairHMM - Total compute time in PairHMM computeLogLikelihoods() : 0.061393951\n",
      "05:43:47.975 INFO  SmithWatermanAligner - Total compute time in java Smith-Waterman : 0.11 sec\n",
      "05:43:48.045 INFO  HaplotypeCaller - Shutting down engine\n",
      "[July 28, 2022 at 5:43:48 AM UTC] org.broadinstitute.hellbender.tools.walkers.haplotypecaller.HaplotypeCaller done. Elapsed time: 0.14 minutes.\n",
      "Runtime.totalMemory()=247394304\n"
     ]
    }
   ],
   "source": [
    "! gatk HaplotypeCaller \\\n",
    "-R {GERM_DATA}/ref/ref.fasta \\\n",
    "-I {GERM_DATA}/bams/mother.bam \\\n",
    "-O sandbox/motherHCdebug.vcf \\\n",
    "-bamout sandbox/motherHCdebug.bam \\\n",
    "-L 20:10,002,000-10,003,000"
   ]
  },
  {
   "cell_type": "markdown",
   "metadata": {},
   "source": [
    "*Cell 39: Load the `bamout` file into the IGV window*"
   ]
  },
  {
   "cell_type": "code",
   "execution_count": 33,
   "metadata": {},
   "outputs": [],
   "source": [
    "bamout_track = {\n",
    "\"name\": \"Mother HC bamout\",\n",
    "\"url\": \"files/sandbox/motherHCdebug.bam\",\n",
    "\"indexURL\": \"files/sandbox/motherHCdebug.bai\",\n",
    "\"height\": 500,\n",
    "\"format\": \"bam\"\n",
    "}\n",
    "second_browser.add_track(Track(**bamout_track))"
   ]
  },
  {
   "cell_type": "markdown",
   "metadata": {},
   "source": [
    "This concludes the GATK variant calling section of this notebook. \n",
    "\n",
    "----"
   ]
  },
  {
   "cell_type": "code",
   "execution_count": null,
   "metadata": {},
   "outputs": [],
   "source": []
  }
 ],
 "metadata": {
  "kernelspec": {
   "display_name": "Python 3",
   "language": "python",
   "name": "python3"
  },
  "language_info": {
   "codemirror_mode": {
    "name": "ipython",
    "version": 3
   },
   "file_extension": ".py",
   "mimetype": "text/x-python",
   "name": "python",
   "nbconvert_exporter": "python",
   "pygments_lexer": "ipython3",
   "version": "3.7.12"
  },
  "toc": {
   "base_numbering": 1,
   "nav_menu": {},
   "number_sections": true,
   "sideBar": true,
   "skip_h1_title": false,
   "title_cell": "Table of Contents",
   "title_sidebar": "Contents",
   "toc_cell": false,
   "toc_position": {},
   "toc_section_display": true,
   "toc_window_display": true
  }
 },
 "nbformat": 4,
 "nbformat_minor": 2
}
