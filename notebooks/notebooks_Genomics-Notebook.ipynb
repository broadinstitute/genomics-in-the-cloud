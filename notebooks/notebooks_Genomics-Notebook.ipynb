{
 "cells": [
  {
   "cell_type": "markdown",
   "metadata": {},
   "source": [
    "**Genomics Notebook v1**  \n",
    "This notebook is part of the materials distributed with [Genomics in the Cloud](https://oreil.ly/genomics-cloud), an O'Reilly book by Geraldine A. Van der Auwera and Brian D. O'Connor. You can read it [online in the O'Reilly library](https://learning.oreilly.com/library/view/genomics-in-the/9781491975183/)\n",
    "or [order the hardcopy on Amazon](https://www.amazon.com/Genomics-Cloud-GATK-Spark-Docker/dp/1491975199/). The notebook can be used on its own (see configuration notes below); the book provides additional context, instructions and discussion.\n",
    "\n",
    "**Runtime configuration**   \n",
    "The exercises in this notebook were developed in a default [Terra](https://app.terra.bio/) runtime environment (Jan 14 2020) corresponding to the container `us.gcr.io/broad-dsp-gcr-public/terra-jupyter-gatk:0.0.13`, complemented by a [startup script](gs://genomics-in-the-cloud/v1/scripts/install_GATK_4130_with_igv.sh) that installs GATK version 4.1.3.0 and an IGV plugin. \n",
    "\n",
    "**Kernel**  \n",
    "By default this notebook opens on a Python 3 kernel. When you have the notebook running in EDIT mode, the upper right corner of the notebook (under the Notebook Runtime widget) should display the label `Python3`. \n",
    "\n",
    "----"
   ]
  },
  {
   "cell_type": "markdown",
   "metadata": {},
   "source": [
    "# Getting Started with Jupyter in Terra\n",
    "In this section, we run through some exercises to familiarize you with the basic usage of Jupyter notebooks in the Terra environment.\n",
    "\n",
    "\n",
    "## Running the Hello World Cells\n",
    "We start with some simple Hello World examples, first in Python, then using magic methods to do the equivalent in R and with a command-line tool call.\n",
    "\n",
    "### Python Hello World"
   ]
  },
  {
   "cell_type": "markdown",
   "metadata": {},
   "source": [
    "*Cell 1: Run the basic Hello World in Python*"
   ]
  },
  {
   "cell_type": "code",
   "execution_count": null,
   "metadata": {},
   "outputs": [],
   "source": [
    "print(\"Hello World!\")"
   ]
  },
  {
   "cell_type": "markdown",
   "metadata": {},
   "source": [
    "*Cell 2: Use a variable to parameterize the greeting*"
   ]
  },
  {
   "cell_type": "code",
   "execution_count": null,
   "metadata": {},
   "outputs": [],
   "source": [
    "greeting = \"Hello World!\"\n",
    "print(greeting)"
   ]
  },
  {
   "cell_type": "markdown",
   "metadata": {},
   "source": [
    "*Cells 3 and 4: Separate the variable declaration and `print` command to demonstrate that state is conserved across cells*"
   ]
  },
  {
   "cell_type": "code",
   "execution_count": null,
   "metadata": {},
   "outputs": [],
   "source": [
    "greeting = \"Hello World!\""
   ]
  },
  {
   "cell_type": "code",
   "execution_count": null,
   "metadata": {},
   "outputs": [],
   "source": [
    "print(greeting)"
   ]
  },
  {
   "cell_type": "markdown",
   "metadata": {},
   "source": [
    "### R Hello World using Python magic methods"
   ]
  },
  {
   "cell_type": "markdown",
   "metadata": {},
   "source": [
    "*Cell 5: Import the `rpy` package and activate the notebook extension*"
   ]
  },
  {
   "cell_type": "code",
   "execution_count": null,
   "metadata": {},
   "outputs": [],
   "source": [
    "import rpy2\n",
    "%load_ext rpy2.ipython"
   ]
  },
  {
   "cell_type": "markdown",
   "metadata": {},
   "source": [
    "*Cell 6: Run the R Hello World with single-line R interpretation using `%R`*"
   ]
  },
  {
   "cell_type": "code",
   "execution_count": null,
   "metadata": {},
   "outputs": [],
   "source": [
    "%R print (\"Hello World!\")"
   ]
  },
  {
   "cell_type": "markdown",
   "metadata": {},
   "source": [
    "*Cell 7: Run the R Hello World with a variable and with whole-cell R interpretation using `%%R`*"
   ]
  },
  {
   "cell_type": "code",
   "execution_count": null,
   "metadata": {},
   "outputs": [],
   "source": [
    "%%R\n",
    "greeting <- \"Hello World!\"\n",
    "print(greeting)"
   ]
  },
  {
   "cell_type": "markdown",
   "metadata": {},
   "source": [
    "### Command-line tool Hello World using Python magic methods"
   ]
  },
  {
   "cell_type": "markdown",
   "metadata": {},
   "source": [
    "*Cell 8: Run the command-line tool `echo` using `!`*"
   ]
  },
  {
   "cell_type": "code",
   "execution_count": null,
   "metadata": {},
   "outputs": [],
   "source": [
    "! echo \"Hello World!\""
   ]
  },
  {
   "cell_type": "markdown",
   "metadata": {},
   "source": [
    "## Using gsutil to Interact with Google Cloud Storage Buckets\n",
    "Now that we know how to call command-line tool from the notebook, we look at how to pull in data from GCS buckets "
   ]
  },
  {
   "cell_type": "markdown",
   "metadata": {},
   "source": [
    "*Cell 9: List the bucket contents*"
   ]
  },
  {
   "cell_type": "code",
   "execution_count": null,
   "metadata": {},
   "outputs": [],
   "source": [
    "! gsutil ls gs://genomics-in-the-cloud/"
   ]
  },
  {
   "cell_type": "markdown",
   "metadata": {},
   "source": [
    "*Cell 10: Copy a file from the bucket to the notebook's local storage*"
   ]
  },
  {
   "cell_type": "code",
   "execution_count": null,
   "metadata": {},
   "outputs": [],
   "source": [
    "! gsutil cp gs://genomics-in-the-cloud/hello.txt ."
   ]
  },
  {
   "cell_type": "markdown",
   "metadata": {},
   "source": [
    "*Cell 11: Read the contents of a locally-stored text file*"
   ]
  },
  {
   "cell_type": "code",
   "execution_count": null,
   "metadata": {},
   "outputs": [],
   "source": [
    "! cat hello.txt"
   ]
  },
  {
   "cell_type": "markdown",
   "metadata": {},
   "source": [
    "## Setting Up a Variable Pointing to the Germline Data in the Book Bucket\n",
    "We're going to want to access the data in the bucket multiple times, so we make a variable to avoid hardcoding and repeating file paths."
   ]
  },
  {
   "cell_type": "markdown",
   "metadata": {},
   "source": [
    "*Cell 12: Create a Python variable*"
   ]
  },
  {
   "cell_type": "code",
   "execution_count": null,
   "metadata": {},
   "outputs": [],
   "source": [
    "GERM_DATA = \"gs://genomics-in-the-cloud/v1/data/germline\""
   ]
  },
  {
   "cell_type": "markdown",
   "metadata": {},
   "source": [
    "*Cell 13: Use the variable to list the bucket contents*  \n",
    "*(Erratum: this cell was erroneously numbered 14 in the initial print run)*"
   ]
  },
  {
   "cell_type": "code",
   "execution_count": null,
   "metadata": {},
   "outputs": [],
   "source": [
    "! gsutil ls {GERM_DATA}"
   ]
  },
  {
   "cell_type": "markdown",
   "metadata": {},
   "source": [
    "*Cell 14: List the `bams` directory to get the paths of the files it contains*"
   ]
  },
  {
   "cell_type": "code",
   "execution_count": null,
   "metadata": {},
   "outputs": [],
   "source": [
    "! gsutil ls {GERM_DATA}/bams"
   ]
  },
  {
   "cell_type": "markdown",
   "metadata": {},
   "source": [
    "*Cell 15: Copy the BAM file and index for the mother*"
   ]
  },
  {
   "cell_type": "code",
   "execution_count": null,
   "metadata": {},
   "outputs": [],
   "source": [
    "! gsutil cp {GERM_DATA}/bams/mother.ba* ."
   ]
  },
  {
   "cell_type": "markdown",
   "metadata": {},
   "source": [
    "*Cell 16: List the local working directory to confirm the success of the copy operation*"
   ]
  },
  {
   "cell_type": "code",
   "execution_count": null,
   "metadata": {},
   "outputs": [],
   "source": [
    "! ls ."
   ]
  },
  {
   "cell_type": "markdown",
   "metadata": {},
   "source": [
    "## Setting Up a Sandbox and Saving Output Files to the Workspace Bucket\n",
    "Now that we know how to bring in data, let's go over how we're going to save the outputs of any analyses we run."
   ]
  },
  {
   "cell_type": "markdown",
   "metadata": {},
   "source": [
    "*Cell 17: Create a new directory, ignoring any errors if the path already exists (`-p`)*"
   ]
  },
  {
   "cell_type": "code",
   "execution_count": null,
   "metadata": {},
   "outputs": [],
   "source": [
    "! mkdir -p sandbox/"
   ]
  },
  {
   "cell_type": "markdown",
   "metadata": {},
   "source": [
    "*Cell 18: Move the mother BAM and index files that we copied earlier to the sandbox*"
   ]
  },
  {
   "cell_type": "code",
   "execution_count": null,
   "metadata": {},
   "outputs": [],
   "source": [
    "! mv mother.ba* sandbox/"
   ]
  },
  {
   "cell_type": "markdown",
   "metadata": {},
   "source": [
    "*Cell 19: List the contents of the sandbox to check that everything is where you expect it to be*"
   ]
  },
  {
   "cell_type": "code",
   "execution_count": null,
   "metadata": {},
   "outputs": [],
   "source": [
    "! ls sandbox"
   ]
  },
  {
   "cell_type": "markdown",
   "metadata": {},
   "source": [
    "*Cell 20: Import the `os` package, look up the value of the `WORKSPACE_BUCKET` environment variable (set by Terra at the kernel level) and store it in a Python variable for easy access*"
   ]
  },
  {
   "cell_type": "code",
   "execution_count": null,
   "metadata": {},
   "outputs": [],
   "source": [
    "import os\n",
    "WS_BUCKET = os.environ['WORKSPACE_BUCKET']"
   ]
  },
  {
   "cell_type": "markdown",
   "metadata": {},
   "source": [
    "*Cell 21: Check the value of your new variable*"
   ]
  },
  {
   "cell_type": "code",
   "execution_count": null,
   "metadata": {},
   "outputs": [],
   "source": [
    "print(WS_BUCKET)"
   ]
  },
  {
   "cell_type": "markdown",
   "metadata": {},
   "source": [
    "*Cell 22: List the full (`-r`) contents of the workspace bucket (results will depend on what other work you have done in your workspace)*"
   ]
  },
  {
   "cell_type": "code",
   "execution_count": null,
   "metadata": {},
   "outputs": [],
   "source": [
    "! gsutil ls -r {WS_BUCKET}"
   ]
  },
  {
   "cell_type": "markdown",
   "metadata": {},
   "source": [
    "*Cell 23: Copy the contents of your sandbox to the workspace bucket (using `-m` for efficient transfer)*"
   ]
  },
  {
   "cell_type": "code",
   "execution_count": null,
   "metadata": {},
   "outputs": [],
   "source": [
    "! gsutil -m cp -r sandbox {WS_BUCKET}"
   ]
  },
  {
   "cell_type": "markdown",
   "metadata": {},
   "source": [
    "*Cell 24: List the contents of the copy of your sandbox that is now stored in the bucket*"
   ]
  },
  {
   "cell_type": "code",
   "execution_count": null,
   "metadata": {},
   "outputs": [],
   "source": [
    "! gsutil ls {WS_BUCKET}/sandbox"
   ]
  },
  {
   "cell_type": "markdown",
   "metadata": {},
   "source": [
    "This completes the \"getting started\" portion of this notebook.\n",
    "\n",
    "----"
   ]
  },
  {
   "cell_type": "markdown",
   "metadata": {},
   "source": [
    "# Visualizing Genomic Data in an Embedded IGV Window\n",
    "In this section, we embed IGV windows in the notebook in order to visualize genomic data without leaving the notebook environment.\n",
    "\n",
    "## Setting Up the Embedded IGV Browser\n",
    "First we need to import the IGV package and initialize a browser window."
   ]
  },
  {
   "cell_type": "markdown",
   "metadata": {},
   "source": [
    "*Cell 25: Import the IGV package*"
   ]
  },
  {
   "cell_type": "code",
   "execution_count": null,
   "metadata": {},
   "outputs": [],
   "source": [
    "import igv"
   ]
  },
  {
   "cell_type": "markdown",
   "metadata": {},
   "source": [
    "*Cell 26: Initialize the browser instance with a genome reference and an interval to focus on (optional)*"
   ]
  },
  {
   "cell_type": "code",
   "execution_count": null,
   "metadata": {},
   "outputs": [],
   "source": [
    "IGV_Explore = igv.Browser(\n",
    "{\"genome\": \"hg19\",\n",
    "\"locus\": \"chr20:10,025,584-10,036,143\"\n",
    "}\n",
    ")"
   ]
  },
  {
   "cell_type": "markdown",
   "metadata": {},
   "source": [
    "*Cell 27: Display the browser window*"
   ]
  },
  {
   "cell_type": "code",
   "execution_count": null,
   "metadata": {},
   "outputs": [],
   "source": [
    "IGV_Explore.show()"
   ]
  },
  {
   "cell_type": "markdown",
   "metadata": {},
   "source": [
    "## Adding Data to the IGV Browser\n",
    "Now we can add data by pointing to files in a GCS bucket."
   ]
  },
  {
   "cell_type": "markdown",
   "metadata": {},
   "source": [
    "*Cells 28 and 29: Define data tracks for two BAM files (whole genome and exome versions of the mother sample)*"
   ]
  },
  {
   "cell_type": "code",
   "execution_count": null,
   "metadata": {},
   "outputs": [],
   "source": [
    "IGV_Explore.load_track(\n",
    "{\n",
    "\"name\": \"Mother WGS\",\n",
    "\"url\": GERM_DATA + \"/bams/mother.bam\",\n",
    "\"indexURL\": GERM_DATA + \"/bams/mother.bai\",\n",
    "\"format\": \"bam\"\n",
    "})"
   ]
  },
  {
   "cell_type": "code",
   "execution_count": null,
   "metadata": {},
   "outputs": [],
   "source": [
    "IGV_Explore.load_track(\n",
    "{\n",
    "\"name\": \"Mother Exome\",\n",
    "\"url\": GERM_DATA + \"/bams/motherNEX.bam\",\n",
    "\"indexURL\": GERM_DATA + \"/bams/motherNEX.bai\",\n",
    "\"format\": \"bam\"\n",
    "})"
   ]
  },
  {
   "cell_type": "markdown",
   "metadata": {},
   "source": [
    "## Setting Up an Access Token to View Private Data\n",
    "IGV needs an access token to retrieve data from private buckets (including the workspace bucket)."
   ]
  },
  {
   "cell_type": "markdown",
   "metadata": {},
   "source": [
    "*Cell 30: Emit an acces token and save it to a file*"
   ]
  },
  {
   "cell_type": "code",
   "execution_count": 12,
   "metadata": {},
   "outputs": [],
   "source": [
    "!gcloud auth print-access-token > token.txt"
   ]
  },
  {
   "cell_type": "markdown",
   "metadata": {},
   "source": [
    "**Important note:** As long as this file is saved only to your notebook’s local storage, it is secure because\n",
    "your runtime environment is strictly personal to you and cannot be accessed by others,\n",
    "even if you share your workspace or your notebook with them. But don’t save this\n",
    "file to your workspace bucket! Saving it to the bucket would make it visible to anyone\n",
    "with whom you share the workspace."
   ]
  },
  {
   "cell_type": "markdown",
   "metadata": {},
   "source": [
    "*Cell 31: Read the contents of the token file into a Python variable*"
   ]
  },
  {
   "cell_type": "code",
   "execution_count": null,
   "metadata": {},
   "outputs": [],
   "source": [
    "token_file = open(\"token.txt\",\"r\") \n",
    "token = token_file.readline()"
   ]
  },
  {
   "cell_type": "markdown",
   "metadata": {},
   "source": [
    "*Cell 32: Include the token in the track definition of any private files*"
   ]
  },
  {
   "cell_type": "code",
   "execution_count": null,
   "metadata": {},
   "outputs": [],
   "source": [
    "IGV_Explore.load_track(\n",
    "{\n",
    "\"name\": \"Workspace bucket copy of Mother WGS\",\n",
    "\"url\": WS_BUCKET + \"/sandbox/mother.bam\",\n",
    "\"indexURL\": WS_BUCKET + \"/sandbox/mother.bai\",\n",
    "\"format\": \"bam\",\n",
    "\"oauthToken\": token\n",
    "})"
   ]
  },
  {
   "cell_type": "markdown",
   "metadata": {},
   "source": [
    "This concludes the section on visualizing genomic data.\n",
    "\n",
    "----"
   ]
  },
  {
   "cell_type": "markdown",
   "metadata": {},
   "source": [
    "# Running GATK Commands to Learn, Test, or Troubleshoot\n",
    "Now let's look at how we can run GATK commands inside the notebook.\n",
    "\n",
    "## Running a Basic GATK Command: HaplotypeCaller\n",
    "First we run a simple command like we did in Chapter 5, except we're running directly on the files located in GCS instead of localizing them first."
   ]
  },
  {
   "cell_type": "markdown",
   "metadata": {},
   "source": [
    "*Cell 33: Run HaplotypeCaller on files in GCS*"
   ]
  },
  {
   "cell_type": "code",
   "execution_count": null,
   "metadata": {},
   "outputs": [],
   "source": [
    "! gatk HaplotypeCaller \\\n",
    "-R {GERM_DATA}/ref/ref.fasta \\\n",
    "-I {GERM_DATA}/bams/mother.bam \\\n",
    "-O sandbox/mother_variants.200k.vcf.gz \\\n",
    "-L 20:10,000,000-10,200,000"
   ]
  },
  {
   "cell_type": "markdown",
   "metadata": {},
   "source": [
    "*Cell 34: Verify that the output file is in the sandbox*"
   ]
  },
  {
   "cell_type": "code",
   "execution_count": null,
   "metadata": {},
   "outputs": [],
   "source": [
    "! ls sandbox"
   ]
  },
  {
   "cell_type": "markdown",
   "metadata": {},
   "source": [
    "**Note:** This works with GATK from anywhere with an internet connection! We could even write the output directly to a GCS bucket if we wanted to; the output filepath just has to start with a valid `gs://` bucket address. "
   ]
  },
  {
   "cell_type": "markdown",
   "metadata": {},
   "source": [
    "## Loading the Data (BAM and VCF) into IGV\n",
    "Now we do a simple visual check of the result."
   ]
  },
  {
   "cell_type": "markdown",
   "metadata": {},
   "source": [
    "*Cell 35: Initialize a new IGV window*"
   ]
  },
  {
   "cell_type": "code",
   "execution_count": null,
   "metadata": {},
   "outputs": [],
   "source": [
    "IGV_InspectCalls = igv.Browser(\n",
    "{\"genome\": \"hg19\",\n",
    "\"locus\": \"chr20:10,002,294-10,002,623\"\n",
    "}\n",
    ")\n",
    "\n",
    "IGV_InspectCalls.show()"
   ]
  },
  {
   "cell_type": "markdown",
   "metadata": {},
   "source": [
    "*Cell 36: Load the variant calls produced by the HaplotypeCaller above*"
   ]
  },
  {
   "cell_type": "code",
   "execution_count": null,
   "metadata": {},
   "outputs": [],
   "source": [
    "IGV_InspectCalls.load_track(\n",
    "{\n",
    "\"name\": \"Mother variants\",\n",
    "\"url\": \"files/sandbox/mother_variants.200k.vcf.gz\",\n",
    "\"indexURL\": \"files/sandbox/mother_variants.200k.vcf.gz.tbi\",\n",
    "\"format\": \"vcf\"\n",
    "})"
   ]
  },
  {
   "cell_type": "markdown",
   "metadata": {},
   "source": [
    "*Cell 37: Load the original BAM file on which you ran HaplotypeCaller*"
   ]
  },
  {
   "cell_type": "code",
   "execution_count": null,
   "metadata": {},
   "outputs": [],
   "source": [
    "IGV_InspectCalls.load_track(\n",
    "{\n",
    "\"name\": \"Mother WGS\",\n",
    "\"url\": GERM_DATA + \"/bams/mother.bam\",\n",
    "\"indexURL\": GERM_DATA + \"/bams/mother.bai\",\n",
    "\"format\": \"bam\"\n",
    "})"
   ]
  },
  {
   "cell_type": "markdown",
   "metadata": {},
   "source": [
    "## Troubleshooting a Questionable Variant Call in the Embedded IGV Browser\n",
    "Something looks odd so we do some systematic troubleshooting..."
   ]
  },
  {
   "cell_type": "markdown",
   "metadata": {},
   "source": [
    "*Cell 38: Run HaplotypeCaller on the problem region to produce an output BAM, the `bamout`*"
   ]
  },
  {
   "cell_type": "code",
   "execution_count": null,
   "metadata": {},
   "outputs": [],
   "source": [
    "! gatk HaplotypeCaller \\\n",
    "-R {GERM_DATA}/ref/ref.fasta \\\n",
    "-I {GERM_DATA}/bams/mother.bam \\\n",
    "-O sandbox/motherHCdebug.vcf \\\n",
    "-bamout sandbox/motherHCdebug.bam \\\n",
    "-L 20:10,002,000-10,003,000"
   ]
  },
  {
   "cell_type": "markdown",
   "metadata": {},
   "source": [
    "*Cell 39: Load the `bamout` file into the IGV window*"
   ]
  },
  {
   "cell_type": "code",
   "execution_count": null,
   "metadata": {},
   "outputs": [],
   "source": [
    "IGV_InspectCalls.load_track(\n",
    "{\n",
    "\"name\": \"Mother HC bamout\",\n",
    "\"url\": \"files/sandbox/motherHCdebug.bam\",\n",
    "\"indexURL\": \"files/sandbox/motherHCdebug.bai\",\n",
    "\"height\": 500,\n",
    "\"format\": \"bam\"\n",
    "})"
   ]
  },
  {
   "cell_type": "markdown",
   "metadata": {},
   "source": [
    "This concludes the GATK variant calling section of this notebook. \n",
    "\n",
    "----"
   ]
  },
  {
   "cell_type": "markdown",
   "metadata": {},
   "source": [
    "# Visualizing Variant Context Annotation Data\n",
    "Finally, let's look at some options for plotting variant annotation data from a callset that has been annotated with metadata from the Genomes in a Bottle (GiaB) truth set.\n",
    "\n",
    "## Exporting Annotations of Interest with VariantsToTable\n",
    "First we need to extract annotations from a VCF file to a table format, then load them into an R dataframe."
   ]
  },
  {
   "cell_type": "markdown",
   "metadata": {},
   "source": [
    "*Cell 40: Run the GATK tool VariantsToTable to write the annotations of interest to a table to make them easier to work with*"
   ]
  },
  {
   "cell_type": "code",
   "execution_count": null,
   "metadata": {},
   "outputs": [],
   "source": [
    "! gatk VariantsToTable \\\n",
    "-V {GERM_DATA}/vcfs/motherSNP.giab.vcf.gz \\\n",
    "-F CHROM -F POS -F QUAL \\\n",
    "-F BaseQRankSum -F MQRankSum -F ReadPosRankSum \\\n",
    "-F DP -F FS -F MQ -F QD -F SOR \\\n",
    "-F giab.callsets \\\n",
    "-GF GQ \\\n",
    "-O sandbox/motherSNP.giab.txt"
   ]
  },
  {
   "cell_type": "markdown",
   "metadata": {},
   "source": [
    "*Cell 41: View part of the file to see what the resulting table contains*"
   ]
  },
  {
   "cell_type": "code",
   "execution_count": null,
   "metadata": {},
   "outputs": [],
   "source": [
    "! cat sandbox/motherSNP.giab.txt | head -n300"
   ]
  },
  {
   "cell_type": "markdown",
   "metadata": {},
   "source": [
    "*Cell 42: Load the table into an R dataframe*"
   ]
  },
  {
   "cell_type": "code",
   "execution_count": null,
   "metadata": {},
   "outputs": [],
   "source": [
    "%%R\n",
    "library(readr)\n",
    "motherSNP.giab <- read_delim(\"sandbox/motherSNP.giab.txt\",\"\\t\",\n",
    "escape_double = FALSE,\n",
    "col_types = cols(giab.callsets = col_character()), trim_ws = TRUE)"
   ]
  },
  {
   "cell_type": "markdown",
   "metadata": {},
   "source": [
    "## Loading R Script to Make Plotting Functions Available\n",
    "We provide an R script containing several predefined plotting functions."
   ]
  },
  {
   "cell_type": "markdown",
   "metadata": {},
   "source": [
    "*Cell 43: Copy the R script from the bucket to the notebook's working directory, then load it into the R environment*"
   ]
  },
  {
   "cell_type": "code",
   "execution_count": null,
   "metadata": {},
   "outputs": [],
   "source": [
    "! gsutil cp gs://genomics-in-the-cloud/v1/scripts/plotting.R .\n",
    "%R source(\"plotting.R\")"
   ]
  },
  {
   "cell_type": "markdown",
   "metadata": {},
   "source": [
    "## Making Density Plots for QUAL by Using makeDensityPlot\n",
    "We can make density plots to visualize the distribution of a single annotation in our callset."
   ]
  },
  {
   "cell_type": "markdown",
   "metadata": {},
   "source": [
    "*Cell 44: Use the predefined function `makeDensityPlot` to visualize the distribution of the QUAL annotation*"
   ]
  },
  {
   "cell_type": "code",
   "execution_count": null,
   "metadata": {},
   "outputs": [],
   "source": [
    "%%R\n",
    "QUAL_density = makeDensityPlot(motherSNP.giab, \"QUAL\")\n",
    "QUAL_density"
   ]
  },
  {
   "cell_type": "markdown",
   "metadata": {},
   "source": [
    "*Cell 45: Created a second density plot focused on values of QUAL up to 10,000 maximum*"
   ]
  },
  {
   "cell_type": "code",
   "execution_count": null,
   "metadata": {},
   "outputs": [],
   "source": [
    "%%R\n",
    "QUAL_density_zoom = makeDensityPlot(motherSNP.giab, \"QUAL\", xmax=10000)\n",
    "QUAL_density_zoom"
   ]
  },
  {
   "cell_type": "markdown",
   "metadata": {},
   "source": [
    "*Cell 46: Split the variants into subsets based on the number of callsets they were concordant with in GiaB*"
   ]
  },
  {
   "cell_type": "code",
   "execution_count": null,
   "metadata": {},
   "outputs": [],
   "source": [
    "%%R\n",
    "QUAL_density_split = makeDensityPlot(motherSNP.giab, \"QUAL\", xmax=10000,\n",
    "split=\"giab.callsets\")\n",
    "QUAL_density_split"
   ]
  },
  {
   "cell_type": "markdown",
   "metadata": {},
   "source": [
    "**Note:** In this exercise, a higher number of concordant callsets is a likely indicator that a variant call is a true positive rather than an artifact."
   ]
  },
  {
   "cell_type": "markdown",
   "metadata": {},
   "source": [
    "## Making a Scatter Plot of QUAL Versus DP\n",
    "We can make scatter plots to visualize the relationship between two annotations. "
   ]
  },
  {
   "cell_type": "markdown",
   "metadata": {},
   "source": [
    "*Cell 47: Use the predefined function `makeScatterPlot` to examine the relationship between QUAL and DP*"
   ]
  },
  {
   "cell_type": "code",
   "execution_count": null,
   "metadata": {},
   "outputs": [],
   "source": [
    "%%R\n",
    "QUAL_DP_scatterplot = makeScatterPlot(motherSNP.giab, \"QUAL\", \"DP\")\n",
    "QUAL_DP_scatterplot"
   ]
  },
  {
   "cell_type": "markdown",
   "metadata": {},
   "source": [
    "**Note:** Like above, you can use `xmax` as well as the y-axis equivalent `ymax` to zoom in on ranges of values, and `split` to view the breakdown of the dataa based on the GiaB callsets annotation. "
   ]
  },
  {
   "cell_type": "markdown",
   "metadata": {},
   "source": [
    "## Making a Scatter Plot Flanked by Marginal Density Plots\n",
    "Finally, we can combine the two types of visualizations."
   ]
  },
  {
   "cell_type": "markdown",
   "metadata": {},
   "source": [
    "*Cell 48: Use the predefined function `makeScatterPlotWithMarginalDensity` to visualize both annotations' density plots as well as the scatter plot.* "
   ]
  },
  {
   "cell_type": "code",
   "execution_count": null,
   "metadata": {},
   "outputs": [],
   "source": [
    "%%R\n",
    "QUAL_DP_comboplot = makeScatterPlotWithMarginalDensity(motherSNP.giab, \"QUAL\",\n",
    "\"DP\", split=\"giab.callsets\", xmax=10000, ymax=100, ptSize=0.5, ptAlpha=0.05)\n",
    "QUAL_DP_comboplot"
   ]
  },
  {
   "cell_type": "markdown",
   "metadata": {},
   "source": [
    "This concludes the visualization section of this notebook.\n",
    "\n",
    "**Important note**  \n",
    "This particular method of manipulating and visualizing variant data would not scale well for larger datasets, because it involves reading a potentially very large table directly into memory. We chose it for this tutorial because it has the advantage of being approachable\n",
    "for newcomers, and our primary goal was to give you a sense of the possibilities and familiarize you with the basic mechanics involved. However, for full-scale work,\n",
    "you’ll probably want to use more robust methods. We recommend checking out [Hail](https://hail.is), a Python-based, genetics-focused toolkit that is extraordinarily scalable and includes a suite of variant quality control functions, among other capabilities. Like some of the more recent GATK tools, Hail is capable of using Spark to parallelize analysis, and has been used to perform genome-wide association studies (GWAS) on massive datasets like the UK Biobank. The Terra Library has a few workspaces that feature Hail, including a set of tutorial notebooks and a [complete GWAS example](https://app.terra.bio/#workspaces/amp-t2d-op/2019_ASHG_Reproducible_GWAS-V2).\n",
    "\n",
    "----\n",
    "\n",
    "# Epilogue\n",
    "\n",
    "Whether you're following along with the Genomics in the Cloud book or not, we encourage you to use this notebook as a starting point to experiment with the tools and approaches that we've introduced here. We plan to add more tutorials on [the book's blog](https://broadinstitute.github.io/genomics-in-the-cloud/) so don't hesitate to suggest topics of interest. "
   ]
  },
  {
   "cell_type": "code",
   "execution_count": null,
   "metadata": {},
   "outputs": [],
   "source": []
  }
 ],
 "metadata": {
  "kernelspec": {
   "display_name": "Python 3",
   "language": "python",
   "name": "python3"
  },
  "language_info": {
   "codemirror_mode": {
    "name": "ipython",
    "version": 3
   },
   "file_extension": ".py",
   "mimetype": "text/x-python",
   "name": "python",
   "nbconvert_exporter": "python",
   "pygments_lexer": "ipython3",
   "version": "3.7.6"
  },
  "toc": {
   "base_numbering": 1,
   "nav_menu": {},
   "number_sections": true,
   "sideBar": true,
   "skip_h1_title": false,
   "title_cell": "Table of Contents",
   "title_sidebar": "Contents",
   "toc_cell": false,
   "toc_position": {},
   "toc_section_display": true,
   "toc_window_display": true
  }
 },
 "nbformat": 4,
 "nbformat_minor": 2
}
